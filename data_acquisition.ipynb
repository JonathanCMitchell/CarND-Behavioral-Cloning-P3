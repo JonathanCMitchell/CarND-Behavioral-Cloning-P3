{
 "cells": [
  {
   "cell_type": "code",
   "execution_count": 1,
   "metadata": {
    "collapsed": false
   },
   "outputs": [],
   "source": [
    "import pickle\n",
    "import os\n",
    "import pandas as pd\n",
    "import numpy as np\n",
    "import matplotlib.pyplot as plt\n",
    "import matplotlib.image as mpimg\n",
    "import cv2\n",
    "import math\n",
    "%matplotlib inline"
   ]
  },
  {
   "cell_type": "code",
   "execution_count": 2,
   "metadata": {
    "collapsed": false
   },
   "outputs": [
    {
     "name": "stdout",
     "output_type": "stream",
     "text": [
      "\u001b[0m\u001b[01;34mannie_recovery\u001b[0m/               model-weights2.h5\r\n",
      "\u001b[01;34mCarND-Behavioral-Cloning-P3\u001b[0m/  model-weightsU2.h5\r\n",
      "clone-personal.ipynb          model-weightsU.h5\r\n",
      "\u001b[01;34mdata\u001b[0m/                         Pipeline.ipynb\r\n",
      "\u001b[01;34mdata_ac\u001b[0m/                      \u001b[01;34mrecover_laps_backwards_2\u001b[0m/\r\n",
      "\u001b[01;34mData_ac_backwards_training\u001b[0m/   \u001b[01;34mrecovery_laps\u001b[0m/\r\n",
      "\u001b[01;34mData_Acquisition_2\u001b[0m/           \u001b[01;34mrecovery_laps_more\u001b[0m/\r\n",
      "data_acquisition.ipynb        training_data_clr_hist.p\r\n",
      "data_acquisition_method.txt   training_data_clr.p\r\n",
      "model11.h5                    training_data_g.p\r\n",
      "model2.h5                     training_data.p\r\n",
      "model3.h5                     training_data_refactor.p\r\n",
      "modelU2.h5                    training_data_udacityonly.p\r\n",
      "modelU.h5                     training_data_udacity.p\r\n",
      "model-weights1.h5             tree.txt\r\n"
     ]
    }
   ],
   "source": [
    "ls"
   ]
  },
  {
   "cell_type": "markdown",
   "metadata": {},
   "source": [
    "#### Create Data Frame"
   ]
  },
  {
   "cell_type": "code",
   "execution_count": 3,
   "metadata": {
    "collapsed": true
   },
   "outputs": [],
   "source": [
    "def createDataFrame(data_path):\n",
    "    \"\"\"\n",
    "    input: data_path: path to data\n",
    "    return: data frame\n",
    "    \"\"\"\n",
    "    data_frame = pd.read_csv(data_path)\n",
    "    data_frame.columns = ['center', 'left', 'right', 'steering', 'throttle', 'brake', 'speed']\n",
    "    return data_frame"
   ]
  },
  {
   "cell_type": "markdown",
   "metadata": {},
   "source": [
    "#### Create Training Data"
   ]
  },
  {
   "cell_type": "code",
   "execution_count": 4,
   "metadata": {
    "collapsed": false
   },
   "outputs": [
    {
     "data": {
      "text/plain": [
       "(array([ 832.,  744.,  532.,  412.,  229.,  130.,   69.,   31.,   13.,    8.]),\n",
       " array([  3.62328758e-04,   3.46222047e-01,   6.92081765e-01,\n",
       "          1.03794148e+00,   1.38380120e+00,   1.72966092e+00,\n",
       "          2.07552064e+00,   2.42138035e+00,   2.76724007e+00,\n",
       "          3.11309979e+00,   3.45895951e+00]),\n",
       " <a list of 10 Patch objects>)"
      ]
     },
     "execution_count": 4,
     "metadata": {},
     "output_type": "execute_result"
    },
    {
     "data": {
      "image/png": "[encoded data removed]",
      "text/plain": [
       "<matplotlib.figure.Figure at 0x7efd67e92518>"
      ]
     },
     "metadata": {},
     "output_type": "display_data"
    }
   ],
   "source": [
    "n = abs(abs(np.random.normal(size = 3000)))\n",
    "plt.hist(n)"
   ]
  },
  {
   "cell_type": "code",
   "execution_count": 5,
   "metadata": {
    "collapsed": false
   },
   "outputs": [
    {
     "data": {
      "text/plain": [
       "(array([ 20.,  19.,  14.,  25.,  18.,  21.,  15.,  26.,  17.,  25.]),\n",
       " array([ 0.09960377,  1.08265892,  2.06571407,  3.04876923,  4.03182438,\n",
       "         5.01487953,  5.99793468,  6.98098983,  7.96404498,  8.94710013,\n",
       "         9.93015529]),\n",
       " <a list of 10 Patch objects>)"
      ]
     },
     "execution_count": 5,
     "metadata": {},
     "output_type": "execute_result"
    },
    {
     "data": {
      "image/png": "[encoded data removed]",
      "text/plain": [
       "<matplotlib.figure.Figure at 0x7efd63d2afd0>"
      ]
     },
     "metadata": {},
     "output_type": "display_data"
    }
   ],
   "source": [
    "p = 0.001 * np.random.uniform()\n",
    "pos_neg = np.random.uniform(size = 200) * 10\n",
    "plt.hist(pos_neg)"
   ]
  },
  {
   "cell_type": "code",
   "execution_count": 6,
   "metadata": {
    "collapsed": false
   },
   "outputs": [
    {
     "name": "stdout",
     "output_type": "stream",
     "text": [
      "a:  0.01566725190113359\n"
     ]
    }
   ],
   "source": [
    "a = np.random.uniform(-1, 1)/30.0\n",
    "print('a: ', a)"
   ]
  },
  {
   "cell_type": "code",
   "execution_count": 7,
   "metadata": {
    "collapsed": true
   },
   "outputs": [],
   "source": [
    "def appendWithProb(impath, images, meas, ang, threshold):\n",
    "    perturb = 0.001 * np.random.uniform()\n",
    "    if abs(ang) >= threshold:\n",
    "        meas.append(ang)\n",
    "        images.append(impath)\n",
    "        n = abs(abs(np.random.normal()))\n",
    "        if n < 1.5:\n",
    "            pos_neg = np.random.uniform() * 10\n",
    "            if 0 <= pos_neg <= 4.99999999:\n",
    "                images.append(impath)\n",
    "                meas.append(ang + (-1 * perturb))\n",
    "            else:\n",
    "                images.append(impath)\n",
    "                meas.append(ang + (1 * perturb))\n",
    "                \n",
    "                \n",
    "\n",
    "        \n",
    "    elif abs(ang) < threshold:\n",
    "        prob = abs(1 - abs(np.random.normal()))\n",
    "        if prob < 1:\n",
    "            meas.append(ang)\n",
    "            images.append(impath)\n",
    "    return (images, meas)"
   ]
  },
  {
   "cell_type": "code",
   "execution_count": 8,
   "metadata": {
    "collapsed": true
   },
   "outputs": [],
   "source": [
    "# def createTrainingDataPathsCenterLeftRightPrefix(df, start, end, correction_factor, prefix_path):\n",
    "#     \"\"\"\n",
    "#     creates training data and training labels/ measurements from a data frame\n",
    "#     inputs:\n",
    "#     df: pandas DataFrame object\n",
    "#     start: starting row to grab data\n",
    "#     end: ending row to grab data\n",
    "#     correction_factor: factor to correct steering angles\n",
    "#     \"\"\"\n",
    "#     center_images = []\n",
    "#     left_images = []\n",
    "#     right_images = []\n",
    "#     measurements = []\n",
    "#     abs_path_to_IMG = os.path.abspath(prefix_path)\n",
    "#     for idx, row in df.iterrows():\n",
    "#         if start <= idx <= end:\n",
    "#             # center images\n",
    "#             if row['throttle'] > 0.25: #just added\n",
    "#                 image_path = os.path.join(abs_path_to_IMG, row['center'].strip())\n",
    "#                 angle = row['steering']            \n",
    "#                 center_images, measurements = appendWithProb(image_path, center_images, measurements, angle, 0.149)\n",
    "\n",
    "#                 # left images\n",
    "#                 left_images.append(os.path.join(abs_path_to_IMG, row['left'].strip()))\n",
    "#                 measurements.append(row['steering'] + correction_factor)\n",
    "\n",
    "#                 # right images\n",
    "#                 right_images.append(os.path.join(abs_path_to_IMG, row['right'].strip()))\n",
    "#                 measurements.append(row['steering'] - correction_factor)\n",
    "            \n",
    "#     return (np.asarray(center_images), np.asarray(left_images), np.asarray(right_images), np.asarray(measurements, dtype=np.float32))"
   ]
  },
  {
   "cell_type": "code",
   "execution_count": 50,
   "metadata": {
    "collapsed": true
   },
   "outputs": [],
   "source": [
    "def createTrainingDataPathsCenterLeftRightPrefixGood(df, start, end, correction_factor, prefix_path):\n",
    "    \"\"\"\n",
    "    creates training data and training labels/ measurements from a data frame\n",
    "    inputs:\n",
    "    df: pandas DataFrame object\n",
    "    start: starting row to grab data\n",
    "    end: ending row to grab data\n",
    "    correction_factor: factor to correct steering angles\n",
    "    \"\"\"\n",
    "    center_images = []\n",
    "    left_images = []\n",
    "    right_images = []\n",
    "    measurements = []\n",
    "    abs_path_to_IMG = os.path.abspath(prefix_path)\n",
    "    for idx, row in df.iterrows():\n",
    "        if start <= idx <= end:\n",
    "            # center images\n",
    "            center_images.append(os.path.join(abs_path_to_IMG, row['center'].strip()))\n",
    "            measurements.append(row['steering'])\n",
    "\n",
    "            # left images\n",
    "            left_images.append(os.path.join(abs_path_to_IMG, row['left'].strip()))\n",
    "            measurements.append(row['steering'] - correction_factor)\n",
    "\n",
    "            # right images\n",
    "            right_images.append(os.path.join(abs_path_to_IMG, row['right'].strip()))\n",
    "            measurements.append(row['steering'] + correction_factor)\n",
    "            \n",
    "    return (np.asarray(center_images), np.asarray(left_images), np.asarray(right_images), np.asarray(measurements, dtype=np.float32))"
   ]
  },
  {
   "cell_type": "code",
   "execution_count": 9,
   "metadata": {
    "collapsed": true
   },
   "outputs": [],
   "source": [
    "def createTrainingDataPathsCenterLeftRight(df, start, end, correction_factor):\n",
    "    \"\"\"\n",
    "    creates training data and training labels/ measurements from a data frame\n",
    "    inputs:\n",
    "    df: pandas DataFrame object\n",
    "    start: starting row to grab data\n",
    "    end: ending row to grab data\n",
    "    correction_factor: factor to correct steering angles\n",
    "    \"\"\"\n",
    "    center_images = []\n",
    "    left_images = []\n",
    "    right_images = []\n",
    "    measurements = []\n",
    "    for idx, row in df.iterrows():\n",
    "        if start <= idx <= end:\n",
    "            # center images\n",
    "            center_images.append(row['center'].strip())\n",
    "            measurements.append(row['steering'])\n",
    "            \n",
    "            # left images\n",
    "            left_images.append(row['left'].strip())\n",
    "            measurements.append(row['steering'] - correction_factor)\n",
    "            \n",
    "            # right images\n",
    "            right_images.append(row['right'].strip())\n",
    "            measurements.append(row['steering'] + correction_factor)\n",
    "            \n",
    "    return (np.asarray(center_images), np.asarray(left_images), np.asarray(right_images), np.asarray(measurements, dtype=np.float32))"
   ]
  },
  {
   "cell_type": "code",
   "execution_count": 27,
   "metadata": {
    "collapsed": true
   },
   "outputs": [],
   "source": [
    "def createTrainingDataCenterOnly(df, start, end):\n",
    "    \"\"\"\n",
    "    creates training data and training labels/ measurements from a data frame\n",
    "    inputs:\n",
    "    df: pandas DataFrame object\n",
    "    start: starting row to grab data\n",
    "    end: ending row to grab data\n",
    "    correction_factor: factor to correct steering angles\n",
    "    \"\"\"\n",
    "    images = []\n",
    "    measurements = []\n",
    "    \n",
    "    for idx, row in df.iterrows():\n",
    "        if start <= idx <= end:\n",
    "            # center images\n",
    "            images.append(row['center'].strip())\n",
    "            measurements.append(row['steering'])\n",
    "    return (np.asarray(images), np.asarray(measurements, dtype=np.float32))"
   ]
  },
  {
   "cell_type": "code",
   "execution_count": 28,
   "metadata": {
    "collapsed": true
   },
   "outputs": [],
   "source": [
    "def createTrainingDataCenterOnlyFromPrefix(df, start, end, prefix_path):\n",
    "    \"\"\"\n",
    "    creates training data and training labels/ measurements from a data frame\n",
    "    inputs:\n",
    "    df: pandas DataFrame object\n",
    "    start: starting row to grab data\n",
    "    end: ending row to grab data\n",
    "    correction_factor: factor to correct steering angles\n",
    "    \"\"\"\n",
    "    images = []\n",
    "    measurements = []\n",
    "    abs_path_to_IMG = os.path.abspath(prefix_path)\n",
    "    print('abs_path_to_IMG: ', abs_path_to_IMG)\n",
    "    \n",
    "    for idx, row in df.iterrows():\n",
    "        if start <= idx <= end:\n",
    "            # center images\n",
    "            images.append(os.path.join(abs_path_to_IMG, row['center'].strip()))\n",
    "            measurements.append(row['steering'])\n",
    "    return (np.asarray(images), np.asarray(measurements, dtype=np.float32))"
   ]
  },
  {
   "cell_type": "markdown",
   "metadata": {},
   "source": [
    "#### Create data from /data_ac_backwards_training (cw)"
   ]
  },
  {
   "cell_type": "code",
   "execution_count": 29,
   "metadata": {
    "collapsed": false
   },
   "outputs": [
    {
     "name": "stdout",
     "output_type": "stream",
     "text": [
      "length X_train_cw1:  2778\n",
      "length y_train_cw1:  8334\n"
     ]
    }
   ],
   "source": [
    "data_pd_cw1 = createDataFrame('Data_ac_backwards_training/driving_log.csv')\n",
    "X_train_cw1_c, X_train_cw1_l, X_train_cw1_r, y_train_cw1 = createTrainingDataPathsCenterLeftRight(data_pd_cw1, 1164, 3941, 0.15)\n",
    "print('length X_train_cw1: ', len(X_train_cw1_c))\n",
    "print('length y_train_cw1: ', len(y_train_cw1))"
   ]
  },
  {
   "cell_type": "code",
   "execution_count": 30,
   "metadata": {
    "collapsed": false
   },
   "outputs": [],
   "source": [
    "# plt.hist(y_train_cw1,bins=100,range=(-1,1),facecolor=\"r\", histtype = 'step')"
   ]
  },
  {
   "cell_type": "markdown",
   "metadata": {},
   "source": [
    "#### Create data from /data_ac (ccw)"
   ]
  },
  {
   "cell_type": "code",
   "execution_count": 31,
   "metadata": {
    "collapsed": false
   },
   "outputs": [
    {
     "name": "stdout",
     "output_type": "stream",
     "text": [
      "length X_train_ccw1:  2778\n",
      "length y_train_ccw1:  8334\n"
     ]
    }
   ],
   "source": [
    "data_pd_ccw1 = createDataFrame('data_ac/driving_log.csv')\n",
    "X_train_ccw1_c, X_train_ccw1_l, X_train_ccw1_r, y_train_ccw1 = createTrainingDataPathsCenterLeftRight(data_pd_ccw1, 2000, 4777, 0.15)\n",
    "print('length X_train_ccw1: ', len(X_train_ccw1_c))\n",
    "print('length y_train_ccw1: ', len(y_train_ccw1))"
   ]
  },
  {
   "cell_type": "code",
   "execution_count": 32,
   "metadata": {
    "collapsed": false
   },
   "outputs": [],
   "source": [
    "# plt.hist(y_train_ccw1,bins=100,range=(-1,1),facecolor=\"r\", histtype = 'step')"
   ]
  },
  {
   "cell_type": "markdown",
   "metadata": {},
   "source": [
    "#### Create data from /recovery_laps_more (ccw)"
   ]
  },
  {
   "cell_type": "code",
   "execution_count": 33,
   "metadata": {
    "collapsed": false
   },
   "outputs": [
    {
     "name": "stdout",
     "output_type": "stream",
     "text": [
      "length of X_train_ccwr1:  307\n",
      "length of y_train_ccwr1:  921\n"
     ]
    }
   ],
   "source": [
    "data_pd_ccwr1 = createDataFrame('recovery_laps_more/driving_log.csv')\n",
    "X_train_ccwr1_c, X_train_ccwr1_l, X_train_ccwr1_r, y_train_ccwr1 = createTrainingDataPathsCenterLeftRight(data_pd_ccwr1, 50, 358, 0.15)\n",
    "print('length of X_train_ccwr1: ', len(X_train_ccwr1_c))\n",
    "print('length of y_train_ccwr1: ', len(y_train_ccwr1))"
   ]
  },
  {
   "cell_type": "code",
   "execution_count": 34,
   "metadata": {
    "collapsed": false
   },
   "outputs": [],
   "source": [
    "# plt.hist(y_train_ccwr1,bins=100,range=(-1,1),facecolor=\"r\", histtype = 'step')"
   ]
  },
  {
   "cell_type": "markdown",
   "metadata": {},
   "source": [
    "#### Create data from /recovery_laps (ccw)"
   ]
  },
  {
   "cell_type": "code",
   "execution_count": 35,
   "metadata": {
    "collapsed": false
   },
   "outputs": [
    {
     "name": "stdout",
     "output_type": "stream",
     "text": [
      "length of X_train_ccwr2:  911\n",
      "length of y_train_ccwr2:  2733\n"
     ]
    }
   ],
   "source": [
    "data_pd_ccwr2 = createDataFrame('recovery_laps/driving_log.csv')\n",
    "X_train_ccwr2_c, X_train_ccwr2_l, X_train_ccwr2_r, y_train_ccwr2 = createTrainingDataPathsCenterLeftRight(data_pd_ccwr2, 20, 930, 0.15)\n",
    "print('length of X_train_ccwr2: ', len(X_train_ccwr2_c))\n",
    "print('length of y_train_ccwr2: ', len(y_train_ccwr2))"
   ]
  },
  {
   "cell_type": "code",
   "execution_count": 36,
   "metadata": {
    "collapsed": false
   },
   "outputs": [],
   "source": [
    "# plt.hist(y_train_ccwr2,bins=100,range=(-1,1),facecolor=\"r\", histtype = 'step')"
   ]
  },
  {
   "cell_type": "markdown",
   "metadata": {},
   "source": [
    "#### Create data from /recovery_laps_backwards_2(cw)"
   ]
  },
  {
   "cell_type": "code",
   "execution_count": 37,
   "metadata": {
    "collapsed": false
   },
   "outputs": [
    {
     "name": "stdout",
     "output_type": "stream",
     "text": [
      "length of X_train_cwr1:  684\n",
      "length of y_train_cwr1:  2052\n"
     ]
    }
   ],
   "source": [
    "data_pd_cwr1 = createDataFrame('recover_laps_backwards_2/driving_log.csv')\n",
    "X_train_cwr1_c, X_train_cwr1_l, X_train_cwr1_r, y_train_cwr1 = createTrainingDataPathsCenterLeftRight(data_pd_cwr1, 9, 694, 0.15)\n",
    "print('length of X_train_cwr1: ', len(X_train_cwr1_c))\n",
    "print('length of y_train_cwr1: ', len(y_train_cwr1))\n",
    "# data_pd_cwr1.hist(column = 'steering')"
   ]
  },
  {
   "cell_type": "code",
   "execution_count": 38,
   "metadata": {
    "collapsed": false
   },
   "outputs": [],
   "source": [
    "# plt.hist(y_train_cwr1,bins=100,range=(-1,1),facecolor=\"r\", histtype = 'step')"
   ]
  },
  {
   "cell_type": "markdown",
   "metadata": {},
   "source": [
    "#### Create data from /annie_recovery (cw)"
   ]
  },
  {
   "cell_type": "code",
   "execution_count": 39,
   "metadata": {
    "collapsed": false
   },
   "outputs": [],
   "source": [
    "data_pd_cwr2 = createDataFrame('annie_recovery/driving_log_recovery.csv')\n",
    "# data_pd_cwr2.hist(column = 'steering')\n",
    "# data_pd_cwr2.hist(column = 'steering',bins=100,range=(-1,1),facecolor=\"r\", histtype = 'step')"
   ]
  },
  {
   "cell_type": "code",
   "execution_count": 52,
   "metadata": {
    "collapsed": false
   },
   "outputs": [
    {
     "name": "stdout",
     "output_type": "stream",
     "text": [
      "shape of X_train_annie:  (4038,)\n",
      "shape of y_train_annie:  (4038,)\n"
     ]
    }
   ],
   "source": [
    "data_pd_cwr2 = createDataFrame('annie_recovery/driving_log_recovery.csv')\n",
    "X_train_cwr2_c, X_train_cwr2_l, X_train_cwr2_r, y_train_cwr2 = createTrainingDataPathsCenterLeftRightPrefixGood(data_pd_cwr2, 1, 1348, 0.15, 'annie_recovery/')\n",
    "# plt.hist(y_train_cwr2,bins=100,range=(-1,1),facecolor=\"r\", histtype = 'step')\n",
    "X_train_annie = np.append(X_train_cwr2_c, X_train_cwr2_l, axis = 0)\n",
    "X_train_annie = np.append(X_train_annie, X_train_cwr2_r, axis = 0)\n",
    "y_train_annie = y_train_cwr2\n",
    "print('shape of X_train_annie: ', X_train_annie.shape)\n",
    "print('shape of y_train_annie: ', y_train_annie.shape)"
   ]
  },
  {
   "cell_type": "markdown",
   "metadata": {},
   "source": [
    "#### Create data from /data (udacity) (cw)"
   ]
  },
  {
   "cell_type": "code",
   "execution_count": 54,
   "metadata": {
    "collapsed": false
   },
   "outputs": [
    {
     "name": "stdout",
     "output_type": "stream",
     "text": [
      "shape of X_train_udacity:  (23958,)\n",
      "shape of y_train_udacity:  (23958,)\n"
     ]
    }
   ],
   "source": [
    "data_pd_cw2 = createDataFrame('data/driving_log.csv')\n",
    "X_train_cw2_c, X_train_cw2_l, X_train_cw2_r, y_train_cw2 = createTrainingDataPathsCenterLeftRightPrefixGood(data_pd_cw2, 50, 8036,0.15, 'data/')\n",
    "# data_pd_cw2.hist(column = 'throttle')\n",
    "X_train_udacity = np.append(X_train_cw2_c, X_train_cw2_l, axis = 0)\n",
    "X_train_udacity = np.append(X_train_udacity, X_train_cw2_r, axis = 0)\n",
    "y_train_udacity = y_train_cw2\n",
    "print('shape of X_train_udacity: ', X_train_udacity.shape)\n",
    "print('shape of y_train_udacity: ', y_train_udacity.shape)"
   ]
  },
  {
   "cell_type": "code",
   "execution_count": 55,
   "metadata": {
    "collapsed": false
   },
   "outputs": [],
   "source": [
    "# plt.hist(y_train_cw2,bins=100,range=(-1,1),facecolor=\"r\", histtype = 'step')"
   ]
  },
  {
   "cell_type": "markdown",
   "metadata": {},
   "source": [
    "#### Convert to numpy arrays"
   ]
  },
  {
   "cell_type": "code",
   "execution_count": null,
   "metadata": {
    "collapsed": false
   },
   "outputs": [],
   "source": [
    "# Data from X_train_cw1\n",
    "X_train = np.append(X_train_cw1_c, X_train_cw1_l, axis = 0)\n",
    "X_train = np.append(X_train, X_train_cw1_r, axis = 0)\n",
    "\n",
    "y_train = y_train_cw1\n",
    "assert(X_train.shape[0] == y_train.shape[0])\n",
    "\n",
    "# Data from X_train_ccwr1\n",
    "X_train = np.append(X_train, X_train_ccwr1_c, axis = 0)\n",
    "X_train = np.append(X_train, X_train_ccwr1_l, axis = 0)\n",
    "X_train = np.append(X_train, X_train_ccwr1_r, axis = 0)\n",
    "\n",
    "y_train = np.append(y_train, y_train_ccwr1, axis = 0)\n",
    "assert(X_train.shape[0] == y_train.shape[0])\n",
    "\n",
    "# Data from CCWR2:\n",
    "X_train = np.append(X_train, X_train_ccwr2_c, axis = 0)\n",
    "X_train = np.append(X_train, X_train_ccwr2_l, axis = 0)\n",
    "X_train = np.append(X_train, X_train_ccwr2_r, axis = 0)\n",
    "\n",
    "y_train = np.append(y_train, y_train_ccwr2, axis = 0)\n",
    "assert(X_train.shape[0] == y_train.shape[0])\n",
    "\n",
    "# Data from CWR1\n",
    "X_train = np.append(X_train, X_train_cwr1_c, axis = 0)\n",
    "X_train = np.append(X_train, X_train_cwr1_l, axis = 0)\n",
    "X_train = np.append(X_train, X_train_cwr1_r, axis = 0)\n",
    "\n",
    "y_train = np.append(y_train, y_train_cwr1, axis = 0)\n",
    "assert(X_train.shape[0] == y_train.shape[0])\n",
    "\n",
    "# Data from CWR2:\n",
    "X_train = np.append(X_train, X_train_cwr2_c, axis = 0)\n",
    "X_train = np.append(X_train, X_train_cwr2_l, axis = 0)\n",
    "X_train = np.append(X_train, X_train_cwr2_r, axis = 0)\n",
    "\n",
    "y_train = np.append(y_train, y_train_cwr2, axis = 0)\n",
    "assert(X_train.shape[0] == y_train.shape[0])\n",
    "\n",
    "# Data from CW2:\n",
    "X_train = np.append(X_train, X_train_cw2_c, axis = 0)\n",
    "X_train = np.append(X_train, X_train_cw2_l, axis = 0)\n",
    "X_train = np.append(X_train, X_train_cw2_r, axis = 0)\n",
    "\n",
    "y_train = np.append(y_train, y_train_cw2, axis = 0)\n",
    "assert(X_train.shape[0] == y_train.shape[0])\n",
    "\n",
    "print('X_train general shape: ', X_train.shape)\n",
    "print('y_train general shape: ', y_train.shape)"
   ]
  },
  {
   "cell_type": "code",
   "execution_count": null,
   "metadata": {
    "collapsed": false
   },
   "outputs": [],
   "source": [
    "# Udacity + Recovery data only - images\n",
    "# Data from CWR2:\n",
    "X_train = np.append(X_train_cwr2_c, X_train_cwr2_l, axis = 0)\n",
    "X_train = np.append(X_train, X_train_cwr2_r, axis = 0)\n",
    "\n",
    "\n",
    "# Data from CW2:\n",
    "X_train = np.append(X_train, X_train_cw2_c, axis = 0)\n",
    "X_train = np.append(X_train, X_train_cw2_l, axis = 0)\n",
    "X_train = np.append(X_train, X_train_cw2_r, axis = 0)\n",
    "\n",
    "y_train = np.append(y_train_cwr2, y_train_cw2, axis = 0)\n",
    "assert(X_train.shape[0] == y_train.shape[0])"
   ]
  },
  {
   "cell_type": "code",
   "execution_count": 43,
   "metadata": {
    "collapsed": true
   },
   "outputs": [],
   "source": [
    "# Udacity data only - images\n",
    "# Data from CWR2:\n",
    "\n",
    "\n",
    "y_train = y_train_cw2\n",
    "\n",
    "# Data from CW2:\n",
    "X_train = np.append(X_train_cw2_c, X_train_cw2_l, axis = 0)\n",
    "X_train = np.append(X_train, X_train_cw2_r, axis = 0)\n",
    "\n",
    "assert(X_train.shape[0] == y_train.shape[0])"
   ]
  },
  {
   "cell_type": "code",
   "execution_count": 44,
   "metadata": {
    "collapsed": false
   },
   "outputs": [
    {
     "name": "stdout",
     "output_type": "stream",
     "text": [
      "X_train udacity:  (22623,)\n",
      "y_train udacity:  (22623,)\n"
     ]
    }
   ],
   "source": [
    "print('X_train udacity: ', X_train.shape)\n",
    "print('y_train udacity: ', y_train.shape)"
   ]
  },
  {
   "cell_type": "code",
   "execution_count": 46,
   "metadata": {
    "collapsed": true
   },
   "outputs": [],
   "source": [
    "X_train = np.append(X_train_cwr2_c, X_train_cwr2_l, axis = 0)\n",
    "X_train = np.append(X_train, X_train_cwr2_r, axis = 0)\n",
    "y_train = y_train_cwr2"
   ]
  },
  {
   "cell_type": "code",
   "execution_count": 47,
   "metadata": {
    "collapsed": false
   },
   "outputs": [
    {
     "name": "stdout",
     "output_type": "stream",
     "text": [
      "(956,)\n",
      "(956,)\n"
     ]
    }
   ],
   "source": [
    "print(X_train.shape)\n",
    "print(y_train.shape)"
   ]
  },
  {
   "cell_type": "markdown",
   "metadata": {},
   "source": [
    "#### Save training data to pickle file"
   ]
  },
  {
   "cell_type": "code",
   "execution_count": 57,
   "metadata": {
    "collapsed": false
   },
   "outputs": [],
   "source": [
    "training_data = {\n",
    "    'udacity_impaths': X_train_udacity,\n",
    "    'udacity_angles':y_train_udacity,\n",
    "    'annie_impaths':X_train_annie,\n",
    "    'annie_angles': y_train_annie\n",
    "    }\n",
    "with open('train.p', 'wb') as handle:\n",
    "    pickle.dump(training_data, handle, protocol=pickle.HIGHEST_PROTOCOL)"
   ]
  },
  {
   "cell_type": "code",
   "execution_count": null,
   "metadata": {
    "collapsed": true
   },
   "outputs": [],
   "source": []
  }
 ],
 "metadata": {
  "anaconda-cloud": {},
  "kernelspec": {
   "display_name": "Python [conda env:python3]",
   "language": "python",
   "name": "conda-env-python3-py"
  },
  "language_info": {
   "codemirror_mode": {
    "name": "ipython",
    "version": 3
   },
   "file_extension": ".py",
   "mimetype": "text/x-python",
   "name": "python",
   "nbconvert_exporter": "python",
   "pygments_lexer": "ipython3",
   "version": "3.5.2"
  }
 },
 "nbformat": 4,
 "nbformat_minor": 1
}
