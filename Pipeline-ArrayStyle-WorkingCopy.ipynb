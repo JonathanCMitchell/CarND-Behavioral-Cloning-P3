{
 "cells": [
  {
   "cell_type": "code",
   "execution_count": 1,
   "metadata": {
    "collapsed": false
   },
   "outputs": [],
   "source": [
    "import matplotlib.pyplot as plt\n",
    "import tensorflow as tf\n",
    "import matplotlib.gridspec as gridspec\n",
    "import cv2\n",
    "import matplotlib.image as mpimg\n",
    "import os\n",
    "import pickle\n",
    "import pandas as pd\n",
    "from sklearn.utils import shuffle\n",
    "import numpy as np\n",
    "from sklearn.model_selection import train_test_split\n",
    "%matplotlib inline"
   ]
  },
  {
   "cell_type": "markdown",
   "metadata": {},
   "source": [
    "## Acquisition Functions"
   ]
  },
  {
   "cell_type": "code",
   "execution_count": 2,
   "metadata": {
    "collapsed": true
   },
   "outputs": [],
   "source": [
    "def createDataFrame(data_path):\n",
    "    \"\"\"\n",
    "    input: data_path: path to data\n",
    "    return: data frame\n",
    "    \"\"\"\n",
    "    data_frame = pd.read_csv(data_path)\n",
    "    data_frame.columns = ['center', 'left', 'right', 'steering', 'throttle', 'brake', 'speed']\n",
    "    return data_frame"
   ]
  },
  {
   "cell_type": "markdown",
   "metadata": {},
   "source": [
    "### Split data into left turns, right turns, center (no turns)"
   ]
  },
  {
   "cell_type": "code",
   "execution_count": 3,
   "metadata": {
    "collapsed": false
   },
   "outputs": [],
   "source": [
    "def createTrainingDataPathsCLR(df, prefix_path):\n",
    "    \"\"\"\n",
    "    creates training data and training labels/ measurements from a data frame\n",
    "    inputs:\n",
    "    df: pandas DataFrame object\n",
    "    start: starting row to grab data\n",
    "    end: ending row to grab data\n",
    "    correction_factor: factor to correct steering angles\n",
    "    \"\"\"    \n",
    "    # Turn types\n",
    "    center_turns = []\n",
    "    left_turns = []\n",
    "    right_turns = []\n",
    "    \n",
    "    \n",
    "    abs_path_to_IMG = os.path.abspath(prefix_path)\n",
    "    for idx, row in df.iterrows():\n",
    "        center_image_cam = os.path.join(abs_path_to_IMG, row['center'].strip())\n",
    "        left_image_cam = os.path.join(abs_path_to_IMG, row['left'].strip())\n",
    "        right_image_cam = os.path.join(abs_path_to_IMG, row['right'].strip())\n",
    "        steering_angle = row['steering']\n",
    "        \n",
    "        # Right image condition\n",
    "        if steering_angle > 0.125:\n",
    "            right_turns.append([center_image_cam, left_image_cam, right_image_cam, steering_angle])\n",
    "            \n",
    "        # This is a left image\n",
    "        elif steering_angle < -1 * 0.125:\n",
    "            left_turns.append([center_image_cam, left_image_cam, right_image_cam, steering_angle])\n",
    "            \n",
    "        # This is a center image\n",
    "        else:\n",
    "        # center images\n",
    "            center_turns.append([center_image_cam, left_image_cam, right_image_cam, steering_angle])\n",
    "        \n",
    "    return (center_turns, left_turns, right_turns)"
   ]
  },
  {
   "cell_type": "code",
   "execution_count": 4,
   "metadata": {
    "collapsed": true
   },
   "outputs": [],
   "source": [
    "def makeMore(dataArray, amount):\n",
    "    for i in range(len(dataArray)):\n",
    "        for j in range(amount):                                     # np.random.uniform(-0.03, 0.03)\n",
    "            dataArray.append([dataArray[i][0], dataArray[i][1], dataArray[i][2], dataArray[i][3]])\n",
    "    return dataArray"
   ]
  },
  {
   "cell_type": "markdown",
   "metadata": {},
   "source": [
    "## Prepare training data"
   ]
  },
  {
   "cell_type": "markdown",
   "metadata": {},
   "source": [
    "### Create data from udacity"
   ]
  },
  {
   "cell_type": "markdown",
   "metadata": {},
   "source": [
    "#### Create Data Frame"
   ]
  },
  {
   "cell_type": "code",
   "execution_count": 5,
   "metadata": {
    "collapsed": false
   },
   "outputs": [],
   "source": [
    "data_pd_udacity = createDataFrame('data/driving_log.csv')\n",
    "columns = ['center', 'left', 'right', 'steering']"
   ]
  },
  {
   "cell_type": "markdown",
   "metadata": {},
   "source": [
    "#### Create centers_turns, left_turns, right_turns"
   ]
  },
  {
   "cell_type": "code",
   "execution_count": 6,
   "metadata": {
    "collapsed": false
   },
   "outputs": [],
   "source": [
    "(center_turns_udacity,\n",
    "left_turns_udacity,\n",
    "right_turns_udacity) = createTrainingDataPathsCLR(data_pd_udacity, 'data/')"
   ]
  },
  {
   "cell_type": "markdown",
   "metadata": {},
   "source": [
    "#### Make more copies"
   ]
  },
  {
   "cell_type": "code",
   "execution_count": 7,
   "metadata": {
    "collapsed": false
   },
   "outputs": [],
   "source": [
    "center_turns_udacity = makeMore(center_turns_udacity, 5)\n",
    "left_turns_udacity = makeMore(left_turns_udacity, 18)\n",
    "right_turns_udacity = makeMore(right_turns_udacity, 12)"
   ]
  },
  {
   "cell_type": "code",
   "execution_count": 8,
   "metadata": {
    "collapsed": false
   },
   "outputs": [
    {
     "name": "stdout",
     "output_type": "stream",
     "text": [
      "df_center_udacity.index:  36714\n",
      "df_left_udacity.index:  16131\n",
      "df_right_udacity.index:  13884\n"
     ]
    }
   ],
   "source": [
    "df_center_udacity = pd.DataFrame(center_turns_udacity, columns = columns)\n",
    "df_left_udacity = pd.DataFrame(left_turns_udacity, columns = columns)\n",
    "df_right_udacity = pd.DataFrame(right_turns_udacity, columns = columns)\n",
    "\n",
    "print('df_center_udacity.index: ', len(df_center_udacity.index))\n",
    "print('df_left_udacity.index: ', len(df_left_udacity.index))\n",
    "print('df_right_udacity.index: ', len(df_right_udacity.index))\n"
   ]
  },
  {
   "cell_type": "markdown",
   "metadata": {},
   "source": [
    "#### Histogram Visualization"
   ]
  },
  {
   "cell_type": "code",
   "execution_count": 9,
   "metadata": {
    "collapsed": false
   },
   "outputs": [],
   "source": [
    "# plt.hist(np.asarray(df_center_udacity['steering'], dtype=np.float32))\n",
    "# plt.hist(np.asarray(df_center_udacity['steering'], dtype=np.float32),bins=100,range=(-0.2,0.2),facecolor=\"r\", histtype = 'step')"
   ]
  },
  {
   "cell_type": "code",
   "execution_count": 10,
   "metadata": {
    "collapsed": false
   },
   "outputs": [],
   "source": [
    "# plt.hist(np.asarray(df_left_udacity['steering'], dtype=np.float32))\n",
    "# plt.hist(np.asarray(df_left_udacity['steering'], dtype=np.float32),bins=100,range=(-0.6,0.15),facecolor=\"r\", histtype = 'step')"
   ]
  },
  {
   "cell_type": "code",
   "execution_count": 11,
   "metadata": {
    "collapsed": false
   },
   "outputs": [],
   "source": [
    "# plt.hist(np.asarray(df_right_udacity['steering'], dtype=np.float32))\n",
    "# plt.hist(np.asarray(df_right_udacity['steering'], dtype=np.float32),bins=100,range=(0.15,0.6),facecolor=\"r\", histtype = 'step')"
   ]
  },
  {
   "cell_type": "markdown",
   "metadata": {},
   "source": [
    "#### Shuffle"
   ]
  },
  {
   "cell_type": "code",
   "execution_count": 12,
   "metadata": {
    "collapsed": true
   },
   "outputs": [],
   "source": [
    "df_center_udacity = shuffle(df_center_udacity)\n",
    "df_left_udacity = shuffle(df_left_udacity)\n",
    "df_right_udacity = shuffle(df_right_udacity)"
   ]
  },
  {
   "cell_type": "markdown",
   "metadata": {},
   "source": [
    "#### Concat"
   ]
  },
  {
   "cell_type": "code",
   "execution_count": 13,
   "metadata": {
    "collapsed": false
   },
   "outputs": [],
   "source": [
    "frames_to_concat_udacity = [df_center_udacity, df_left_udacity, df_right_udacity]\n",
    "df_udacity = pd.concat(frames_to_concat_udacity, axis = 0, join = 'outer', ignore_index=False)"
   ]
  },
  {
   "cell_type": "markdown",
   "metadata": {},
   "source": [
    "### Create data from recovery"
   ]
  },
  {
   "cell_type": "markdown",
   "metadata": {},
   "source": [
    "#### Create Data Frame"
   ]
  },
  {
   "cell_type": "code",
   "execution_count": 14,
   "metadata": {
    "collapsed": false
   },
   "outputs": [],
   "source": [
    "data_pd_recovery = createDataFrame('annie_recovery/driving_log_recovery.csv')\n",
    "columns = ['center', 'left', 'right', 'steering']"
   ]
  },
  {
   "cell_type": "markdown",
   "metadata": {},
   "source": [
    "#### Create centers_turns, left_turns, right_turns"
   ]
  },
  {
   "cell_type": "code",
   "execution_count": 15,
   "metadata": {
    "collapsed": false
   },
   "outputs": [],
   "source": [
    "(center_turns_recovery,\n",
    "left_turns_recovery,\n",
    "right_turns_recovery) = createTrainingDataPathsCLR(data_pd_recovery, 'annie_recovery/')"
   ]
  },
  {
   "cell_type": "markdown",
   "metadata": {},
   "source": [
    "#### Make more copies"
   ]
  },
  {
   "cell_type": "code",
   "execution_count": 16,
   "metadata": {
    "collapsed": true
   },
   "outputs": [],
   "source": [
    "center_turns_recovery = makeMore(center_turns_recovery, 5)\n",
    "left_turns_recovery = makeMore(left_turns_recovery, 18)\n",
    "right_turns_recovery = makeMore(right_turns_recovery, 12)"
   ]
  },
  {
   "cell_type": "code",
   "execution_count": 17,
   "metadata": {
    "collapsed": false
   },
   "outputs": [],
   "source": [
    "df_center_recovery = pd.DataFrame(center_turns_recovery, columns = columns)\n",
    "df_left_recovery = pd.DataFrame(left_turns_recovery, columns = columns)\n",
    "df_right_recovery= pd.DataFrame(right_turns_recovery, columns = columns)"
   ]
  },
  {
   "cell_type": "code",
   "execution_count": 18,
   "metadata": {
    "collapsed": false
   },
   "outputs": [
    {
     "name": "stdout",
     "output_type": "stream",
     "text": [
      "df_center_recovery.index:  4308\n",
      "df_center_recovery.index:  6213\n",
      "df_center_recovery.index:  3926\n"
     ]
    }
   ],
   "source": [
    "print('df_center_recovery.index: ', len(df_center_recovery.index))\n",
    "print('df_center_recovery.index: ', len(df_left_recovery.index))\n",
    "print('df_center_recovery.index: ', len(df_right_recovery.index))"
   ]
  },
  {
   "cell_type": "markdown",
   "metadata": {},
   "source": [
    "#### Histogram Visualization"
   ]
  },
  {
   "cell_type": "code",
   "execution_count": 19,
   "metadata": {
    "collapsed": false
   },
   "outputs": [],
   "source": [
    "# plt.hist(np.asarray(df_center_recovery['steering'], dtype=np.float32))\n",
    "# plt.hist(np.asarray(df_center_recovery['steering'], dtype=np.float32),bins=100,range=(-0.2,0.2),facecolor=\"r\", histtype = 'step')"
   ]
  },
  {
   "cell_type": "code",
   "execution_count": 20,
   "metadata": {
    "collapsed": false
   },
   "outputs": [],
   "source": [
    "# plt.hist(np.asarray(df_left_recovery['steering'], dtype=np.float32))\n",
    "# plt.hist(np.asarray(df_left_recovery['steering'], dtype=np.float32),bins=100,range=(-0.2,0.2),facecolor=\"r\", histtype = 'step')"
   ]
  },
  {
   "cell_type": "code",
   "execution_count": 21,
   "metadata": {
    "collapsed": false
   },
   "outputs": [],
   "source": [
    "# plt.hist(np.asarray(df_right_recovery['steering'], dtype=np.float32))\n",
    "# plt.hist(np.asarray(df_right_recovery['steering'], dtype=np.float32),bins=100,range=(-0.2,0.2),facecolor=\"r\", histtype = 'step')"
   ]
  },
  {
   "cell_type": "markdown",
   "metadata": {},
   "source": [
    "#### Shuffle"
   ]
  },
  {
   "cell_type": "code",
   "execution_count": 22,
   "metadata": {
    "collapsed": true
   },
   "outputs": [],
   "source": [
    "df_center_recovery = shuffle(df_center_recovery)\n",
    "df_left_recovery = shuffle(df_left_recovery)\n",
    "df_right_recovery = shuffle(df_right_recovery)"
   ]
  },
  {
   "cell_type": "markdown",
   "metadata": {},
   "source": [
    "#### Concat"
   ]
  },
  {
   "cell_type": "code",
   "execution_count": 23,
   "metadata": {
    "collapsed": true
   },
   "outputs": [],
   "source": [
    "frames_to_concat_recovery = [df_center_recovery, df_left_recovery, df_right_recovery]\n",
    "df_recovery = pd.concat(frames_to_concat_recovery, axis = 0, join = 'outer', ignore_index=False)"
   ]
  },
  {
   "cell_type": "markdown",
   "metadata": {},
   "source": [
    "### Concat both dataframes together (Udacity + Recovery)"
   ]
  },
  {
   "cell_type": "code",
   "execution_count": 24,
   "metadata": {
    "collapsed": false
   },
   "outputs": [],
   "source": [
    "frames = [df_udacity, df_recovery]\n",
    "train_data = pd.concat(frames, axis = 0, join = 'outer', ignore_index=False)"
   ]
  },
  {
   "cell_type": "code",
   "execution_count": 25,
   "metadata": {
    "collapsed": false
   },
   "outputs": [
    {
     "name": "stdout",
     "output_type": "stream",
     "text": [
      "train_data size:  81176\n"
     ]
    }
   ],
   "source": [
    "print('train_data size: ', len(train_data.index))"
   ]
  },
  {
   "cell_type": "markdown",
   "metadata": {},
   "source": [
    "### RANDOM TEST"
   ]
  },
  {
   "cell_type": "code",
   "execution_count": 26,
   "metadata": {
    "collapsed": false
   },
   "outputs": [
    {
     "ename": "NameError",
     "evalue": "name 'preprocess_image_from_path' is not defined",
     "output_type": "error",
     "traceback": [
      "\u001b[0;31m---------------------------------------------------------------------------\u001b[0m",
      "\u001b[0;31mNameError\u001b[0m                                 Traceback (most recent call last)",
      "\u001b[0;32m<ipython-input-26-35ebd4cbd40a>\u001b[0m in \u001b[0;36m<module>\u001b[0;34m()\u001b[0m\n\u001b[1;32m      5\u001b[0m     \u001b[0midx\u001b[0m \u001b[0;34m=\u001b[0m \u001b[0mnp\u001b[0m\u001b[0;34m.\u001b[0m\u001b[0mrandom\u001b[0m\u001b[0;34m.\u001b[0m\u001b[0mrandint\u001b[0m\u001b[0;34m(\u001b[0m\u001b[0mlen\u001b[0m\u001b[0;34m(\u001b[0m\u001b[0mdata\u001b[0m\u001b[0;34m)\u001b[0m\u001b[0;34m)\u001b[0m\u001b[0;34m\u001b[0m\u001b[0m\n\u001b[1;32m      6\u001b[0m     \u001b[0mrow\u001b[0m \u001b[0;34m=\u001b[0m \u001b[0mdata\u001b[0m\u001b[0;34m.\u001b[0m\u001b[0miloc\u001b[0m\u001b[0;34m[\u001b[0m\u001b[0;34m[\u001b[0m\u001b[0midx\u001b[0m\u001b[0;34m]\u001b[0m\u001b[0;34m]\u001b[0m\u001b[0;34m.\u001b[0m\u001b[0mreset_index\u001b[0m\u001b[0;34m(\u001b[0m\u001b[0;34m)\u001b[0m\u001b[0;34m\u001b[0m\u001b[0m\n\u001b[0;32m----> 7\u001b[0;31m     \u001b[0mx\u001b[0m\u001b[0;34m,\u001b[0m \u001b[0my\u001b[0m \u001b[0;34m=\u001b[0m \u001b[0mpreprocess_image_from_path\u001b[0m\u001b[0;34m(\u001b[0m\u001b[0mrow\u001b[0m\u001b[0;34m[\u001b[0m\u001b[0;34m'center'\u001b[0m\u001b[0;34m]\u001b[0m\u001b[0;34m.\u001b[0m\u001b[0mvalues\u001b[0m\u001b[0;34m[\u001b[0m\u001b[0;36m0\u001b[0m\u001b[0;34m]\u001b[0m\u001b[0;34m,\u001b[0m \u001b[0mrow\u001b[0m\u001b[0;34m[\u001b[0m\u001b[0;34m'steering'\u001b[0m\u001b[0;34m]\u001b[0m\u001b[0;34m.\u001b[0m\u001b[0mvalues\u001b[0m\u001b[0;34m[\u001b[0m\u001b[0;36m0\u001b[0m\u001b[0;34m]\u001b[0m\u001b[0;34m)\u001b[0m\u001b[0;34m\u001b[0m\u001b[0m\n\u001b[0m\u001b[1;32m      8\u001b[0m     \u001b[0mrandom_images\u001b[0m\u001b[0;34m.\u001b[0m\u001b[0mappend\u001b[0m\u001b[0;34m(\u001b[0m\u001b[0;34m(\u001b[0m\u001b[0mx\u001b[0m\u001b[0;34m,\u001b[0m \u001b[0my\u001b[0m\u001b[0;34m)\u001b[0m\u001b[0;34m)\u001b[0m\u001b[0;34m\u001b[0m\u001b[0m\n\u001b[1;32m      9\u001b[0m \u001b[0;34m\u001b[0m\u001b[0m\n",
      "\u001b[0;31mNameError\u001b[0m: name 'preprocess_image_from_path' is not defined"
     ]
    }
   ],
   "source": [
    "# random selection\n",
    "data = train_data\n",
    "random_images = []\n",
    "for i in range(20):\n",
    "    idx = np.random.randint(len(data))\n",
    "    row = data.iloc[[idx]].reset_index()\n",
    "    x, y = preprocess_image_from_path(row['center'].values[0], row['steering'].values[0])\n",
    "    random_images.append((x, y))\n",
    "    \n",
    "plt.figure(figsize=(16, 10))\n",
    "gs1 = gridspec.GridSpec(4, 5)\n",
    "gs1.update(wspace = 0.01, hspace = 0.01)\n",
    "for idx, image in enumerate(random_images):\n",
    "    angle = 'ang: ' + str(image[1]) \n",
    "    ax1 = plt.subplot(gs1[idx])\n",
    "    ax1.axis('off')\n",
    "    plt.title(angle)\n",
    "    plt.imshow(image[0])\n",
    "plt.show()"
   ]
  },
  {
   "cell_type": "markdown",
   "metadata": {},
   "source": [
    "### Shuffle again"
   ]
  },
  {
   "cell_type": "code",
   "execution_count": 27,
   "metadata": {
    "collapsed": true
   },
   "outputs": [],
   "source": [
    "train_data = shuffle(train_data)"
   ]
  },
  {
   "cell_type": "markdown",
   "metadata": {},
   "source": [
    "### Train Test Split"
   ]
  },
  {
   "cell_type": "code",
   "execution_count": 28,
   "metadata": {
    "collapsed": false
   },
   "outputs": [
    {
     "name": "stdout",
     "output_type": "stream",
     "text": [
      "train_data size:  64940\n",
      "valid_data size:  16236\n"
     ]
    }
   ],
   "source": [
    "train_data, valid_data = train_test_split(train_data, test_size = 0.2)\n",
    "print('train_data size: ', len(train_data.index))\n",
    "print('valid_data size: ', len(valid_data.index))"
   ]
  },
  {
   "cell_type": "markdown",
   "metadata": {},
   "source": [
    "#### Histogram of steering angles training data"
   ]
  },
  {
   "cell_type": "code",
   "execution_count": 29,
   "metadata": {
    "collapsed": false
   },
   "outputs": [
    {
     "data": {
      "text/plain": [
       "(array([  1.28300000e+03,   4.70000000e+01,   2.90000000e+01,\n",
       "          3.00000000e+01,   6.30000000e+01,   0.00000000e+00,\n",
       "          4.70000000e+01,   1.70000000e+01,   4.50000000e+01,\n",
       "          9.50000000e+01,   4.80000000e+01,   6.50000000e+01,\n",
       "          4.60000000e+01,   4.50000000e+01,   9.10000000e+01,\n",
       "          9.10000000e+01,   1.25000000e+02,   1.04000000e+02,\n",
       "          5.20000000e+01,   8.00000000e+01,   4.10000000e+01,\n",
       "          1.80000000e+01,   7.90000000e+01,   1.10000000e+02,\n",
       "          1.84000000e+02,   2.24000000e+02,   1.11000000e+02,\n",
       "          3.95000000e+02,   3.31000000e+02,   4.19000000e+02,\n",
       "          4.36000000e+02,   3.07000000e+02,   2.91000000e+02,\n",
       "          3.35000000e+02,   4.89000000e+02,   1.42900000e+03,\n",
       "          8.55000000e+02,   6.27000000e+02,   1.34700000e+03,\n",
       "          1.13500000e+03,   4.73000000e+02,   9.72000000e+02,\n",
       "          3.58300000e+03,   1.26000000e+03,   4.74000000e+02,\n",
       "          5.13000000e+02,   1.37300000e+03,   1.29100000e+03,\n",
       "          4.32000000e+02,   5.65000000e+02,   2.44530000e+04,\n",
       "          4.46000000e+02,   9.81000000e+02,   8.29000000e+02,\n",
       "          9.27000000e+02,   5.62000000e+02,   1.43800000e+03,\n",
       "          1.09900000e+03,   3.93800000e+03,   7.92000000e+02,\n",
       "          4.80000000e+02,   2.75000000e+02,   2.88000000e+02,\n",
       "          7.32000000e+02,   2.86000000e+02,   7.00000000e+02,\n",
       "          2.68000000e+02,   7.29000000e+02,   4.29000000e+02,\n",
       "          1.29000000e+02,   1.47000000e+02,   8.70000000e+01,\n",
       "          1.49000000e+02,   2.06000000e+02,   1.57000000e+02,\n",
       "          9.40000000e+01,   2.80000000e+01,   4.20000000e+01,\n",
       "          8.10000000e+01,   7.60000000e+01,   7.10000000e+01,\n",
       "          2.80000000e+01,   6.50000000e+01,   4.40000000e+01,\n",
       "          5.20000000e+01,   2.10000000e+01,   2.40000000e+01,\n",
       "          1.90000000e+01,   2.90000000e+01,   5.30000000e+01,\n",
       "          3.40000000e+01,   3.20000000e+01,   2.80000000e+01,\n",
       "          2.90000000e+01,   1.90000000e+01,   2.00000000e+01,\n",
       "          1.20000000e+01,   2.30000000e+01,   1.10000000e+01,\n",
       "          9.76000000e+02]),\n",
       " array([-1.  , -0.98, -0.96, -0.94, -0.92, -0.9 , -0.88, -0.86, -0.84,\n",
       "        -0.82, -0.8 , -0.78, -0.76, -0.74, -0.72, -0.7 , -0.68, -0.66,\n",
       "        -0.64, -0.62, -0.6 , -0.58, -0.56, -0.54, -0.52, -0.5 , -0.48,\n",
       "        -0.46, -0.44, -0.42, -0.4 , -0.38, -0.36, -0.34, -0.32, -0.3 ,\n",
       "        -0.28, -0.26, -0.24, -0.22, -0.2 , -0.18, -0.16, -0.14, -0.12,\n",
       "        -0.1 , -0.08, -0.06, -0.04, -0.02,  0.  ,  0.02,  0.04,  0.06,\n",
       "         0.08,  0.1 ,  0.12,  0.14,  0.16,  0.18,  0.2 ,  0.22,  0.24,\n",
       "         0.26,  0.28,  0.3 ,  0.32,  0.34,  0.36,  0.38,  0.4 ,  0.42,\n",
       "         0.44,  0.46,  0.48,  0.5 ,  0.52,  0.54,  0.56,  0.58,  0.6 ,\n",
       "         0.62,  0.64,  0.66,  0.68,  0.7 ,  0.72,  0.74,  0.76,  0.78,\n",
       "         0.8 ,  0.82,  0.84,  0.86,  0.88,  0.9 ,  0.92,  0.94,  0.96,\n",
       "         0.98,  1.  ]),\n",
       " <a list of 1 Patch objects>)"
      ]
     },
     "execution_count": 29,
     "metadata": {},
     "output_type": "execute_result"
    },
    {
     "data": {
      "image/png": "[encoded data removed]",
      "text/plain": [
       "<matplotlib.figure.Figure at 0x7f5a19085eb8>"
      ]
     },
     "metadata": {},
     "output_type": "display_data"
    }
   ],
   "source": [
    "plt.hist(np.asarray(train_data['steering'], dtype=np.float32),bins=100,range=(-1,1),facecolor=\"r\", histtype = 'step')"
   ]
  },
  {
   "cell_type": "markdown",
   "metadata": {},
   "source": [
    "## Preprocess"
   ]
  },
  {
   "cell_type": "code",
   "execution_count": 30,
   "metadata": {
    "collapsed": true
   },
   "outputs": [],
   "source": [
    "def lateral_shift(image, ang):\n",
    "    pass"
   ]
  },
  {
   "cell_type": "code",
   "execution_count": 31,
   "metadata": {
    "collapsed": true
   },
   "outputs": [],
   "source": [
    "def flip_image(image, ang):\n",
    "    image = np.fliplr(image)\n",
    "    ang = -1 * ang\n",
    "    return (image, ang)"
   ]
  },
  {
   "cell_type": "code",
   "execution_count": 32,
   "metadata": {
    "collapsed": true
   },
   "outputs": [],
   "source": [
    "def change_brightness(image):\n",
    "    bright_factor = 0.25 + np.random.uniform()\n",
    "    \n",
    "    hsv_image = cv2.cvtColor(image, cv2.COLOR_RGB2HSV)\n",
    "    # perform brightness augmentation only on the second channel\n",
    "    hsv_image[:,:,2] = hsv_image[:,:,2] * bright_factor\n",
    "    \n",
    "    # change back to RGB\n",
    "    image_rgb = cv2.cvtColor(hsv_image, cv2.COLOR_HSV2RGB)\n",
    "    return image_rgb\n",
    "    \n",
    "    "
   ]
  },
  {
   "cell_type": "code",
   "execution_count": 33,
   "metadata": {
    "collapsed": true
   },
   "outputs": [],
   "source": [
    "def preprocess_image(image):\n",
    "    \"\"\"\n",
    "    Preprocess image, \n",
    "    input: image (original shape)\n",
    "    output: image (shape is (220, 66, 3) )\n",
    "    \"\"\"    \n",
    "    image = change_brightness(image)\n",
    "    # crop shape\n",
    "    image = image[image.shape[0] * 0.34:image.shape[0] * 0.875,:,:]\n",
    "    # resize to (66, 220)\n",
    "    img = cv2.resize(image, (220, 66), interpolation=cv2.INTER_AREA)\n",
    "    return img\n"
   ]
  },
  {
   "cell_type": "code",
   "execution_count": 34,
   "metadata": {
    "collapsed": true
   },
   "outputs": [],
   "source": [
    "def preprocess_image_valid_from_path(image_path, steering_angle):\n",
    "    img = cv2.imread(image_path)\n",
    "    img = cv2.cvtColor(img, cv2.COLOR_BGR2RGB)\n",
    "    img = preprocess_image(img)\n",
    "    return img, steering_angle"
   ]
  },
  {
   "cell_type": "code",
   "execution_count": 35,
   "metadata": {
    "collapsed": true
   },
   "outputs": [],
   "source": [
    "def preprocess_image_from_path(image_path, steering_angle):\n",
    "    img = cv2.imread(image_path)\n",
    "    img = cv2.cvtColor(img, cv2.COLOR_BGR2RGB)\n",
    "\n",
    "    # flip and reassign\n",
    "    random_flip_factor = np.random.randint(2)\n",
    "    if random_flip_factor == 0:\n",
    "        img, steering_angle = flip_image(img, steering_angle)\n",
    "    \n",
    "        \n",
    "    img = preprocess_image(img)\n",
    "    return img, steering_angle"
   ]
  },
  {
   "cell_type": "markdown",
   "metadata": {},
   "source": [
    "## Generator"
   ]
  },
  {
   "cell_type": "markdown",
   "metadata": {},
   "source": [
    "Here I created two generators, one for training data and one for validation data. In the training generator we create batches of 32 for each training sample. Therefore if I have `samples_per_epoch = 10` that means for each of those samples I yield 32 images from the training generator. I did this because it allows me to have control over what the batches turn out to be. In this case [ADD HERE]```add here I will add a probability function to pass a certain image path to the processor```"
   ]
  },
  {
   "cell_type": "code",
   "execution_count": 36,
   "metadata": {
    "collapsed": false
   },
   "outputs": [],
   "source": [
    "\n",
    "# def generate_training_data(X_train, y_train, batch_size):\n",
    "#     \"\"\"\n",
    "#     We create a loop through out data and \n",
    "#     send out an individual row in the dataframe to preprocess_image_from_path, \n",
    "#     which is then sent to preprocess_image\n",
    "#     inputs: \n",
    "#     X_train: numpy array of X_training data (image paths),\n",
    "#     y_train: numpy array of measurements (steering angles)\n",
    "#     batch_size: batch sizes, size to make each batch\n",
    "#     returns a yield (image_batch, label_batch)\n",
    "#     \"\"\"\n",
    "#     image_batch = np.zeros((batch_size, 66, 220, 3)) # nvidia input params\n",
    "#     label_batch = np.zeros((batch_size))\n",
    "#     while True:\n",
    "#         for i in range(batch_size):\n",
    "            \n",
    "#             idx = np.random.randint(len(X_train))\n",
    "#             x, y = preprocess_image_from_path(X_train[idx], y_train[idx])\n",
    "            \n",
    "            \n",
    "#             image_batch[i] = x\n",
    "#             label_batch[i] = y\n",
    "\n",
    "#         yield image_batch, label_batch"
   ]
  },
  {
   "cell_type": "code",
   "execution_count": 37,
   "metadata": {
    "collapsed": true
   },
   "outputs": [],
   "source": [
    "# def generate_validation_data(X_valid, y_valid):\n",
    "#     while True:\n",
    "#         for idx in range(len(X_valid)):\n",
    "#             img, angle = preprocess_image_valid_from_path(X_valid[idx], y_valid[idx])\n",
    "#             img = img.reshape(1, img.shape[0], img.shape[1], img.shape[2])\n",
    "#             angle = np.array([[angle]])\n",
    "#             yield img, angle"
   ]
  },
  {
   "cell_type": "markdown",
   "metadata": {},
   "source": [
    "### OLD GENERATOR (USES DATAFRAME)"
   ]
  },
  {
   "cell_type": "code",
   "execution_count": 38,
   "metadata": {
    "collapsed": true
   },
   "outputs": [],
   "source": [
    "\n",
    "def generate_training_data(data, batch_size = 32):\n",
    "    \"\"\"\n",
    "    We create a loop through out data and \n",
    "    send out an individual row in the dataframe to preprocess_image_from_path, \n",
    "    which is then sent to preprocess_image\n",
    "    inputs: \n",
    "    data: pandas DataFrame\n",
    "    batch_size: batch sizes, size to make each batch\n",
    "    returns a yield a batch of (image_batch, label_batch)\n",
    "    \"\"\"\n",
    "    # TODO increase batch size to account for possible left, right, or center cam image\n",
    "    # TODO add correction factor possibility to \n",
    "    \n",
    "    image_batch = np.zeros((batch_size, 66, 220, 3)) # nvidia input params\n",
    "    label_batch = np.zeros((batch_size))\n",
    "    while True:\n",
    "        for i in range(batch_size):\n",
    "            idx = np.random.randint(len(data))\n",
    "            row = data.iloc[[idx]].reset_index()\n",
    "            x, y = preprocess_image_from_path(row['center'].values[0], row['steering'].values[0])\n",
    "            \n",
    "            # added to deal with left and right images =====\n",
    "#             if np.random.randint(3) == 0\n",
    "#                 x, y = preprocess_image_from_path(row['center'].values[0], row['steering'].values[0])\n",
    "            \n",
    "#             if np.random.randint(3) == 1:\n",
    "#                 # 33% change to give left image and + correction_factor\n",
    "#                 x, y = preprocess_image_from_path(row['left'].values[0], row['steering'] + 0.125)\n",
    "                \n",
    "#             if np.random.randint(3) == 2:\n",
    "#                 # 33% change to give right image ajdn - correction_factor\n",
    "#                 x, y = preprocess_image_from_path(row['right'].values[0], row['steering'] - 0.125)\n",
    "            \n",
    "            \n",
    "            # added ======\n",
    "            image_batch[i] = x\n",
    "            label_batch[i] = y\n",
    "        yield shuffle(image_batch, label_batch)\n",
    "    \n",
    "def generate_validation_data(data):\n",
    "    \"\"\"\n",
    "    data: center camera images only, because thats what we observe (dataframe)\n",
    "    yields: one image, angle\n",
    "    \"\"\"\n",
    "    while True:\n",
    "        for idx in range(len(data)):\n",
    "            row = data.iloc[[idx]].reset_index()\n",
    "            img, angle = preprocess_image_valid_from_path(row['center'].values[0], row['steering'].values[0])\n",
    "            img = img.reshape(1, img.shape[0], img.shape[1], img.shape[2])\n",
    "            angle = np.array([[angle]])\n",
    "            yield img, angle\n",
    "            "
   ]
  },
  {
   "cell_type": "markdown",
   "metadata": {},
   "source": [
    "## Network"
   ]
  },
  {
   "cell_type": "markdown",
   "metadata": {},
   "source": [
    "#### I chose to use Nvidia's network architecture. Input (220 x 66 sized image) output (1 steering angle)"
   ]
  },
  {
   "cell_type": "markdown",
   "metadata": {},
   "source": [
    "I chose to use the Nvidia model architecture which can be found [here add link]\n",
    "I used ELu's because they push mean unit activation functions closer to zero [https://arxiv.org/pdf/1511.07289v1.pdf]"
   ]
  },
  {
   "cell_type": "code",
   "execution_count": 39,
   "metadata": {
    "collapsed": false
   },
   "outputs": [
    {
     "name": "stderr",
     "output_type": "stream",
     "text": [
      "Using TensorFlow backend.\n"
     ]
    }
   ],
   "source": [
    "from keras.models import Sequential\n",
    "from keras.layers.convolutional import Convolution2D\n",
    "from keras.layers.pooling import MaxPooling2D\n",
    "from keras.layers.core import Activation, Dropout, Flatten, Dense, Lambda\n",
    "from keras.layers import ELU\n",
    "from keras.optimizers import Adam\n",
    "tf.python.control_flow_ops = tf\n",
    "\n",
    "\n",
    "N_img_height = 66\n",
    "N_img_width = 220\n",
    "N_img_channels = 3\n",
    "def nvidia_model():\n",
    "    inputShape = (N_img_height, N_img_width, N_img_channels)\n",
    "\n",
    "    model = Sequential()\n",
    "    # normalization\n",
    "    \n",
    "    # normalize only the S in HSV\n",
    "    model.add(Lambda(lambda x: x/ 127.5 - 1, input_shape = (66, 220, 3)))\n",
    "    # cropping 70 off top 25 off bottom\n",
    "    # model.add(Cropping2D(cropping=((70,25), (0, 0)))) Probably going to do cropping in my process\n",
    "\n",
    "    # subsample is strides\n",
    "    model.add(Convolution2D(24, 5, 5, \n",
    "                            subsample=(2,2), \n",
    "                            border_mode = 'valid',\n",
    "                            init = 'he_normal',\n",
    "                            name = 'conv1'))\n",
    "    \n",
    "    model.add(ELU())    \n",
    "    model.add(Convolution2D(36, 5, 5, \n",
    "                            subsample=(2,2), \n",
    "                            border_mode = 'valid',\n",
    "                            init = 'he_normal',\n",
    "                            name = 'conv2'))\n",
    "    \n",
    "    model.add(ELU())    \n",
    "    model.add(Convolution2D(48, 5, 5, \n",
    "                            subsample=(2,2), \n",
    "                            border_mode = 'valid',\n",
    "                            init = 'he_normal',\n",
    "                            name = 'conv3'))\n",
    "    model.add(ELU())\n",
    "    model.add(Convolution2D(64, 3, 3, \n",
    "                            subsample = (1,1), \n",
    "                            border_mode = 'valid',\n",
    "                            init = 'he_normal', #gaussian init\n",
    "                            name = 'conv4'))\n",
    "    \n",
    "    model.add(ELU())              \n",
    "    model.add(Convolution2D(64, 3, 3, \n",
    "                            subsample= (1,1), \n",
    "                            border_mode = 'valid',\n",
    "                            init = 'he_normal',\n",
    "                            name = 'conv5'))\n",
    "              \n",
    "              \n",
    "    model.add(Flatten(name = 'flatten'))\n",
    "    model.add(ELU())\n",
    "    model.add(Dense(100, init = 'he_normal', name = 'fc1'))\n",
    "    model.add(ELU())\n",
    "    model.add(Dense(50, init = 'he_normal', name = 'fc2'))\n",
    "    model.add(ELU())\n",
    "    model.add(Dense(10, init = 'he_normal', name = 'fc3'))\n",
    "    model.add(ELU())\n",
    "    \n",
    "    # do not put activation at the end because we want to exact output, not a class identifier\n",
    "    model.add(Dense(1, name = 'output', init = 'he_normal'))\n",
    "    \n",
    "    adam = Adam(lr=1e-4, beta_1=0.9, beta_2=0.999, epsilon=1e-08, decay=0.0)\n",
    "    model.compile(optimizer = adam, loss = 'mse')\n",
    "\n",
    "    return model\n"
   ]
  },
  {
   "cell_type": "code",
   "execution_count": 40,
   "metadata": {
    "collapsed": false
   },
   "outputs": [],
   "source": [
    "val_size = len(valid_data.index)\n",
    "valid_generator = generate_validation_data(valid_data)\n",
    "BATCH = 256"
   ]
  },
  {
   "cell_type": "code",
   "execution_count": 41,
   "metadata": {
    "collapsed": false
   },
   "outputs": [
    {
     "name": "stdout",
     "output_type": "stream",
     "text": [
      "Epoch 1/6\n"
     ]
    },
    {
     "name": "stderr",
     "output_type": "stream",
     "text": [
      "/home/jj/anaconda2/envs/python3/lib/python3.5/site-packages/ipykernel/__main__.py:9: VisibleDeprecationWarning: using a non-integer number instead of an integer will result in an error in the future\n"
     ]
    },
    {
     "name": "stdout",
     "output_type": "stream",
     "text": [
      "20480/20480 [==============================] - 109s - loss: 0.0612 - val_loss: 0.0528\n",
      "Epoch 2/6\n",
      "20480/20480 [==============================] - 100s - loss: 0.0491 - val_loss: 0.0465\n",
      "Epoch 3/6\n",
      "20480/20480 [==============================] - 100s - loss: 0.0453 - val_loss: 0.0431\n",
      "Epoch 4/6\n",
      "20480/20480 [==============================] - 102s - loss: 0.0435 - val_loss: 0.0401\n",
      "Epoch 5/6\n",
      "20480/20480 [==============================] - 100s - loss: 0.0383 - val_loss: 0.0381\n",
      "Epoch 6/6\n",
      "20480/20480 [==============================] - 101s - loss: 0.0357 - val_loss: 0.0355\n",
      "<keras.callbacks.History object at 0x7f59afd69a90>\n",
      "Epoch 1/6\n",
      "20480/20480 [==============================] - 111s - loss: 0.0330 - val_loss: 0.0331\n",
      "Epoch 2/6\n",
      "20480/20480 [==============================] - 103s - loss: 0.0338 - val_loss: 0.0325\n",
      "Epoch 3/6\n",
      "20480/20480 [==============================] - 103s - loss: 0.0333 - val_loss: 0.0325\n",
      "Epoch 4/6\n",
      "20480/20480 [==============================] - 103s - loss: 0.0315 - val_loss: 0.0312\n",
      "Epoch 5/6\n",
      "20480/20480 [==============================] - 104s - loss: 0.0304 - val_loss: 0.0305\n",
      "Epoch 6/6\n",
      "20480/20480 [==============================] - 104s - loss: 0.0312 - val_loss: 0.0299\n",
      "<keras.callbacks.History object at 0x7f59ac706d30>\n",
      "Epoch 1/6\n",
      "20480/20480 [==============================] - 114s - loss: 0.0308 - val_loss: 0.0297\n",
      "Epoch 2/6\n",
      "20480/20480 [==============================] - 104s - loss: 0.0310 - val_loss: 0.0294\n",
      "Epoch 3/6\n",
      "20480/20480 [==============================] - 104s - loss: 0.0289 - val_loss: 0.0305\n",
      "Epoch 4/6\n",
      "20480/20480 [==============================] - 106s - loss: 0.0317 - val_loss: 0.0313\n",
      "Epoch 5/6\n",
      "20480/20480 [==============================] - 106s - loss: 0.0292 - val_loss: 0.0296\n",
      "Epoch 6/6\n",
      "20480/20480 [==============================] - 106s - loss: 0.0288 - val_loss: 0.0285\n",
      "<keras.callbacks.History object at 0x7f59ac8339b0>\n"
     ]
    }
   ],
   "source": [
    "model = nvidia_model()\n",
    "train_size = len(train_data.index)\n",
    "for i in range(3):\n",
    "    train_generator = generate_training_data(train_data, BATCH)\n",
    "    history = model.fit_generator(\n",
    "            train_generator, \n",
    "            samples_per_epoch = 20480, # try putting the whole thing in here in the future\n",
    "            nb_epoch = 6,\n",
    "            validation_data = valid_generator,\n",
    "            nb_val_samples = val_size)\n",
    "    print(history)\n",
    "    \n",
    "    model.save_weights('model-weightsD1.h5')\n",
    "    model.save('modelD1.h5')"
   ]
  },
  {
   "cell_type": "markdown",
   "metadata": {},
   "source": [
    "## Visualizing Loss"
   ]
  },
  {
   "cell_type": "code",
   "execution_count": 42,
   "metadata": {
    "collapsed": false
   },
   "outputs": [
    {
     "name": "stdout",
     "output_type": "stream",
     "text": [
      "dict_keys(['loss', 'val_loss'])\n"
     ]
    },
    {
     "data": {
      "image/png": "[encoded data removed]",
      "text/plain": [
       "<matplotlib.figure.Figure at 0x7f59afa35630>"
      ]
     },
     "metadata": {},
     "output_type": "display_data"
    }
   ],
   "source": [
    "print(history.history.keys())\n",
    "\n",
    "### plot the training and validation loss for each epoch\n",
    "plt.plot(history.history['loss'])\n",
    "plt.plot(history.history['val_loss'])\n",
    "plt.title('model mean squared error loss')\n",
    "plt.ylabel('mean squared error loss')\n",
    "plt.xlabel('epoch')\n",
    "plt.legend(['training set', 'validation set'], loc='upper right')\n",
    "plt.show()"
   ]
  },
  {
   "cell_type": "code",
   "execution_count": null,
   "metadata": {
    "collapsed": true
   },
   "outputs": [],
   "source": []
  },
  {
   "cell_type": "markdown",
   "metadata": {},
   "source": [
    "## Explanation"
   ]
  },
  {
   "cell_type": "markdown",
   "metadata": {},
   "source": [
    "At one point I tried to gaussian fit my data via angle distributions. Attempting this was a brutal task and I spent many many hours on it"
   ]
  },
  {
   "cell_type": "markdown",
   "metadata": {},
   "source": [
    "### Data Acquisition"
   ]
  },
  {
   "cell_type": "markdown",
   "metadata": {},
   "source": [
    "### Preprocessing"
   ]
  },
  {
   "cell_type": "markdown",
   "metadata": {},
   "source": [
    "### Arrays vs Dataframes"
   ]
  },
  {
   "cell_type": "markdown",
   "metadata": {},
   "source": [
    "I had multiple implementations of this program. One was using numpy arrays, and the other is using dataframes. When I was using numpy arrays I had no way to nicely sort the center_turns, left_turns, and right_turns from each other because I simply concatenated them together into one large training array. I soon realized needed to separate each turn type in order to add more of some turns to balance out the histogram of steering angles. I had so many angles ~0 degrees (which is just the car going straight). Pandas dataframes were a great options for this. \n",
    "\n",
    "Originally I was just pushing all the images into an array, adding a correction factor to the left_cam images and subtracting a correction factor from the right images. However this was extremely inefficient. After choosing the pandas DataFrame method I was able to add the correction factor to left_camera and right_camera images on the fly and send them through the preprocessing pipeline"
   ]
  },
  {
   "cell_type": "markdown",
   "metadata": {},
   "source": [
    "### Generating Batches\n",
    "I chose to generate batches of my training data instead of yielding a single image each time so I have more control on the distribution of what gets yielded. If I was yielding an image each time, I would increase my `samples_per_epoch` in my `train_generator` to be equal to the number of sample images in my dataset. This way I simply make that a lower number and yield batches. Yielding batches also helps to avoid possible errors if I attempted to control the distribution of center_cam, left_cam, and right_cam images via probability"
   ]
  },
  {
   "cell_type": "markdown",
   "metadata": {},
   "source": [
    "##### Method 1:\n",
    "I already created additional data for each center_turn, left_turn, and right_turn respectively. What I attempted to do in my generator was double my batch size. From 16 to 32. \n",
    "* Immediately push in a center_cam processed image\n",
    "* 66% chance to push in another center_cam image\n",
    "* 33% chance to push in a left_cam image\n",
    "* 33% chance to push in a right_cam image\n",
    "This will allow me to introduce random left and right cam images into the dataset, creating additional data."
   ]
  },
  {
   "cell_type": "markdown",
   "metadata": {},
   "source": [
    "#### Method 2:\n",
    "The second method was to maintain the batch size at 32 images per batch and to create a 33% chance to push a center_cam, left_cam, or right_cam\n",
    "* 33% chance for center_cam\n",
    "* 33% chance for left_cam\n",
    "* 33% chance for right_cam"
   ]
  },
  {
   "cell_type": "markdown",
   "metadata": {},
   "source": [
    "#### Method 3:\n",
    "The third method was to maintain a batch size at 32 and only push in center images"
   ]
  },
  {
   "cell_type": "markdown",
   "metadata": {},
   "source": [
    "#### Method 4:\n",
    "Increase batch size to 256 and only use center images"
   ]
  },
  {
   "cell_type": "markdown",
   "metadata": {},
   "source": [
    "### Network Architecture"
   ]
  },
  {
   "cell_type": "markdown",
   "metadata": {},
   "source": [
    "I chose to use the Nvidia model [https://arxiv.org/pdf/1604.07316v1.pdf]. In the preprocessing stages I converted my image from 160,320,3 to 60, 220, 3 (RGB)\n",
    "* attempt 1: I attempted to convert the image to HSV and only normalize the S channel. This turned out to [add effect]\n",
    "* attempt 2: I kept the image as RGB and fed that into the network and performed normalization on all three channels [red, green, blue]"
   ]
  },
  {
   "cell_type": "markdown",
   "metadata": {},
   "source": [
    "#### Choice 1: Dropout"
   ]
  },
  {
   "cell_type": "markdown",
   "metadata": {},
   "source": [
    "#### Choice 2: No Dropout"
   ]
  },
  {
   "cell_type": "markdown",
   "metadata": {},
   "source": [
    "#### ReLu's vs ELu's"
   ]
  },
  {
   "cell_type": "markdown",
   "metadata": {},
   "source": [
    "### Training"
   ]
  },
  {
   "cell_type": "markdown",
   "metadata": {},
   "source": [
    "* I used adam optimization and MSE\n",
    "* I used 20k samples per epoch because I have about 80k images and I do not want to sample the entire set each time"
   ]
  },
  {
   "cell_type": "markdown",
   "metadata": {},
   "source": [
    "## Getting it to work"
   ]
  },
  {
   "cell_type": "markdown",
   "metadata": {},
   "source": [
    "Most of this project was experimental. I would get the car to drive, and then run into some sort of wall or something. Then I would start tinkering with the preprocessing stages. I did not modify the network architecture that much other than including a dropout layer so I did not overfit my training data. The dropout layer will help me normalize and generalize to track 2"
   ]
  },
  {
   "cell_type": "code",
   "execution_count": null,
   "metadata": {
    "collapsed": true
   },
   "outputs": [],
   "source": []
  },
  {
   "cell_type": "markdown",
   "metadata": {},
   "source": [
    "### RANDOM TEST"
   ]
  },
  {
   "cell_type": "markdown",
   "metadata": {},
   "source": [
    "### Visualize preprocessing"
   ]
  },
  {
   "cell_type": "code",
   "execution_count": null,
   "metadata": {
    "collapsed": false
   },
   "outputs": [],
   "source": [
    "# random selection\n",
    "data = train_data\n",
    "random_images = []\n",
    "for i in range(20):\n",
    "    idx = np.random.randint(len(data))\n",
    "    row = data.iloc[[idx]].reset_index()\n",
    "    x, y = preprocess_image_from_path(row['center'].values[0], row['steering'].values[0])\n",
    "    random_images.append((x, y))\n",
    "    \n",
    "plt.figure(figsize=(16, 10))\n",
    "gs1 = gridspec.GridSpec(4, 5)\n",
    "gs1.update(wspace = 0.01, hspace = 0.01)\n",
    "for idx, image in enumerate(random_images):\n",
    "    angle = 'ang: ' + str(image[1]) \n",
    "    ax1 = plt.subplot(gs1[idx])\n",
    "    ax1.axis('off')\n",
    "    plt.title(angle)\n",
    "    plt.imshow(image[0])\n",
    "plt.show()"
   ]
  },
  {
   "cell_type": "code",
   "execution_count": null,
   "metadata": {
    "collapsed": true
   },
   "outputs": [],
   "source": []
  },
  {
   "cell_type": "code",
   "execution_count": null,
   "metadata": {
    "collapsed": true
   },
   "outputs": [],
   "source": []
  },
  {
   "cell_type": "code",
   "execution_count": null,
   "metadata": {
    "collapsed": true
   },
   "outputs": [],
   "source": []
  },
  {
   "cell_type": "code",
   "execution_count": null,
   "metadata": {
    "collapsed": true
   },
   "outputs": [],
   "source": []
  },
  {
   "cell_type": "code",
   "execution_count": null,
   "metadata": {
    "collapsed": true
   },
   "outputs": [],
   "source": []
  },
  {
   "cell_type": "code",
   "execution_count": null,
   "metadata": {
    "collapsed": true
   },
   "outputs": [],
   "source": []
  },
  {
   "cell_type": "code",
   "execution_count": null,
   "metadata": {
    "collapsed": true
   },
   "outputs": [],
   "source": [
    "def createTrainingDataPathsCenterLeftRightPrefixGood(df, correction_factor, prefix_path):\n",
    "    \"\"\"\n",
    "    creates training data and training labels/ measurements from a data frame\n",
    "    inputs:\n",
    "    df: pandas DataFrame object\n",
    "    start: starting row to grab data\n",
    "    end: ending row to grab data\n",
    "    correction_factor: factor to correct steering angles\n",
    "    \"\"\"\n",
    "    center_images = []\n",
    "    left_images = []\n",
    "    right_images = []\n",
    "    measurements = []\n",
    "    abs_path_to_IMG = os.path.abspath(prefix_path)\n",
    "    for idx, row in df.iterrows():\n",
    "        # center images\n",
    "        center_images.append(os.path.join(abs_path_to_IMG, row['center'].strip()))\n",
    "        measurements.append(row['steering'])\n",
    "\n",
    "        # left images\n",
    "        left_images.append(os.path.join(abs_path_to_IMG, row['left'].strip()))\n",
    "        measurements.append(row['steering'] - correction_factor)\n",
    "\n",
    "        # right images\n",
    "        right_images.append(os.path.join(abs_path_to_IMG, row['right'].strip()))\n",
    "        measurements.append(row['steering'] + correction_factor)\n",
    "\n",
    "    return (np.asarray(center_images), np.asarray(left_images), np.asarray(right_images), np.asarray(measurements, dtype=np.float32))"
   ]
  },
  {
   "cell_type": "code",
   "execution_count": null,
   "metadata": {
    "collapsed": true
   },
   "outputs": [],
   "source": [
    "def createTrainingDataPathsCLR(df, correction_factor, angle_threshold = 0.15, prefix_path):\n",
    "    \"\"\"\n",
    "    creates training data and training labels/ measurements from a data frame\n",
    "    inputs:\n",
    "    df: pandas DataFrame object\n",
    "    start: starting row to grab data\n",
    "    end: ending row to grab data\n",
    "    correction_factor: factor to correct steering angles\n",
    "    \"\"\"\n",
    "    center_images = []\n",
    "    left_images = []\n",
    "    right_images = []\n",
    "    \n",
    "    center_measurements = []\n",
    "    left_measurements = []\n",
    "    right_measurements = []\n",
    "    \n",
    "    abs_path_to_IMG = os.path.abspath(prefix_path)\n",
    "    for idx, row in df.iterrows():\n",
    "        # center images\n",
    "        center_images.append(os.path.join(abs_path_to_IMG, row['center'].strip()))\n",
    "        center_measurements.append(row['steering'])\n",
    "\n",
    "\n",
    "        # left images\n",
    "        left_images.append(os.path.join(abs_path_to_IMG, row['left'].strip()))\n",
    "        left_measurements.append(row['steering'] - correction_factor)\n",
    "\n",
    "        # right images\n",
    "        right_images.append(os.path.join(abs_path_to_IMG, row['right'].strip()))\n",
    "        right_measurements.append(row['steering'] + correction_factor)\n",
    "            \n",
    "    return (\n",
    "        np.asarray(center_images),\n",
    "        np.asarray(left_images),\n",
    "        np.asarray(right_images),\n",
    "        np.asarray(center_measurements, dtype=np.float32),\n",
    "        np.asarray(left_measurements, dtype=np.float32),\n",
    "        np.asarray(right_measurements, dtype=np.float32),\n",
    "    )"
   ]
  },
  {
   "cell_type": "code",
   "execution_count": null,
   "metadata": {
    "collapsed": true
   },
   "outputs": [],
   "source": [
    "def removeZerosFromCenter(X, y, rang = 0.1):\n",
    "    low = -1 * rang\n",
    "    high = rang\n",
    "    is_y_in_range = np.logical_or(y <= low, y >= high)\n",
    "    X = X[is_y_in_range]\n",
    "    y = y[is_y_in_range]\n",
    "    return X,y"
   ]
  },
  {
   "cell_type": "code",
   "execution_count": null,
   "metadata": {
    "collapsed": true
   },
   "outputs": [],
   "source": [
    "def removeZerosFromLeft(X, y, correction_factor, rang = 0.1):\n",
    "    low = -1 * (correction_factor + rang)\n",
    "    high = -1 * (correction_factor - rang)\n",
    "    is_y_in_range = np.logical_or(y <= low, y >= high)\n",
    "    X = X[is_y_in_range]\n",
    "    y = y[is_y_in_range]\n",
    "    return X, y"
   ]
  },
  {
   "cell_type": "code",
   "execution_count": null,
   "metadata": {
    "collapsed": true
   },
   "outputs": [],
   "source": [
    "def removeZerosFromRight(X, y, correction_factor, rang = 0.1):\n",
    "    high = correction_factor + rang\n",
    "    low = correction_factor - rang\n",
    "    is_y_range = np.logical_or(y <= low, y >= high)\n",
    "    X = X[is_y_range]\n",
    "    y = y[is_y_range]\n",
    "    return X, y"
   ]
  },
  {
   "cell_type": "markdown",
   "metadata": {},
   "source": [
    "### Create data from udacity"
   ]
  },
  {
   "cell_type": "code",
   "execution_count": null,
   "metadata": {
    "collapsed": false
   },
   "outputs": [],
   "source": [
    "data_pd_cw2 = createDataFrame('data/driving_log.csv')\n",
    "X_train_cw2_c, X_train_cw2_l, X_train_cw2_r, y_train_cw2 = createTrainingDataPathsCenterLeftRightPrefixGood(data_pd_cw2, cf, 'data/')\n",
    "# data_pd_cw2.hist(column = 'throttle')\n",
    "X_train_udacity = np.append(X_train_cw2_c, X_train_cw2_l, axis = 0)\n",
    "X_train_udacity = np.append(X_train_udacity, X_train_cw2_r, axis = 0)\n",
    "y_train_udacity = y_train_cw2\n",
    "print('shape of X_train_udacity: ', X_train_udacity.shape)\n",
    "print('shape of y_train_udacity: ', y_train_udacity.shape)"
   ]
  },
  {
   "cell_type": "code",
   "execution_count": null,
   "metadata": {
    "collapsed": false
   },
   "outputs": [],
   "source": [
    "# Create more udacity data \n",
    "(X_train_cw2_c, \n",
    "X_train_cw2_l, \n",
    "X_train_cw2_r, \n",
    "y_train_cw2_c,\n",
    "y_train_cw2_l,\n",
    "y_train_cw2_r) = createTrainingDataPathsCLR(data_pd_cw2, 0.15, 'data/')"
   ]
  },
  {
   "cell_type": "code",
   "execution_count": null,
   "metadata": {
    "collapsed": false
   },
   "outputs": [],
   "source": [
    "print('X_train_cw2_c shape: ', X_train_cw2_c.shape)\n",
    "print('y_train_cw2_c shape: ', y_train_cw2_c.shape)\n",
    "print('y_train_cw2_l shape: ', X_train_cw2_l.shape)\n",
    "print('X_train_cw2_l shape: ', y_train_cw2_l.shape)\n",
    "print('X_train_cw2_r shape: ', X_train_cw2_r.shape)\n",
    "print('y_train_cw2_r shape: ', y_train_cw2_r.shape)"
   ]
  },
  {
   "cell_type": "code",
   "execution_count": null,
   "metadata": {
    "collapsed": false
   },
   "outputs": [],
   "source": [
    "X_train_cw2_c, y_train_cw2_c = removeZerosFromCenter(X_train_cw2_c, y_train_cw2_c)\n",
    "X_train_cw2_l, y_train_cw2_l = removeZerosFromLeft(X_train_cw2_l, y_train_cw2_l, cf)\n",
    "X_train_cw2_r, y_train_cw2_r = removeZerosFromRight(X_train_cw2_r, y_train_cw2_r, cf)\n",
    "\n",
    "print('X_train_cw2_c shape: ', X_train_cw2_c.shape)\n",
    "print('y_train_cw2_c shape: ', y_train_cw2_c.shape)\n",
    "print('y_train_cw2_l shape: ', X_train_cw2_l.shape)\n",
    "print('X_train_cw2_l shape: ', y_train_cw2_l.shape)\n",
    "print('X_train_cw2_r shape: ', X_train_cw2_r.shape)\n",
    "print('y_train_cw2_r shape: ', y_train_cw2_r.shape)\n",
    "X_train_udacity_2 = np.append(X_train_cw2_c, X_train_cw2_l, axis = 0)\n",
    "X_train_udacity_2 = np.append(X_train_udacity_2, X_train_cw2_r, axis = 0)\n",
    "print('X_train_udacity_2 shape: ', X_train_udacity_2.shape)\n",
    "y_train_udacity_2 = np.append(y_train_cw2_c, y_train_cw2_l, axis = 0)\n",
    "y_train_udacity_2 = np.append(y_train_udacity_2, y_train_cw2_r, axis = 0)\n",
    "print('y_train_udacity_2 shape: ', y_train_udacity_2.shape)"
   ]
  },
  {
   "cell_type": "markdown",
   "metadata": {},
   "source": [
    "Add original udacity data to filtered udacity data"
   ]
  },
  {
   "cell_type": "code",
   "execution_count": null,
   "metadata": {
    "collapsed": true
   },
   "outputs": [],
   "source": [
    "X_train_udacity = np.append(X_train_udacity, X_train_udacity_2, axis = 0)\n",
    "y_train_udacity = np.append(y_train_udacity, y_train_udacity_2, axis = 0)"
   ]
  },
  {
   "cell_type": "markdown",
   "metadata": {},
   "source": [
    "### Create data from annie recovery"
   ]
  },
  {
   "cell_type": "code",
   "execution_count": null,
   "metadata": {
    "collapsed": true
   },
   "outputs": [],
   "source": [
    "data_pd_cwr2 = createDataFrame('annie_recovery/driving_log_recovery.csv')"
   ]
  },
  {
   "cell_type": "code",
   "execution_count": null,
   "metadata": {
    "collapsed": false
   },
   "outputs": [],
   "source": [
    "(X_train_cwr2_c, \n",
    "X_train_cwr2_l, \n",
    "X_train_cwr2_r, \n",
    "y_train_cwr2_c,\n",
    "y_train_cwr2_l,\n",
    "y_train_cwr2_r) = createTrainingDataPathsCLR(data_pd_cwr2, 0.15, 'annie_recovery/')\n",
    "\n",
    "X_train_cwr2_c, y_train_cwr2_c = removeZerosFromCenter(X_train_cwr2_c, y_train_cwr2_c)\n",
    "X_train_cwr2_l, y_train_cwr2_l = removeZerosFromLeft(X_train_cwr2_l, y_train_cwr2_l, cf)\n",
    "X_train_cwr2_r, y_train_cwr2_r = removeZerosFromRight(X_train_cwr2_r, y_train_cwr2_r, cf)\n",
    "\n",
    "print('X_train_cwr2_c shape: ', X_train_cwr2_c.shape)\n",
    "print('y_train_cwr2_c shape: ', y_train_cwr2_c.shape)\n",
    "print('y_train_cwr2_l shape: ', X_train_cwr2_l.shape)\n",
    "print('X_train_cwr2_l shape: ', y_train_cwr2_l.shape)\n",
    "print('X_train_cwr2_r shape: ', X_train_cwr2_r.shape)\n",
    "print('y_train_cwr2_r shape: ', y_train_cwr2_r.shape)"
   ]
  },
  {
   "cell_type": "code",
   "execution_count": null,
   "metadata": {
    "collapsed": false
   },
   "outputs": [],
   "source": [
    "print('X_train_cwr2_c shape: ', X_train_cwr2_c.shape)\n",
    "print('y_train_cwr2_c shape: ', y_train_cwr2_c.shape)\n",
    "print('y_train_cwr2_l shape: ', X_train_cwr2_l.shape)\n",
    "print('X_train_cwr2_l shape: ', y_train_cwr2_l.shape)\n",
    "print('X_train_cwr2_r shape: ', X_train_cwr2_r.shape)\n",
    "print('y_train_cwr2_r shape: ', y_train_cwr2_r.shape)"
   ]
  },
  {
   "cell_type": "code",
   "execution_count": null,
   "metadata": {
    "collapsed": false
   },
   "outputs": [],
   "source": [
    "X_train_annie = np.append(X_train_cwr2_c, X_train_cwr2_l, axis = 0)\n",
    "X_train_annie = np.append(X_train_annie, X_train_cwr2_r, axis = 0)\n",
    "print('X_train_cwr2 shape: ', X_train_annie.shape)\n",
    "y_train_annie = np.append(y_train_cwr2_c, y_train_cwr2_l, axis = 0)\n",
    "y_train_annie = np.append(y_train_annie, y_train_cwr2_r, axis = 0)\n",
    "print('y_train_cwr2 shape: ', y_train_annie.shape)"
   ]
  },
  {
   "cell_type": "markdown",
   "metadata": {},
   "source": [
    "### To demonstrate acquisition function in other file and to check its correctness"
   ]
  },
  {
   "cell_type": "code",
   "execution_count": null,
   "metadata": {
    "collapsed": true
   },
   "outputs": [],
   "source": [
    "X_train = np.append(X_train_udacity, X_train_annie, axis = 0)\n",
    "y_train = np.append(y_train_udacity, y_train_annie, axis = 0)"
   ]
  },
  {
   "cell_type": "markdown",
   "metadata": {},
   "source": [
    "### Create data from dirt recovery (ccw)"
   ]
  },
  {
   "cell_type": "code",
   "execution_count": null,
   "metadata": {
    "collapsed": false
   },
   "outputs": [],
   "source": [
    "data_pd_dirt_c1 = createDataFrame('A_Recovery_right_lane_dirt/driving_log.csv')"
   ]
  },
  {
   "cell_type": "code",
   "execution_count": null,
   "metadata": {
    "collapsed": false
   },
   "outputs": [],
   "source": [
    "(X_train_dirt_c1_c, \n",
    "X_train_dirt_c1_l, \n",
    "X_train_dirt_c1_r, \n",
    "y_train_dirt_c1_c,\n",
    "y_train_dirt_c1_l,\n",
    "y_train_dirt_c1_r) = createTrainingDataPathsCLR(data_pd_dirt_c1, cf, '.')"
   ]
  },
  {
   "cell_type": "code",
   "execution_count": null,
   "metadata": {
    "collapsed": false
   },
   "outputs": [],
   "source": [
    "print('X_train_dirt_c1_c shape: ', X_train_dirt_c1_c.shape)\n",
    "print('y_train_dirt_c1_c shape: ', y_train_dirt_c1_c.shape)\n",
    "print('y_train_dirt_c1_l shape: ', X_train_dirt_c1_l.shape)\n",
    "print('X_train_dirt_c1_l shape: ', y_train_dirt_c1_l.shape)\n",
    "print('X_train_dirt_c1_r shape: ', X_train_dirt_c1_r.shape)\n",
    "print('y_train_dirt_c1_r shape: ', y_train_dirt_c1_r.shape)"
   ]
  },
  {
   "cell_type": "markdown",
   "metadata": {},
   "source": [
    "remove steering data with zeros"
   ]
  },
  {
   "cell_type": "code",
   "execution_count": null,
   "metadata": {
    "collapsed": false
   },
   "outputs": [],
   "source": [
    "print(cf)"
   ]
  },
  {
   "cell_type": "code",
   "execution_count": null,
   "metadata": {
    "collapsed": false
   },
   "outputs": [],
   "source": [
    "X_train_dirt_c1_c, y_train_dirt_c1_c = removeZerosFromCenter(X_train_dirt_c1_c, y_train_dirt_c1_c)\n",
    "X_train_dirt_c1_l, y_train_dirt_c1_l = removeZerosFromLeft(X_train_dirt_c1_l, y_train_dirt_c1_l, cf)\n",
    "X_train_dirt_c1_r, y_train_dirt_c1_r = removeZerosFromRight(X_train_dirt_c1_r, y_train_dirt_c1_r, cf)"
   ]
  },
  {
   "cell_type": "code",
   "execution_count": null,
   "metadata": {
    "collapsed": false
   },
   "outputs": [],
   "source": [
    "print('X_train_dirt_c1_c shape: ', X_train_dirt_c1_c.shape)\n",
    "print('y_train_dirt_c1_c shape: ', y_train_dirt_c1_c.shape)\n",
    "print('y_train_dirt_c1_l shape: ', X_train_dirt_c1_l.shape)\n",
    "print('X_train_dirt_c1_l shape: ', y_train_dirt_c1_l.shape)\n",
    "print('X_train_dirt_c1_r shape: ', X_train_dirt_c1_r.shape)\n",
    "print('y_train_dirt_c1_r shape: ', y_train_dirt_c1_r.shape)"
   ]
  },
  {
   "cell_type": "markdown",
   "metadata": {},
   "source": [
    "append them together"
   ]
  },
  {
   "cell_type": "code",
   "execution_count": null,
   "metadata": {
    "collapsed": false
   },
   "outputs": [],
   "source": [
    "X_train_dirt_c1 = np.append(X_train_dirt_c1_c, X_train_dirt_c1_l, axis = 0)\n",
    "X_train_dirt_c1 = np.append(X_train_dirt_c1, X_train_dirt_c1_r, axis = 0)\n",
    "print('X_train_dirt_c1 shape: ', X_train_dirt_c1.shape)\n",
    "y_train_dirt_c1 = np.append(y_train_dirt_c1_c, y_train_dirt_c1_l, axis = 0)\n",
    "y_train_dirt_c1 = np.append(y_train_dirt_c1, y_train_dirt_c1_r, axis = 0)\n",
    "print('y_train_dirt_c1 shape: ', y_train_dirt_c1.shape)"
   ]
  },
  {
   "cell_type": "markdown",
   "metadata": {},
   "source": [
    "### <font color='green'>=> X_train_dirt_c1, y_train_dirt_c1</font>"
   ]
  },
  {
   "cell_type": "markdown",
   "metadata": {},
   "source": [
    "### Create data from recovery_by_lake_1 (cw)"
   ]
  },
  {
   "cell_type": "code",
   "execution_count": null,
   "metadata": {
    "collapsed": true
   },
   "outputs": [],
   "source": [
    "data_pd_lake_c1 = createDataFrame('recovery_cw_bylake/driving_log.csv')"
   ]
  },
  {
   "cell_type": "code",
   "execution_count": null,
   "metadata": {
    "collapsed": false
   },
   "outputs": [],
   "source": [
    "(X_train_lake_c1_c, \n",
    "X_train_lake_c1_l, \n",
    "X_train_lake_c1_r, \n",
    "y_train_lake_c1_c,\n",
    "y_train_lake_c1_l,\n",
    "y_train_lake_c1_r) = createTrainingDataPathsCLR(data_pd_lake_c1, cf, '.')"
   ]
  },
  {
   "cell_type": "markdown",
   "metadata": {},
   "source": [
    "remove steering data with zeros"
   ]
  },
  {
   "cell_type": "code",
   "execution_count": null,
   "metadata": {
    "collapsed": true
   },
   "outputs": [],
   "source": [
    "X_train_lake_c1_c, y_train_lake_c1_c = removeZerosFromCenter(X_train_lake_c1_c, y_train_lake_c1_c)\n",
    "X_train_lake_c1_l, y_train_lake_c1_l = removeZerosFromLeft(X_train_lake_c1_l, y_train_lake_c1_l, cf)\n",
    "X_train_lake_c1_r, y_train_lake_c1_r = removeZerosFromRight(X_train_lake_c1_r, y_train_lake_c1_r, cf)"
   ]
  },
  {
   "cell_type": "code",
   "execution_count": null,
   "metadata": {
    "collapsed": false
   },
   "outputs": [],
   "source": [
    "print('X_train_lake_c1_c shape: ', X_train_lake_c1_c.shape)\n",
    "print('y_train_lake_c1_c shape: ', y_train_lake_c1_c.shape)\n",
    "print('y_train_lake_c1_l shape: ', X_train_lake_c1_l.shape)\n",
    "print('X_train_lake_c1_l shape: ', y_train_lake_c1_l.shape)\n",
    "print('X_train_lake_c1_r shape: ', X_train_lake_c1_r.shape)\n",
    "print('y_train_lake_c1_r shape: ', y_train_lake_c1_r.shape)"
   ]
  },
  {
   "cell_type": "markdown",
   "metadata": {},
   "source": [
    "append them together"
   ]
  },
  {
   "cell_type": "code",
   "execution_count": null,
   "metadata": {
    "collapsed": false
   },
   "outputs": [],
   "source": [
    "X_train_lake_c1 = np.append(X_train_lake_c1_c, X_train_lake_c1_l, axis = 0)\n",
    "X_train_lake_c1 = np.append(X_train_lake_c1, X_train_lake_c1_r, axis = 0)\n",
    "print('X_train_lake_c1 shape: ', X_train_lake_c1.shape)\n",
    "y_train_lake_c1 = np.append(y_train_lake_c1_c, y_train_lake_c1_l, axis = 0)\n",
    "y_train_lake_c1 = np.append(y_train_lake_c1, y_train_lake_c1_r, axis = 0)\n",
    "print('y_train_lake_c1 shape: ', y_train_lake_c1.shape)"
   ]
  },
  {
   "cell_type": "markdown",
   "metadata": {},
   "source": [
    "### <font color='green'>=> X_train_lake_c1, y_train_lake_c1</font>"
   ]
  },
  {
   "cell_type": "markdown",
   "metadata": {},
   "source": [
    "### Create data from recovery_by_lake_cw_2"
   ]
  },
  {
   "cell_type": "code",
   "execution_count": null,
   "metadata": {
    "collapsed": true
   },
   "outputs": [],
   "source": [
    "data_pd_lake_c2 = createDataFrame('recovery_cw_by_lake_2/driving_log.csv')"
   ]
  },
  {
   "cell_type": "code",
   "execution_count": null,
   "metadata": {
    "collapsed": true
   },
   "outputs": [],
   "source": [
    "(X_train_lake_c2_c, \n",
    "X_train_lake_c2_l, \n",
    "X_train_lake_c2_r, \n",
    "y_train_lake_c2_c,\n",
    "y_train_lake_c2_l,\n",
    "y_train_lake_c2_r) = createTrainingDataPathsCLR(data_pd_lake_c2, cf, '.')"
   ]
  },
  {
   "cell_type": "markdown",
   "metadata": {},
   "source": [
    "remove steering data with zeros"
   ]
  },
  {
   "cell_type": "code",
   "execution_count": null,
   "metadata": {
    "collapsed": true
   },
   "outputs": [],
   "source": [
    "X_train_lake_c2_c, y_train_lake_c2_c = removeZerosFromCenter(X_train_lake_c2_c, y_train_lake_c2_c)\n",
    "X_train_lake_c2_l, y_train_lake_c2_l = removeZerosFromLeft(X_train_lake_c2_l, y_train_lake_c2_l, cf)\n",
    "X_train_lake_c2_r, y_train_lake_c2_r = removeZerosFromRight(X_train_lake_c2_r, y_train_lake_c2_r, cf)"
   ]
  },
  {
   "cell_type": "code",
   "execution_count": null,
   "metadata": {
    "collapsed": false
   },
   "outputs": [],
   "source": [
    "print('X_train_lake_c2_c shape: ', X_train_lake_c2_c.shape)\n",
    "print('y_train_lake_c2_c shape: ', y_train_lake_c2_c.shape)\n",
    "print('y_train_lake_c2_l shape: ', X_train_lake_c2_l.shape)\n",
    "print('X_train_lake_c2_l shape: ', y_train_lake_c2_l.shape)\n",
    "print('X_train_lake_c2_r shape: ', X_train_lake_c2_r.shape)\n",
    "print('y_train_lake_c2_r shape: ', y_train_lake_c2_r.shape)"
   ]
  },
  {
   "cell_type": "markdown",
   "metadata": {},
   "source": [
    "append them together"
   ]
  },
  {
   "cell_type": "code",
   "execution_count": null,
   "metadata": {
    "collapsed": false
   },
   "outputs": [],
   "source": [
    "X_train_lake_c2 = np.append(X_train_lake_c2_c, X_train_lake_c2_l, axis = 0)\n",
    "X_train_lake_c2 = np.append(X_train_lake_c2, X_train_lake_c2_r, axis = 0)\n",
    "print('X_train_lake_c2 shape: ', X_train_lake_c2.shape)\n",
    "y_train_lake_c2 = np.append(y_train_lake_c2_c, y_train_lake_c2_l, axis = 0)\n",
    "y_train_lake_c2 = np.append(y_train_lake_c2, y_train_lake_c2_r, axis = 0)\n",
    "print('y_train_lake_c2 shape: ', y_train_lake_c2.shape)"
   ]
  },
  {
   "cell_type": "markdown",
   "metadata": {},
   "source": [
    "### <font color='green'>=> X_train_lake_c2, y_train_lake_c2</font>"
   ]
  },
  {
   "cell_type": "markdown",
   "metadata": {},
   "source": [
    "### Create data from ken dirt recovery_set1 (dirt2)"
   ]
  },
  {
   "cell_type": "code",
   "execution_count": null,
   "metadata": {
    "collapsed": true
   },
   "outputs": [],
   "source": [
    "data_pd_dirt2_cw = createDataFrame('controller_dirt_track1_set1_cw/driving_log.csv')"
   ]
  },
  {
   "cell_type": "code",
   "execution_count": null,
   "metadata": {
    "collapsed": false
   },
   "outputs": [],
   "source": [
    "(X_train_dirt2_cw_c, \n",
    "X_train_dirt2_cw_l, \n",
    "X_train_dirt2_cw_r, \n",
    "y_train_dirt2_cw_c,\n",
    "y_train_dirt2_cw_l,\n",
    "y_train_dirt2_cw_r) = createTrainingDataPathsCLR(data_pd_dirt2_cw, 0.15, 'controller_dirt_track1_set1_cw/')\n",
    "\n",
    "X_train_dirt2_cw_c, y_train_dirt2_cw_c = removeZerosFromCenter(X_train_dirt2_cw_c, y_train_dirt2_cw_c)\n",
    "X_train_dirt2_cw_l, y_train_dirt2_cw_l = removeZerosFromLeft(X_train_dirt2_cw_l, y_train_dirt2_cw_l, cf)\n",
    "X_train_dirt2_cw_r, y_train_dirt2_cw_r = removeZerosFromRight(X_train_dirt2_cw_r, y_train_dirt2_cw_r, cf)\n",
    "\n",
    "print('X_train_dirt2_cw_c shape: ', X_train_dirt2_cw_c.shape)\n",
    "print('y_train_dirt2_cw_c shape: ', y_train_dirt2_cw_c.shape)\n",
    "print('y_train_dirt2_cw_l shape: ', X_train_dirt2_cw_l.shape)\n",
    "print('X_train_dirt2_cw_l shape: ', y_train_dirt2_cw_l.shape)\n",
    "print('X_train_dirt2_cw_r shape: ', X_train_dirt2_cw_r.shape)\n",
    "print('y_train_dirt2_cw_r shape: ', y_train_dirt2_cw_r.shape)\n",
    "\n",
    "X_train_dirt2_cw = np.append(X_train_dirt2_cw_c, X_train_dirt2_cw_l, axis = 0)\n",
    "X_train_dirt2_cw = np.append(X_train_dirt2_cw, X_train_dirt2_cw_r, axis = 0)\n",
    "print('X_train_dirt2_cw shape: ', X_train_dirt2_cw.shape)\n",
    "y_train_dirt2_cw = np.append(y_train_dirt2_cw_c, y_train_dirt2_cw_l, axis = 0)\n",
    "y_train_dirt2_cw = np.append(y_train_dirt2_cw, y_train_dirt2_cw_r, axis = 0)\n",
    "print('y_train_dirt2_cw shape: ', y_train_dirt2_cw.shape)"
   ]
  },
  {
   "cell_type": "markdown",
   "metadata": {},
   "source": [
    "### <font color='green'>=> X_train_dirt2_cw, y_train_dirt2_cw</font>#"
   ]
  },
  {
   "cell_type": "markdown",
   "metadata": {},
   "source": [
    "### Create data from ken dirt recovery_set2 (dirt3)"
   ]
  },
  {
   "cell_type": "code",
   "execution_count": null,
   "metadata": {
    "collapsed": true
   },
   "outputs": [],
   "source": [
    "data_pd_dirt3_cw = createDataFrame('controller_dirt_track1_set2_cw/driving_log.csv')"
   ]
  },
  {
   "cell_type": "code",
   "execution_count": null,
   "metadata": {
    "collapsed": false
   },
   "outputs": [],
   "source": [
    "(X_train_dirt3_cw_c, \n",
    "X_train_dirt3_cw_l, \n",
    "X_train_dirt3_cw_r, \n",
    "y_train_dirt3_cw_c,\n",
    "y_train_dirt3_cw_l,\n",
    "y_train_dirt3_cw_r) = createTrainingDataPathsCLR(data_pd_dirt3_cw, 0.15, 'controller_dirt_track1_set2_cw/')\n",
    "\n",
    "X_train_dirt3_cw_c, y_train_dirt3_cw_c = removeZerosFromCenter(X_train_dirt3_cw_c, y_train_dirt3_cw_c)\n",
    "X_train_dirt3_cw_l, y_train_dirt3_cw_l = removeZerosFromLeft(X_train_dirt3_cw_l, y_train_dirt3_cw_l, cf)\n",
    "X_train_dirt3_cw_r, y_train_dirt3_cw_r = removeZerosFromRight(X_train_dirt3_cw_r, y_train_dirt3_cw_r, cf)\n",
    "\n",
    "print('X_train_dirt3_cw_c shape: ', X_train_dirt3_cw_c.shape)\n",
    "print('y_train_dirt3_cw_c shape: ', y_train_dirt3_cw_c.shape)\n",
    "print('y_train_dirt3_cw_l shape: ', X_train_dirt3_cw_l.shape)\n",
    "print('X_train_dirt3_cw_l shape: ', y_train_dirt3_cw_l.shape)\n",
    "print('X_train_dirt3_cw_r shape: ', X_train_dirt3_cw_r.shape)\n",
    "print('y_train_dirt3_cw_r shape: ', y_train_dirt3_cw_r.shape)\n",
    "\n",
    "X_train_dirt3_cw = np.append(X_train_dirt3_cw_c, X_train_dirt3_cw_l, axis = 0)\n",
    "X_train_dirt3_cw = np.append(X_train_dirt3_cw, X_train_dirt3_cw_r, axis = 0)\n",
    "print('X_train_dirt3_cw shape: ', X_train_dirt3_cw.shape)\n",
    "y_train_dirt3_cw = np.append(y_train_dirt3_cw_c, y_train_dirt3_cw_l, axis = 0)\n",
    "y_train_dirt3_cw = np.append(y_train_dirt3_cw, y_train_dirt3_cw_r, axis = 0)\n",
    "print('y_train_dirt3_cw shape: ', y_train_dirt3_cw.shape)"
   ]
  },
  {
   "cell_type": "markdown",
   "metadata": {},
   "source": [
    "### Create data from turn before bridge"
   ]
  },
  {
   "cell_type": "code",
   "execution_count": null,
   "metadata": {
    "collapsed": true
   },
   "outputs": [],
   "source": [
    "data_pd_bridge = createDataFrame('turn_before_bridge/driving_log.csv')"
   ]
  },
  {
   "cell_type": "code",
   "execution_count": null,
   "metadata": {
    "collapsed": false
   },
   "outputs": [],
   "source": [
    "(X_train_bridge_c, \n",
    "X_train_bridge_l, \n",
    "X_train_bridge_r, \n",
    "y_train_bridge_c,\n",
    "y_train_bridge_l,\n",
    "y_train_bridge_r) = createTrainingDataPathsCLR(data_pd_bridge, 0.15, '.')\n",
    "\n",
    "X_train_bridge_c, y_train_bridge_c = removeZerosFromCenter(X_train_bridge_c, y_train_bridge_c)\n",
    "X_train_bridge_l, y_train_bridge_l = removeZerosFromLeft(X_train_bridge_l, y_train_bridge_l, cf)\n",
    "X_train_bridge_r, y_train_bridge_r = removeZerosFromRight(X_train_bridge_r, y_train_bridge_r, cf)\n",
    "\n",
    "print('X_train_bridge_c shape: ', X_train_bridge_c.shape)\n",
    "print('y_train_bridge_c shape: ', y_train_bridge_c.shape)\n",
    "print('y_train_bridge_l shape: ', X_train_bridge_l.shape)\n",
    "print('X_train_bridge_l shape: ', y_train_bridge_l.shape)\n",
    "print('X_train_bridge_r shape: ', X_train_bridge_r.shape)\n",
    "print('y_train_bridge_r shape: ', y_train_bridge_r.shape)\n",
    "\n",
    "X_train_bridge = np.append(X_train_bridge_c, X_train_bridge_l, axis = 0)\n",
    "X_train_bridge = np.append(X_train_bridge, X_train_bridge_r, axis = 0)\n",
    "print('X_train_bridge shape: ', X_train_bridge.shape)\n",
    "y_train_bridge = np.append(y_train_bridge_c, y_train_bridge_l, axis = 0)\n",
    "y_train_bridge = np.append(y_train_bridge, y_train_bridge_r, axis = 0)\n",
    "print('y_train_cwr2 shape: ', y_train_bridge.shape)"
   ]
  },
  {
   "cell_type": "markdown",
   "metadata": {},
   "source": [
    "### <font color='green'>=> X_train_dirt3_cw, y_train_dirt3_cw</font>#"
   ]
  }
 ],
 "metadata": {
  "anaconda-cloud": {},
  "kernelspec": {
   "display_name": "Python [conda env:python3]",
   "language": "python",
   "name": "conda-env-python3-py"
  },
  "language_info": {
   "codemirror_mode": {
    "name": "ipython",
    "version": 3
   },
   "file_extension": ".py",
   "mimetype": "text/x-python",
   "name": "python",
   "nbconvert_exporter": "python",
   "pygments_lexer": "ipython3",
   "version": "3.5.2"
  }
 },
 "nbformat": 4,
 "nbformat_minor": 1
}
