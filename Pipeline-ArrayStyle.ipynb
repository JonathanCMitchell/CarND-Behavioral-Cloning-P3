{
 "cells": [
  {
   "cell_type": "code",
   "execution_count": 1,
   "metadata": {
    "collapsed": false
   },
   "outputs": [],
   "source": [
    "import matplotlib.pyplot as plt\n",
    "import tensorflow as tf\n",
    "import matplotlib.gridspec as gridspec\n",
    "import cv2\n",
    "import matplotlib.image as mpimg\n",
    "import os\n",
    "import pickle\n",
    "import pandas as pd\n",
    "from sklearn.utils import shuffle\n",
    "import numpy as np\n",
    "from sklearn.model_selection import train_test_split\n",
    "%matplotlib inline"
   ]
  },
  {
   "cell_type": "markdown",
   "metadata": {},
   "source": [
    "## Acquisition Functions"
   ]
  },
  {
   "cell_type": "code",
   "execution_count": 2,
   "metadata": {
    "collapsed": true
   },
   "outputs": [],
   "source": [
    "cf = 0.15"
   ]
  },
  {
   "cell_type": "code",
   "execution_count": 3,
   "metadata": {
    "collapsed": true
   },
   "outputs": [],
   "source": [
    "def createDataFrame(data_path):\n",
    "    \"\"\"\n",
    "    input: data_path: path to data\n",
    "    return: data frame\n",
    "    \"\"\"\n",
    "    data_frame = pd.read_csv(data_path)\n",
    "    data_frame.columns = ['center', 'left', 'right', 'steering', 'throttle', 'brake', 'speed']\n",
    "    return data_frame"
   ]
  },
  {
   "cell_type": "code",
   "execution_count": 4,
   "metadata": {
    "collapsed": true
   },
   "outputs": [],
   "source": [
    "def createTrainingDataPathsCenterLeftRightPrefixGood(df, correction_factor, prefix_path):\n",
    "    \"\"\"\n",
    "    creates training data and training labels/ measurements from a data frame\n",
    "    inputs:\n",
    "    df: pandas DataFrame object\n",
    "    start: starting row to grab data\n",
    "    end: ending row to grab data\n",
    "    correction_factor: factor to correct steering angles\n",
    "    \"\"\"\n",
    "    center_images = []\n",
    "    left_images = []\n",
    "    right_images = []\n",
    "    measurements = []\n",
    "    abs_path_to_IMG = os.path.abspath(prefix_path)\n",
    "    for idx, row in df.iterrows():\n",
    "        # center images\n",
    "        center_images.append(os.path.join(abs_path_to_IMG, row['center'].strip()))\n",
    "        measurements.append(row['steering'])\n",
    "\n",
    "        # left images\n",
    "        left_images.append(os.path.join(abs_path_to_IMG, row['left'].strip()))\n",
    "        measurements.append(row['steering'] - correction_factor)\n",
    "\n",
    "        # right images\n",
    "        right_images.append(os.path.join(abs_path_to_IMG, row['right'].strip()))\n",
    "        measurements.append(row['steering'] + correction_factor)\n",
    "\n",
    "    return (np.asarray(center_images), np.asarray(left_images), np.asarray(right_images), np.asarray(measurements, dtype=np.float32))"
   ]
  },
  {
   "cell_type": "code",
   "execution_count": 5,
   "metadata": {
    "collapsed": true
   },
   "outputs": [],
   "source": [
    "# def createTrainingDataPathsCLR(df, correction_factor, prefix_path):\n",
    "#     \"\"\"\n",
    "#     creates training data and training labels/ measurements from a data frame\n",
    "#     inputs:\n",
    "#     df: pandas DataFrame object\n",
    "#     start: starting row to grab data\n",
    "#     end: ending row to grab data\n",
    "#     correction_factor: factor to correct steering angles\n",
    "#     \"\"\"\n",
    "#     center_images = []\n",
    "#     left_images = []\n",
    "#     right_images = []\n",
    "    \n",
    "#     center_measurements = []\n",
    "#     left_measurements = []\n",
    "#     right_measurements = []\n",
    "    \n",
    "#     abs_path_to_IMG = os.path.abspath(prefix_path)\n",
    "#     for idx, row in df.iterrows():\n",
    "#         # center images\n",
    "#         center_images.append(os.path.join(abs_path_to_IMG, row['center'].strip()))\n",
    "#         center_measurements.append(row['steering'])\n",
    "\n",
    "#         # left images\n",
    "#         left_images.append(os.path.join(abs_path_to_IMG, row['left'].strip()))\n",
    "#         left_measurements.append(row['steering'] - correction_factor)\n",
    "\n",
    "#         # right images\n",
    "#         right_images.append(os.path.join(abs_path_to_IMG, row['right'].strip()))\n",
    "#         right_measurements.append(row['steering'] + correction_factor)\n",
    "            \n",
    "#     return (\n",
    "#         np.asarray(center_images),\n",
    "#         np.asarray(left_images),\n",
    "#         np.asarray(right_images),\n",
    "#         np.asarray(center_measurements, dtype=np.float32),\n",
    "#         np.asarray(left_measurements, dtype=np.float32),\n",
    "#         np.asarray(right_measurements, dtype=np.float32),\n",
    "#     )"
   ]
  },
  {
   "cell_type": "code",
   "execution_count": null,
   "metadata": {
    "collapsed": true
   },
   "outputs": [],
   "source": [
    "def createTrainingDataPathsCLR(df, correction_factor, prefix_path):\n",
    "    \"\"\"\n",
    "    creates training data and training labels/ measurements from a data frame\n",
    "    inputs:\n",
    "    df: pandas DataFrame object\n",
    "    start: starting row to grab data\n",
    "    end: ending row to grab data\n",
    "    correction_factor: factor to correct steering angles\n",
    "    \"\"\"\n",
    "    center_images = []\n",
    "    left_images = []\n",
    "    right_images = []\n",
    "    \n",
    "    center_measurements = []\n",
    "    left_measurements = []\n",
    "    right_measurements = []\n",
    "    \n",
    "    abs_path_to_IMG = os.path.abspath(prefix_path)\n",
    "    for idx, row in df.iterrows():\n",
    "        # center images\n",
    "        center_images.append(os.path.join(abs_path_to_IMG, row['center'].strip()))\n",
    "        center_measurements.append(row['steering'])\n",
    "\n",
    "        # left images\n",
    "        left_images.append(os.path.join(abs_path_to_IMG, row['left'].strip()))\n",
    "        left_measurements.append(row['steering'] - correction_factor)\n",
    "\n",
    "        # right images\n",
    "        right_images.append(os.path.join(abs_path_to_IMG, row['right'].strip()))\n",
    "        right_measurements.append(row['steering'] + correction_factor)\n",
    "            \n",
    "    return (\n",
    "        np.asarray(center_images),\n",
    "        np.asarray(left_images),\n",
    "        np.asarray(right_images),\n",
    "        np.asarray(center_measurements, dtype=np.float32),\n",
    "        np.asarray(left_measurements, dtype=np.float32),\n",
    "        np.asarray(right_measurements, dtype=np.float32),\n",
    "    )"
   ]
  },
  {
   "cell_type": "code",
   "execution_count": 6,
   "metadata": {
    "collapsed": true
   },
   "outputs": [],
   "source": [
    "def removeZerosFromCenter(X, y, rang = 0.1):\n",
    "    low = -1 * rang\n",
    "    high = rang\n",
    "    is_y_in_range = np.logical_or(y <= low, y >= high)\n",
    "    X = X[is_y_in_range]\n",
    "    y = y[is_y_in_range]\n",
    "    return X,y"
   ]
  },
  {
   "cell_type": "code",
   "execution_count": 7,
   "metadata": {
    "collapsed": true
   },
   "outputs": [],
   "source": [
    "def removeZerosFromLeft(X, y, correction_factor, rang = 0.1):\n",
    "    low = -1 * (correction_factor + rang)\n",
    "    high = -1 * (correction_factor - rang)\n",
    "    is_y_in_range = np.logical_or(y <= low, y >= high)\n",
    "    X = X[is_y_in_range]\n",
    "    y = y[is_y_in_range]\n",
    "    return X, y"
   ]
  },
  {
   "cell_type": "code",
   "execution_count": 8,
   "metadata": {
    "collapsed": true
   },
   "outputs": [],
   "source": [
    "def removeZerosFromRight(X, y, correction_factor, rang = 0.1):\n",
    "    high = correction_factor + rang\n",
    "    low = correction_factor - rang\n",
    "    is_y_range = np.logical_or(y <= low, y >= high)\n",
    "    X = X[is_y_range]\n",
    "    y = y[is_y_range]\n",
    "    return X, y"
   ]
  },
  {
   "cell_type": "markdown",
   "metadata": {},
   "source": [
    "### Create data from dirt recovery (ccw)"
   ]
  },
  {
   "cell_type": "code",
   "execution_count": 9,
   "metadata": {
    "collapsed": false
   },
   "outputs": [],
   "source": [
    "data_pd_dirt_c1 = createDataFrame('A_Recovery_right_lane_dirt/driving_log.csv')"
   ]
  },
  {
   "cell_type": "code",
   "execution_count": 10,
   "metadata": {
    "collapsed": false
   },
   "outputs": [],
   "source": [
    "(X_train_dirt_c1_c, \n",
    "X_train_dirt_c1_l, \n",
    "X_train_dirt_c1_r, \n",
    "y_train_dirt_c1_c,\n",
    "y_train_dirt_c1_l,\n",
    "y_train_dirt_c1_r) = createTrainingDataPathsCLR(data_pd_dirt_c1, cf, '.')"
   ]
  },
  {
   "cell_type": "code",
   "execution_count": 11,
   "metadata": {
    "collapsed": false
   },
   "outputs": [
    {
     "name": "stdout",
     "output_type": "stream",
     "text": [
      "X_train_dirt_c1_c shape:  (309,)\n",
      "y_train_dirt_c1_c shape:  (309,)\n",
      "y_train_dirt_c1_l shape:  (309,)\n",
      "X_train_dirt_c1_l shape:  (309,)\n",
      "X_train_dirt_c1_r shape:  (309,)\n",
      "y_train_dirt_c1_r shape:  (309,)\n"
     ]
    }
   ],
   "source": [
    "print('X_train_dirt_c1_c shape: ', X_train_dirt_c1_c.shape)\n",
    "print('y_train_dirt_c1_c shape: ', y_train_dirt_c1_c.shape)\n",
    "print('y_train_dirt_c1_l shape: ', X_train_dirt_c1_l.shape)\n",
    "print('X_train_dirt_c1_l shape: ', y_train_dirt_c1_l.shape)\n",
    "print('X_train_dirt_c1_r shape: ', X_train_dirt_c1_r.shape)\n",
    "print('y_train_dirt_c1_r shape: ', y_train_dirt_c1_r.shape)"
   ]
  },
  {
   "cell_type": "markdown",
   "metadata": {},
   "source": [
    "remove steering data with zeros"
   ]
  },
  {
   "cell_type": "code",
   "execution_count": 12,
   "metadata": {
    "collapsed": false
   },
   "outputs": [
    {
     "name": "stdout",
     "output_type": "stream",
     "text": [
      "0.15\n"
     ]
    }
   ],
   "source": [
    "print(cf)"
   ]
  },
  {
   "cell_type": "code",
   "execution_count": 13,
   "metadata": {
    "collapsed": false
   },
   "outputs": [],
   "source": [
    "X_train_dirt_c1_c, y_train_dirt_c1_c = removeZerosFromCenter(X_train_dirt_c1_c, y_train_dirt_c1_c)\n",
    "X_train_dirt_c1_l, y_train_dirt_c1_l = removeZerosFromLeft(X_train_dirt_c1_l, y_train_dirt_c1_l, cf)\n",
    "X_train_dirt_c1_r, y_train_dirt_c1_r = removeZerosFromRight(X_train_dirt_c1_r, y_train_dirt_c1_r, cf)"
   ]
  },
  {
   "cell_type": "code",
   "execution_count": 14,
   "metadata": {
    "collapsed": false
   },
   "outputs": [
    {
     "name": "stdout",
     "output_type": "stream",
     "text": [
      "X_train_dirt_c1_c shape:  (159,)\n",
      "y_train_dirt_c1_c shape:  (159,)\n",
      "y_train_dirt_c1_l shape:  (159,)\n",
      "X_train_dirt_c1_l shape:  (159,)\n",
      "X_train_dirt_c1_r shape:  (159,)\n",
      "y_train_dirt_c1_r shape:  (159,)\n"
     ]
    }
   ],
   "source": [
    "print('X_train_dirt_c1_c shape: ', X_train_dirt_c1_c.shape)\n",
    "print('y_train_dirt_c1_c shape: ', y_train_dirt_c1_c.shape)\n",
    "print('y_train_dirt_c1_l shape: ', X_train_dirt_c1_l.shape)\n",
    "print('X_train_dirt_c1_l shape: ', y_train_dirt_c1_l.shape)\n",
    "print('X_train_dirt_c1_r shape: ', X_train_dirt_c1_r.shape)\n",
    "print('y_train_dirt_c1_r shape: ', y_train_dirt_c1_r.shape)"
   ]
  },
  {
   "cell_type": "markdown",
   "metadata": {},
   "source": [
    "append them together"
   ]
  },
  {
   "cell_type": "code",
   "execution_count": 15,
   "metadata": {
    "collapsed": false
   },
   "outputs": [
    {
     "name": "stdout",
     "output_type": "stream",
     "text": [
      "X_train_dirt_c1 shape:  (477,)\n",
      "y_train_dirt_c1 shape:  (477,)\n"
     ]
    }
   ],
   "source": [
    "X_train_dirt_c1 = np.append(X_train_dirt_c1_c, X_train_dirt_c1_l, axis = 0)\n",
    "X_train_dirt_c1 = np.append(X_train_dirt_c1, X_train_dirt_c1_r, axis = 0)\n",
    "print('X_train_dirt_c1 shape: ', X_train_dirt_c1.shape)\n",
    "y_train_dirt_c1 = np.append(y_train_dirt_c1_c, y_train_dirt_c1_l, axis = 0)\n",
    "y_train_dirt_c1 = np.append(y_train_dirt_c1, y_train_dirt_c1_r, axis = 0)\n",
    "print('y_train_dirt_c1 shape: ', y_train_dirt_c1.shape)"
   ]
  },
  {
   "cell_type": "markdown",
   "metadata": {},
   "source": [
    "### <font color='green'>=> X_train_dirt_c1, y_train_dirt_c1</font>"
   ]
  },
  {
   "cell_type": "markdown",
   "metadata": {},
   "source": [
    "### Create data from recovery_by_lake_1 (cw)"
   ]
  },
  {
   "cell_type": "code",
   "execution_count": 16,
   "metadata": {
    "collapsed": true
   },
   "outputs": [],
   "source": [
    "data_pd_lake_c1 = createDataFrame('recovery_cw_bylake/driving_log.csv')"
   ]
  },
  {
   "cell_type": "code",
   "execution_count": 17,
   "metadata": {
    "collapsed": false
   },
   "outputs": [],
   "source": [
    "(X_train_lake_c1_c, \n",
    "X_train_lake_c1_l, \n",
    "X_train_lake_c1_r, \n",
    "y_train_lake_c1_c,\n",
    "y_train_lake_c1_l,\n",
    "y_train_lake_c1_r) = createTrainingDataPathsCLR(data_pd_lake_c1, cf, '.')"
   ]
  },
  {
   "cell_type": "markdown",
   "metadata": {},
   "source": [
    "remove steering data with zeros"
   ]
  },
  {
   "cell_type": "code",
   "execution_count": 18,
   "metadata": {
    "collapsed": true
   },
   "outputs": [],
   "source": [
    "X_train_lake_c1_c, y_train_lake_c1_c = removeZerosFromCenter(X_train_lake_c1_c, y_train_lake_c1_c)\n",
    "X_train_lake_c1_l, y_train_lake_c1_l = removeZerosFromLeft(X_train_lake_c1_l, y_train_lake_c1_l, cf)\n",
    "X_train_lake_c1_r, y_train_lake_c1_r = removeZerosFromRight(X_train_lake_c1_r, y_train_lake_c1_r, cf)"
   ]
  },
  {
   "cell_type": "code",
   "execution_count": 19,
   "metadata": {
    "collapsed": false
   },
   "outputs": [
    {
     "name": "stdout",
     "output_type": "stream",
     "text": [
      "X_train_lake_c1_c shape:  (385,)\n",
      "y_train_lake_c1_c shape:  (385,)\n",
      "y_train_lake_c1_l shape:  (385,)\n",
      "X_train_lake_c1_l shape:  (385,)\n",
      "X_train_lake_c1_r shape:  (385,)\n",
      "y_train_lake_c1_r shape:  (385,)\n"
     ]
    }
   ],
   "source": [
    "print('X_train_lake_c1_c shape: ', X_train_lake_c1_c.shape)\n",
    "print('y_train_lake_c1_c shape: ', y_train_lake_c1_c.shape)\n",
    "print('y_train_lake_c1_l shape: ', X_train_lake_c1_l.shape)\n",
    "print('X_train_lake_c1_l shape: ', y_train_lake_c1_l.shape)\n",
    "print('X_train_lake_c1_r shape: ', X_train_lake_c1_r.shape)\n",
    "print('y_train_lake_c1_r shape: ', y_train_lake_c1_r.shape)"
   ]
  },
  {
   "cell_type": "markdown",
   "metadata": {},
   "source": [
    "append them together"
   ]
  },
  {
   "cell_type": "code",
   "execution_count": 20,
   "metadata": {
    "collapsed": false
   },
   "outputs": [
    {
     "name": "stdout",
     "output_type": "stream",
     "text": [
      "X_train_lake_c1 shape:  (1155,)\n",
      "y_train_lake_c1 shape:  (1155,)\n"
     ]
    }
   ],
   "source": [
    "X_train_lake_c1 = np.append(X_train_lake_c1_c, X_train_lake_c1_l, axis = 0)\n",
    "X_train_lake_c1 = np.append(X_train_lake_c1, X_train_lake_c1_r, axis = 0)\n",
    "print('X_train_lake_c1 shape: ', X_train_lake_c1.shape)\n",
    "y_train_lake_c1 = np.append(y_train_lake_c1_c, y_train_lake_c1_l, axis = 0)\n",
    "y_train_lake_c1 = np.append(y_train_lake_c1, y_train_lake_c1_r, axis = 0)\n",
    "print('y_train_lake_c1 shape: ', y_train_lake_c1.shape)"
   ]
  },
  {
   "cell_type": "markdown",
   "metadata": {},
   "source": [
    "### <font color='green'>=> X_train_lake_c1, y_train_lake_c1</font>"
   ]
  },
  {
   "cell_type": "markdown",
   "metadata": {},
   "source": [
    "### Create data from recovery_by_lake_cw_2"
   ]
  },
  {
   "cell_type": "code",
   "execution_count": 21,
   "metadata": {
    "collapsed": true
   },
   "outputs": [],
   "source": [
    "data_pd_lake_c2 = createDataFrame('recovery_cw_by_lake_2/driving_log.csv')"
   ]
  },
  {
   "cell_type": "code",
   "execution_count": 22,
   "metadata": {
    "collapsed": true
   },
   "outputs": [],
   "source": [
    "(X_train_lake_c2_c, \n",
    "X_train_lake_c2_l, \n",
    "X_train_lake_c2_r, \n",
    "y_train_lake_c2_c,\n",
    "y_train_lake_c2_l,\n",
    "y_train_lake_c2_r) = createTrainingDataPathsCLR(data_pd_lake_c2, cf, '.')"
   ]
  },
  {
   "cell_type": "markdown",
   "metadata": {},
   "source": [
    "remove steering data with zeros"
   ]
  },
  {
   "cell_type": "code",
   "execution_count": 23,
   "metadata": {
    "collapsed": true
   },
   "outputs": [],
   "source": [
    "X_train_lake_c2_c, y_train_lake_c2_c = removeZerosFromCenter(X_train_lake_c2_c, y_train_lake_c2_c)\n",
    "X_train_lake_c2_l, y_train_lake_c2_l = removeZerosFromLeft(X_train_lake_c2_l, y_train_lake_c2_l, cf)\n",
    "X_train_lake_c2_r, y_train_lake_c2_r = removeZerosFromRight(X_train_lake_c2_r, y_train_lake_c2_r, cf)"
   ]
  },
  {
   "cell_type": "code",
   "execution_count": 24,
   "metadata": {
    "collapsed": false
   },
   "outputs": [
    {
     "name": "stdout",
     "output_type": "stream",
     "text": [
      "X_train_lake_c2_c shape:  (116,)\n",
      "y_train_lake_c2_c shape:  (116,)\n",
      "y_train_lake_c2_l shape:  (116,)\n",
      "X_train_lake_c2_l shape:  (116,)\n",
      "X_train_lake_c2_r shape:  (116,)\n",
      "y_train_lake_c2_r shape:  (116,)\n"
     ]
    }
   ],
   "source": [
    "print('X_train_lake_c2_c shape: ', X_train_lake_c2_c.shape)\n",
    "print('y_train_lake_c2_c shape: ', y_train_lake_c2_c.shape)\n",
    "print('y_train_lake_c2_l shape: ', X_train_lake_c2_l.shape)\n",
    "print('X_train_lake_c2_l shape: ', y_train_lake_c2_l.shape)\n",
    "print('X_train_lake_c2_r shape: ', X_train_lake_c2_r.shape)\n",
    "print('y_train_lake_c2_r shape: ', y_train_lake_c2_r.shape)"
   ]
  },
  {
   "cell_type": "markdown",
   "metadata": {},
   "source": [
    "append them together"
   ]
  },
  {
   "cell_type": "code",
   "execution_count": 25,
   "metadata": {
    "collapsed": false
   },
   "outputs": [
    {
     "name": "stdout",
     "output_type": "stream",
     "text": [
      "X_train_lake_c2 shape:  (348,)\n",
      "y_train_lake_c2 shape:  (348,)\n"
     ]
    }
   ],
   "source": [
    "X_train_lake_c2 = np.append(X_train_lake_c2_c, X_train_lake_c2_l, axis = 0)\n",
    "X_train_lake_c2 = np.append(X_train_lake_c2, X_train_lake_c2_r, axis = 0)\n",
    "print('X_train_lake_c2 shape: ', X_train_lake_c2.shape)\n",
    "y_train_lake_c2 = np.append(y_train_lake_c2_c, y_train_lake_c2_l, axis = 0)\n",
    "y_train_lake_c2 = np.append(y_train_lake_c2, y_train_lake_c2_r, axis = 0)\n",
    "print('y_train_lake_c2 shape: ', y_train_lake_c2.shape)"
   ]
  },
  {
   "cell_type": "markdown",
   "metadata": {},
   "source": [
    "### <font color='green'>=> X_train_lake_c2, y_train_lake_c2</font>"
   ]
  },
  {
   "cell_type": "markdown",
   "metadata": {},
   "source": [
    "### Create data from ken dirt recovery_set1 (dirt2)"
   ]
  },
  {
   "cell_type": "code",
   "execution_count": 26,
   "metadata": {
    "collapsed": true
   },
   "outputs": [],
   "source": [
    "data_pd_dirt2_cw = createDataFrame('controller_dirt_track1_set1_cw/driving_log.csv')"
   ]
  },
  {
   "cell_type": "code",
   "execution_count": 27,
   "metadata": {
    "collapsed": false
   },
   "outputs": [
    {
     "name": "stdout",
     "output_type": "stream",
     "text": [
      "X_train_dirt2_cw_c shape:  (1558,)\n",
      "y_train_dirt2_cw_c shape:  (1558,)\n",
      "y_train_dirt2_cw_l shape:  (1558,)\n",
      "X_train_dirt2_cw_l shape:  (1558,)\n",
      "X_train_dirt2_cw_r shape:  (1558,)\n",
      "y_train_dirt2_cw_r shape:  (1558,)\n",
      "X_train_dirt2_cw shape:  (4674,)\n",
      "y_train_dirt2_cw shape:  (4674,)\n"
     ]
    }
   ],
   "source": [
    "(X_train_dirt2_cw_c, \n",
    "X_train_dirt2_cw_l, \n",
    "X_train_dirt2_cw_r, \n",
    "y_train_dirt2_cw_c,\n",
    "y_train_dirt2_cw_l,\n",
    "y_train_dirt2_cw_r) = createTrainingDataPathsCLR(data_pd_dirt2_cw, 0.15, 'controller_dirt_track1_set1_cw/')\n",
    "\n",
    "X_train_dirt2_cw_c, y_train_dirt2_cw_c = removeZerosFromCenter(X_train_dirt2_cw_c, y_train_dirt2_cw_c)\n",
    "X_train_dirt2_cw_l, y_train_dirt2_cw_l = removeZerosFromLeft(X_train_dirt2_cw_l, y_train_dirt2_cw_l, cf)\n",
    "X_train_dirt2_cw_r, y_train_dirt2_cw_r = removeZerosFromRight(X_train_dirt2_cw_r, y_train_dirt2_cw_r, cf)\n",
    "\n",
    "print('X_train_dirt2_cw_c shape: ', X_train_dirt2_cw_c.shape)\n",
    "print('y_train_dirt2_cw_c shape: ', y_train_dirt2_cw_c.shape)\n",
    "print('y_train_dirt2_cw_l shape: ', X_train_dirt2_cw_l.shape)\n",
    "print('X_train_dirt2_cw_l shape: ', y_train_dirt2_cw_l.shape)\n",
    "print('X_train_dirt2_cw_r shape: ', X_train_dirt2_cw_r.shape)\n",
    "print('y_train_dirt2_cw_r shape: ', y_train_dirt2_cw_r.shape)\n",
    "\n",
    "X_train_dirt2_cw = np.append(X_train_dirt2_cw_c, X_train_dirt2_cw_l, axis = 0)\n",
    "X_train_dirt2_cw = np.append(X_train_dirt2_cw, X_train_dirt2_cw_r, axis = 0)\n",
    "print('X_train_dirt2_cw shape: ', X_train_dirt2_cw.shape)\n",
    "y_train_dirt2_cw = np.append(y_train_dirt2_cw_c, y_train_dirt2_cw_l, axis = 0)\n",
    "y_train_dirt2_cw = np.append(y_train_dirt2_cw, y_train_dirt2_cw_r, axis = 0)\n",
    "print('y_train_dirt2_cw shape: ', y_train_dirt2_cw.shape)"
   ]
  },
  {
   "cell_type": "markdown",
   "metadata": {},
   "source": [
    "### <font color='green'>=> X_train_dirt2_cw, y_train_dirt2_cw</font>#"
   ]
  },
  {
   "cell_type": "markdown",
   "metadata": {},
   "source": [
    "### Create data from ken dirt recovery_set2 (dirt3)"
   ]
  },
  {
   "cell_type": "code",
   "execution_count": 28,
   "metadata": {
    "collapsed": true
   },
   "outputs": [],
   "source": [
    "data_pd_dirt3_cw = createDataFrame('controller_dirt_track1_set2_cw/driving_log.csv')"
   ]
  },
  {
   "cell_type": "code",
   "execution_count": 29,
   "metadata": {
    "collapsed": false
   },
   "outputs": [
    {
     "name": "stdout",
     "output_type": "stream",
     "text": [
      "X_train_dirt3_cw_c shape:  (218,)\n",
      "y_train_dirt3_cw_c shape:  (218,)\n",
      "y_train_dirt3_cw_l shape:  (218,)\n",
      "X_train_dirt3_cw_l shape:  (218,)\n",
      "X_train_dirt3_cw_r shape:  (218,)\n",
      "y_train_dirt3_cw_r shape:  (218,)\n",
      "X_train_dirt3_cw shape:  (654,)\n",
      "y_train_dirt3_cw shape:  (654,)\n"
     ]
    }
   ],
   "source": [
    "(X_train_dirt3_cw_c, \n",
    "X_train_dirt3_cw_l, \n",
    "X_train_dirt3_cw_r, \n",
    "y_train_dirt3_cw_c,\n",
    "y_train_dirt3_cw_l,\n",
    "y_train_dirt3_cw_r) = createTrainingDataPathsCLR(data_pd_dirt3_cw, 0.15, 'controller_dirt_track1_set2_cw/')\n",
    "\n",
    "X_train_dirt3_cw_c, y_train_dirt3_cw_c = removeZerosFromCenter(X_train_dirt3_cw_c, y_train_dirt3_cw_c)\n",
    "X_train_dirt3_cw_l, y_train_dirt3_cw_l = removeZerosFromLeft(X_train_dirt3_cw_l, y_train_dirt3_cw_l, cf)\n",
    "X_train_dirt3_cw_r, y_train_dirt3_cw_r = removeZerosFromRight(X_train_dirt3_cw_r, y_train_dirt3_cw_r, cf)\n",
    "\n",
    "print('X_train_dirt3_cw_c shape: ', X_train_dirt3_cw_c.shape)\n",
    "print('y_train_dirt3_cw_c shape: ', y_train_dirt3_cw_c.shape)\n",
    "print('y_train_dirt3_cw_l shape: ', X_train_dirt3_cw_l.shape)\n",
    "print('X_train_dirt3_cw_l shape: ', y_train_dirt3_cw_l.shape)\n",
    "print('X_train_dirt3_cw_r shape: ', X_train_dirt3_cw_r.shape)\n",
    "print('y_train_dirt3_cw_r shape: ', y_train_dirt3_cw_r.shape)\n",
    "\n",
    "X_train_dirt3_cw = np.append(X_train_dirt3_cw_c, X_train_dirt3_cw_l, axis = 0)\n",
    "X_train_dirt3_cw = np.append(X_train_dirt3_cw, X_train_dirt3_cw_r, axis = 0)\n",
    "print('X_train_dirt3_cw shape: ', X_train_dirt3_cw.shape)\n",
    "y_train_dirt3_cw = np.append(y_train_dirt3_cw_c, y_train_dirt3_cw_l, axis = 0)\n",
    "y_train_dirt3_cw = np.append(y_train_dirt3_cw, y_train_dirt3_cw_r, axis = 0)\n",
    "print('y_train_dirt3_cw shape: ', y_train_dirt3_cw.shape)"
   ]
  },
  {
   "cell_type": "markdown",
   "metadata": {},
   "source": [
    "### Create data from turn before bridge"
   ]
  },
  {
   "cell_type": "code",
   "execution_count": 30,
   "metadata": {
    "collapsed": true
   },
   "outputs": [],
   "source": [
    "data_pd_bridge = createDataFrame('turn_before_bridge/driving_log.csv')"
   ]
  },
  {
   "cell_type": "code",
   "execution_count": 31,
   "metadata": {
    "collapsed": false
   },
   "outputs": [
    {
     "name": "stdout",
     "output_type": "stream",
     "text": [
      "X_train_bridge_c shape:  (333,)\n",
      "y_train_bridge_c shape:  (333,)\n",
      "y_train_bridge_l shape:  (333,)\n",
      "X_train_bridge_l shape:  (333,)\n",
      "X_train_bridge_r shape:  (333,)\n",
      "y_train_bridge_r shape:  (333,)\n",
      "X_train_bridge shape:  (999,)\n",
      "y_train_cwr2 shape:  (999,)\n"
     ]
    }
   ],
   "source": [
    "(X_train_bridge_c, \n",
    "X_train_bridge_l, \n",
    "X_train_bridge_r, \n",
    "y_train_bridge_c,\n",
    "y_train_bridge_l,\n",
    "y_train_bridge_r) = createTrainingDataPathsCLR(data_pd_bridge, 0.15, '.')\n",
    "\n",
    "X_train_bridge_c, y_train_bridge_c = removeZerosFromCenter(X_train_bridge_c, y_train_bridge_c)\n",
    "X_train_bridge_l, y_train_bridge_l = removeZerosFromLeft(X_train_bridge_l, y_train_bridge_l, cf)\n",
    "X_train_bridge_r, y_train_bridge_r = removeZerosFromRight(X_train_bridge_r, y_train_bridge_r, cf)\n",
    "\n",
    "print('X_train_bridge_c shape: ', X_train_bridge_c.shape)\n",
    "print('y_train_bridge_c shape: ', y_train_bridge_c.shape)\n",
    "print('y_train_bridge_l shape: ', X_train_bridge_l.shape)\n",
    "print('X_train_bridge_l shape: ', y_train_bridge_l.shape)\n",
    "print('X_train_bridge_r shape: ', X_train_bridge_r.shape)\n",
    "print('y_train_bridge_r shape: ', y_train_bridge_r.shape)\n",
    "\n",
    "X_train_bridge = np.append(X_train_bridge_c, X_train_bridge_l, axis = 0)\n",
    "X_train_bridge = np.append(X_train_bridge, X_train_bridge_r, axis = 0)\n",
    "print('X_train_bridge shape: ', X_train_bridge.shape)\n",
    "y_train_bridge = np.append(y_train_bridge_c, y_train_bridge_l, axis = 0)\n",
    "y_train_bridge = np.append(y_train_bridge, y_train_bridge_r, axis = 0)\n",
    "print('y_train_cwr2 shape: ', y_train_bridge.shape)"
   ]
  },
  {
   "cell_type": "markdown",
   "metadata": {},
   "source": [
    "### <font color='green'>=> X_train_dirt3_cw, y_train_dirt3_cw</font>#"
   ]
  },
  {
   "cell_type": "markdown",
   "metadata": {},
   "source": [
    "### Create data from udacity"
   ]
  },
  {
   "cell_type": "code",
   "execution_count": 32,
   "metadata": {
    "collapsed": false
   },
   "outputs": [
    {
     "name": "stdout",
     "output_type": "stream",
     "text": [
      "(160, 320, 3)\n"
     ]
    },
    {
     "data": {
      "text/plain": [
       "<matplotlib.image.AxesImage at 0x7febf5635978>"
      ]
     },
     "execution_count": 32,
     "metadata": {},
     "output_type": "execute_result"
    },
    {
     "data": {
      "image/png": "[encoded data removed]",
      "text/plain": [
       "<matplotlib.figure.Figure at 0x7febf5ceba90>"
      ]
     },
     "metadata": {},
     "output_type": "display_data"
    }
   ],
   "source": [
    "impath = X_train_dirt3_cw[100]\n",
    "img = mpimg.imread(impath)\n",
    "print(img.shape)\n",
    "plt.imshow(img)"
   ]
  },
  {
   "cell_type": "code",
   "execution_count": 33,
   "metadata": {
    "collapsed": false
   },
   "outputs": [
    {
     "name": "stdout",
     "output_type": "stream",
     "text": [
      "shape of X_train_udacity:  (24108,)\n",
      "shape of y_train_udacity:  (24108,)\n"
     ]
    }
   ],
   "source": [
    "data_pd_cw2 = createDataFrame('data/driving_log.csv')\n",
    "X_train_cw2_c, X_train_cw2_l, X_train_cw2_r, y_train_cw2 = createTrainingDataPathsCenterLeftRightPrefixGood(data_pd_cw2, cf, 'data/')\n",
    "# data_pd_cw2.hist(column = 'throttle')\n",
    "X_train_udacity = np.append(X_train_cw2_c, X_train_cw2_l, axis = 0)\n",
    "X_train_udacity = np.append(X_train_udacity, X_train_cw2_r, axis = 0)\n",
    "y_train_udacity = y_train_cw2\n",
    "print('shape of X_train_udacity: ', X_train_udacity.shape)\n",
    "print('shape of y_train_udacity: ', y_train_udacity.shape)"
   ]
  },
  {
   "cell_type": "code",
   "execution_count": 34,
   "metadata": {
    "collapsed": false
   },
   "outputs": [],
   "source": [
    "# Create more udacity data \n",
    "(X_train_cw2_c, \n",
    "X_train_cw2_l, \n",
    "X_train_cw2_r, \n",
    "y_train_cw2_c,\n",
    "y_train_cw2_l,\n",
    "y_train_cw2_r) = createTrainingDataPathsCLR(data_pd_cw2, 0.15, 'data/')"
   ]
  },
  {
   "cell_type": "code",
   "execution_count": 35,
   "metadata": {
    "collapsed": false
   },
   "outputs": [
    {
     "name": "stdout",
     "output_type": "stream",
     "text": [
      "X_train_cw2_c shape:  (8036,)\n",
      "y_train_cw2_c shape:  (8036,)\n",
      "y_train_cw2_l shape:  (8036,)\n",
      "X_train_cw2_l shape:  (8036,)\n",
      "X_train_cw2_r shape:  (8036,)\n",
      "y_train_cw2_r shape:  (8036,)\n"
     ]
    }
   ],
   "source": [
    "print('X_train_cw2_c shape: ', X_train_cw2_c.shape)\n",
    "print('y_train_cw2_c shape: ', y_train_cw2_c.shape)\n",
    "print('y_train_cw2_l shape: ', X_train_cw2_l.shape)\n",
    "print('X_train_cw2_l shape: ', y_train_cw2_l.shape)\n",
    "print('X_train_cw2_r shape: ', X_train_cw2_r.shape)\n",
    "print('y_train_cw2_r shape: ', y_train_cw2_r.shape)"
   ]
  },
  {
   "cell_type": "code",
   "execution_count": 36,
   "metadata": {
    "collapsed": false
   },
   "outputs": [
    {
     "name": "stdout",
     "output_type": "stream",
     "text": [
      "X_train_cw2_c shape:  (2113,)\n",
      "y_train_cw2_c shape:  (2113,)\n",
      "y_train_cw2_l shape:  (2113,)\n",
      "X_train_cw2_l shape:  (2113,)\n",
      "X_train_cw2_r shape:  (2113,)\n",
      "y_train_cw2_r shape:  (2113,)\n",
      "X_train_udacity_2 shape:  (6339,)\n",
      "y_train_udacity_2 shape:  (6339,)\n"
     ]
    }
   ],
   "source": [
    "X_train_cw2_c, y_train_cw2_c = removeZerosFromCenter(X_train_cw2_c, y_train_cw2_c)\n",
    "X_train_cw2_l, y_train_cw2_l = removeZerosFromLeft(X_train_cw2_l, y_train_cw2_l, cf)\n",
    "X_train_cw2_r, y_train_cw2_r = removeZerosFromRight(X_train_cw2_r, y_train_cw2_r, cf)\n",
    "\n",
    "print('X_train_cw2_c shape: ', X_train_cw2_c.shape)\n",
    "print('y_train_cw2_c shape: ', y_train_cw2_c.shape)\n",
    "print('y_train_cw2_l shape: ', X_train_cw2_l.shape)\n",
    "print('X_train_cw2_l shape: ', y_train_cw2_l.shape)\n",
    "print('X_train_cw2_r shape: ', X_train_cw2_r.shape)\n",
    "print('y_train_cw2_r shape: ', y_train_cw2_r.shape)\n",
    "X_train_udacity_2 = np.append(X_train_cw2_c, X_train_cw2_l, axis = 0)\n",
    "X_train_udacity_2 = np.append(X_train_udacity_2, X_train_cw2_r, axis = 0)\n",
    "print('X_train_udacity_2 shape: ', X_train_udacity_2.shape)\n",
    "y_train_udacity_2 = np.append(y_train_cw2_c, y_train_cw2_l, axis = 0)\n",
    "y_train_udacity_2 = np.append(y_train_udacity_2, y_train_cw2_r, axis = 0)\n",
    "print('y_train_udacity_2 shape: ', y_train_udacity_2.shape)"
   ]
  },
  {
   "cell_type": "markdown",
   "metadata": {},
   "source": [
    "Add original udacity data to filtered udacity data"
   ]
  },
  {
   "cell_type": "code",
   "execution_count": 37,
   "metadata": {
    "collapsed": true
   },
   "outputs": [],
   "source": [
    "X_train_udacity = np.append(X_train_udacity, X_train_udacity_2, axis = 0)\n",
    "y_train_udacity = np.append(y_train_udacity, y_train_udacity_2, axis = 0)"
   ]
  },
  {
   "cell_type": "markdown",
   "metadata": {},
   "source": [
    "### Create data from annie recovery"
   ]
  },
  {
   "cell_type": "code",
   "execution_count": 38,
   "metadata": {
    "collapsed": true
   },
   "outputs": [],
   "source": [
    "data_pd_cwr2 = createDataFrame('annie_recovery/driving_log_recovery.csv')"
   ]
  },
  {
   "cell_type": "code",
   "execution_count": 39,
   "metadata": {
    "collapsed": false
   },
   "outputs": [
    {
     "name": "stdout",
     "output_type": "stream",
     "text": [
      "X_train_cwr2_c shape:  (646,)\n",
      "y_train_cwr2_c shape:  (646,)\n",
      "y_train_cwr2_l shape:  (646,)\n",
      "X_train_cwr2_l shape:  (646,)\n",
      "X_train_cwr2_r shape:  (646,)\n",
      "y_train_cwr2_r shape:  (646,)\n",
      "X_train_cwr2 shape:  (1938,)\n",
      "y_train_cwr2 shape:  (1938,)\n"
     ]
    }
   ],
   "source": [
    "(X_train_cwr2_c, \n",
    "X_train_cwr2_l, \n",
    "X_train_cwr2_r, \n",
    "y_train_cwr2_c,\n",
    "y_train_cwr2_l,\n",
    "y_train_cwr2_r) = createTrainingDataPathsCLR(data_pd_cwr2, 0.15, 'annie_recovery/')\n",
    "\n",
    "X_train_cwr2_c, y_train_cwr2_c = removeZerosFromCenter(X_train_cwr2_c, y_train_cwr2_c)\n",
    "X_train_cwr2_l, y_train_cwr2_l = removeZerosFromLeft(X_train_cwr2_l, y_train_cwr2_l, cf)\n",
    "X_train_cwr2_r, y_train_cwr2_r = removeZerosFromRight(X_train_cwr2_r, y_train_cwr2_r, cf)\n",
    "\n",
    "print('X_train_cwr2_c shape: ', X_train_cwr2_c.shape)\n",
    "print('y_train_cwr2_c shape: ', y_train_cwr2_c.shape)\n",
    "print('y_train_cwr2_l shape: ', X_train_cwr2_l.shape)\n",
    "print('X_train_cwr2_l shape: ', y_train_cwr2_l.shape)\n",
    "print('X_train_cwr2_r shape: ', X_train_cwr2_r.shape)\n",
    "print('y_train_cwr2_r shape: ', y_train_cwr2_r.shape)\n",
    "\n",
    "X_train_annie = np.append(X_train_cwr2_c, X_train_cwr2_l, axis = 0)\n",
    "X_train_annie = np.append(X_train_annie, X_train_cwr2_r, axis = 0)\n",
    "print('X_train_cwr2 shape: ', X_train_annie.shape)\n",
    "y_train_annie = np.append(y_train_cwr2_c, y_train_cwr2_l, axis = 0)\n",
    "y_train_annie = np.append(y_train_annie, y_train_cwr2_r, axis = 0)\n",
    "print('y_train_cwr2 shape: ', y_train_annie.shape)"
   ]
  },
  {
   "cell_type": "markdown",
   "metadata": {},
   "source": [
    "### To demonstrate acquisition function in other file and to check its correctness"
   ]
  },
  {
   "cell_type": "code",
   "execution_count": 40,
   "metadata": {
    "collapsed": true
   },
   "outputs": [],
   "source": [
    "X_train = np.append(X_train_udacity, X_train_annie, axis = 0)\n",
    "y_train = np.append(y_train_udacity, y_train_annie, axis = 0)"
   ]
  },
  {
   "cell_type": "markdown",
   "metadata": {},
   "source": [
    "### Add in recovery data"
   ]
  },
  {
   "cell_type": "code",
   "execution_count": 41,
   "metadata": {
    "collapsed": false
   },
   "outputs": [],
   "source": [
    "X_train = np.append(X_train, X_train_dirt_c1, axis = 0)\n",
    "X_train = np.append(X_train, X_train_lake_c1, axis = 0)\n",
    "X_train = np.append(X_train, X_train_lake_c2, axis = 0)\n",
    "X_train = np.append(X_train, X_train_dirt2_cw, axis = 0)\n",
    "X_train = np.append(X_train, X_train_dirt3_cw, axis = 0)\n",
    "X_train = np.append(X_train, X_train_bridge, axis = 0)\n",
    "\n",
    "y_train = np.append(y_train, y_train_dirt_c1, axis = 0)\n",
    "y_train = np.append(y_train, y_train_lake_c1, axis = 0)\n",
    "y_train = np.append(y_train, y_train_lake_c2, axis = 0)\n",
    "y_train = np.append(y_train, y_train_dirt2_cw, axis = 0)\n",
    "y_train = np.append(y_train, y_train_dirt3_cw, axis = 0)\n",
    "y_train = np.append(y_train, y_train_bridge, axis = 0)"
   ]
  },
  {
   "cell_type": "code",
   "execution_count": 42,
   "metadata": {
    "collapsed": false
   },
   "outputs": [],
   "source": [
    "X_train, X_valid, y_train, y_valid = train_test_split(X_train, y_train, test_size = 0.2)"
   ]
  },
  {
   "cell_type": "code",
   "execution_count": 43,
   "metadata": {
    "collapsed": false
   },
   "outputs": [
    {
     "name": "stdout",
     "output_type": "stream",
     "text": [
      "shape of X_train:  (32553,)\n",
      "shape of y_train:  (32553,)\n",
      "shape of X_valid:  (8139,)\n",
      "shape of y_valid:  (8139,)\n"
     ]
    }
   ],
   "source": [
    "print('shape of X_train: ', X_train.shape)\n",
    "print('shape of y_train: ', y_train.shape)\n",
    "print('shape of X_valid: ', X_valid.shape)\n",
    "print('shape of y_valid: ', y_valid.shape)"
   ]
  },
  {
   "cell_type": "markdown",
   "metadata": {},
   "source": [
    "## Show histogram"
   ]
  },
  {
   "cell_type": "code",
   "execution_count": 9,
   "metadata": {
    "collapsed": false
   },
   "outputs": [
    {
     "data": {
      "text/plain": [
       "140"
      ]
     },
     "execution_count": 9,
     "metadata": {},
     "output_type": "execute_result"
    }
   ],
   "source": [
    "import math\n",
    "math.ceil(160*(7.0/8.0))"
   ]
  },
  {
   "cell_type": "code",
   "execution_count": 44,
   "metadata": {
    "collapsed": false
   },
   "outputs": [
    {
     "data": {
      "text/plain": [
       "(array([  6.50000000e+01,   6.00000000e+00,   9.00000000e+00,\n",
       "          7.00000000e+00,   5.00000000e+00,   2.00000000e+00,\n",
       "          4.00000000e+00,   7.60000000e+01,   1.20000000e+01,\n",
       "          1.70000000e+01,   1.00000000e+01,   1.30000000e+01,\n",
       "          8.00000000e+00,   7.00000000e+00,   1.10000000e+01,\n",
       "          1.70000000e+01,   1.40000000e+01,   4.00000000e+01,\n",
       "          1.60000000e+01,   1.70000000e+01,   6.00000000e+01,\n",
       "          3.70000000e+01,   4.30000000e+01,   1.01000000e+02,\n",
       "          4.90000000e+01,   9.10000000e+01,   6.20000000e+01,\n",
       "          1.58000000e+02,   1.85000000e+02,   1.37000000e+02,\n",
       "          2.00000000e+02,   3.45000000e+02,   3.61000000e+02,\n",
       "          3.14000000e+02,   3.29000000e+02,   7.11000000e+02,\n",
       "          4.48000000e+02,   2.74000000e+02,   4.73000000e+02,\n",
       "          6.17000000e+02,   3.93000000e+02,   3.60000000e+02,\n",
       "          4.14300000e+03,   5.47000000e+02,   4.87000000e+02,\n",
       "          3.98000000e+02,   5.95000000e+02,   8.27000000e+02,\n",
       "          6.41000000e+02,   6.48000000e+02,   4.54200000e+03,\n",
       "          8.49000000e+02,   4.79000000e+02,   4.30000000e+02,\n",
       "          5.36000000e+02,   4.51000000e+02,   6.44000000e+02,\n",
       "          3.99100000e+03,   8.53000000e+02,   3.24000000e+02,\n",
       "          3.90000000e+02,   2.39000000e+02,   3.95000000e+02,\n",
       "          5.05000000e+02,   3.70000000e+02,   6.45000000e+02,\n",
       "          5.76000000e+02,   2.91000000e+02,   1.86000000e+02,\n",
       "          1.07000000e+02,   1.33000000e+02,   1.39000000e+02,\n",
       "          1.36000000e+02,   1.03000000e+02,   7.90000000e+01,\n",
       "          1.33000000e+02,   3.70000000e+01,   2.50000000e+01,\n",
       "          2.00000000e+01,   2.10000000e+01,   3.80000000e+01,\n",
       "          2.60000000e+01,   2.10000000e+01,   2.20000000e+01,\n",
       "          1.00000000e+01,   5.00000000e+00,   1.60000000e+01,\n",
       "          6.00000000e+00,   8.00000000e+00,   9.00000000e+00,\n",
       "          1.10000000e+01,   5.00000000e+00,   8.10000000e+01,\n",
       "          3.00000000e+00,   4.00000000e+00,   4.00000000e+00,\n",
       "          5.00000000e+00,   6.00000000e+00,   5.00000000e+00,\n",
       "          8.10000000e+01]),\n",
       " array([-1.  , -0.98, -0.96, -0.94, -0.92, -0.9 , -0.88, -0.86, -0.84,\n",
       "        -0.82, -0.8 , -0.78, -0.76, -0.74, -0.72, -0.7 , -0.68, -0.66,\n",
       "        -0.64, -0.62, -0.6 , -0.58, -0.56, -0.54, -0.52, -0.5 , -0.48,\n",
       "        -0.46, -0.44, -0.42, -0.4 , -0.38, -0.36, -0.34, -0.32, -0.3 ,\n",
       "        -0.28, -0.26, -0.24, -0.22, -0.2 , -0.18, -0.16, -0.14, -0.12,\n",
       "        -0.1 , -0.08, -0.06, -0.04, -0.02,  0.  ,  0.02,  0.04,  0.06,\n",
       "         0.08,  0.1 ,  0.12,  0.14,  0.16,  0.18,  0.2 ,  0.22,  0.24,\n",
       "         0.26,  0.28,  0.3 ,  0.32,  0.34,  0.36,  0.38,  0.4 ,  0.42,\n",
       "         0.44,  0.46,  0.48,  0.5 ,  0.52,  0.54,  0.56,  0.58,  0.6 ,\n",
       "         0.62,  0.64,  0.66,  0.68,  0.7 ,  0.72,  0.74,  0.76,  0.78,\n",
       "         0.8 ,  0.82,  0.84,  0.86,  0.88,  0.9 ,  0.92,  0.94,  0.96,\n",
       "         0.98,  1.  ]),\n",
       " <a list of 1 Patch objects>)"
      ]
     },
     "execution_count": 44,
     "metadata": {},
     "output_type": "execute_result"
    },
    {
     "data": {
      "image/png": "[encoded data removed]",
      "text/plain": [
       "<matplotlib.figure.Figure at 0x7febf5587fd0>"
      ]
     },
     "metadata": {},
     "output_type": "display_data"
    }
   ],
   "source": [
    "plt.hist(y_train,bins=100,range=(-1,1),facecolor=\"r\", histtype = 'step')"
   ]
  },
  {
   "cell_type": "code",
   "execution_count": 45,
   "metadata": {
    "collapsed": true
   },
   "outputs": [],
   "source": [
    "X_train, y_train = shuffle(X_train, y_train)"
   ]
  },
  {
   "cell_type": "markdown",
   "metadata": {},
   "source": [
    "#### As you can see, most of our steering angles are around zero"
   ]
  },
  {
   "cell_type": "markdown",
   "metadata": {},
   "source": [
    "## Preprocess"
   ]
  },
  {
   "cell_type": "code",
   "execution_count": 46,
   "metadata": {
    "collapsed": true
   },
   "outputs": [],
   "source": [
    "def preprocess_image(image):\n",
    "    \"\"\"\n",
    "    Preprocess image, \n",
    "    input: image (original shape)\n",
    "    output: image (shape is (220, 66, 3) )\n",
    "    \"\"\"    \n",
    "    # crop shape\n",
    "    image = image[image.shape[0] * 0.34:image.shape[0] * 0.875,:,:]\n",
    "    # resize to (66, 220)\n",
    "    img = cv2.resize(image, (220, 66), interpolation=cv2.INTER_AREA)\n",
    "    return img\n"
   ]
  },
  {
   "cell_type": "code",
   "execution_count": 47,
   "metadata": {
    "collapsed": true
   },
   "outputs": [],
   "source": [
    "def preprocess_image_valid_from_path(image_path, steering_angle):\n",
    "    img = mpimg.imread(image_path)\n",
    "    img = preprocess_image(img)\n",
    "    return img, steering_angle"
   ]
  },
  {
   "cell_type": "code",
   "execution_count": 48,
   "metadata": {
    "collapsed": true
   },
   "outputs": [],
   "source": [
    "def preprocess_image_from_path(image_path, steering_angle):\n",
    "    img = cv2.imread(image_path)\n",
    "    img = cv2.cvtColor(img, cv2.COLOR_BGR2RGB)\n",
    "        \n",
    "    img = preprocess_image(img)\n",
    "    return img, steering_angle"
   ]
  },
  {
   "cell_type": "markdown",
   "metadata": {},
   "source": [
    "## Generator"
   ]
  },
  {
   "cell_type": "markdown",
   "metadata": {},
   "source": [
    "Here I created two generators, one for training data and one for validation data. In the training generator we create batches of 32 for each training sample. Therefore if I have `samples_per_epoch = 10` that means for each of those samples I yield 32 images from the training generator. I did this because it allows me to have control over what the batches turn out to be. In this case [ADD HERE]```add here I will add a probability function to pass a certain image path to the processor```"
   ]
  },
  {
   "cell_type": "code",
   "execution_count": 49,
   "metadata": {
    "collapsed": false
   },
   "outputs": [],
   "source": [
    "\n",
    "def generate_training_data(X_train, y_train, batch_size):\n",
    "    \"\"\"\n",
    "    We create a loop through out data and \n",
    "    send out an individual row in the dataframe to preprocess_image_from_path, \n",
    "    which is then sent to preprocess_image\n",
    "    inputs: \n",
    "    X_train: numpy array of X_training data (image paths),\n",
    "    y_train: numpy array of measurements (steering angles)\n",
    "    batch_size: batch sizes, size to make each batch\n",
    "    returns a yield (image_batch, label_batch)\n",
    "    \"\"\"\n",
    "    image_batch = np.zeros((batch_size * 2, 66, 220, 3)) # nvidia input params\n",
    "    label_batch = np.zeros((batch_size * 2))\n",
    "    while True:\n",
    "        for i in range(batch_size):\n",
    "            \n",
    "            idx = np.random.randint(len(X_train))\n",
    "            x, y = preprocess_image_from_path(X_train[idx], y_train[idx])\n",
    "            \n",
    "             # flip an image and return it\n",
    "            x2 = np.fliplr(x)\n",
    "            y2 = -1 * y\n",
    "            \n",
    "            image_batch[i] = x\n",
    "            label_batch[i] = y\n",
    "            \n",
    "            image_batch[i+1] = x2\n",
    "            image_batch[i+1] = y2\n",
    "        yield image_batch, label_batch"
   ]
  },
  {
   "cell_type": "code",
   "execution_count": 50,
   "metadata": {
    "collapsed": true
   },
   "outputs": [],
   "source": [
    "def generate_validation_data(X_valid, y_valid):\n",
    "    while True:\n",
    "        for idx in range(len(X_valid)):\n",
    "            img, angle = preprocess_image_valid_from_path(X_valid[idx], y_valid[idx])\n",
    "            img = img.reshape(1, img.shape[0], img.shape[1], img.shape[2])\n",
    "            angle = np.array([[angle]])\n",
    "            yield img, angle"
   ]
  },
  {
   "cell_type": "markdown",
   "metadata": {},
   "source": [
    "## Network"
   ]
  },
  {
   "cell_type": "markdown",
   "metadata": {},
   "source": [
    "#### I chose to use Nvidia's network architecture. Input (220 x 66 sized image) output (1 steering angle)"
   ]
  },
  {
   "cell_type": "markdown",
   "metadata": {},
   "source": [
    "I chose to use the Nvidia model architecture which can be found [here add link]\n",
    "I used ELu's because they push mean unit activation functions closer to zero [https://arxiv.org/pdf/1511.07289v1.pdf]"
   ]
  },
  {
   "cell_type": "code",
   "execution_count": 51,
   "metadata": {
    "collapsed": false
   },
   "outputs": [
    {
     "name": "stderr",
     "output_type": "stream",
     "text": [
      "Using TensorFlow backend.\n"
     ]
    }
   ],
   "source": [
    "from keras.models import Sequential\n",
    "from keras.layers.convolutional import Convolution2D\n",
    "from keras.layers.pooling import MaxPooling2D\n",
    "from keras.layers.core import Activation, Dropout, Flatten, Dense, Lambda\n",
    "from keras.layers import ELU\n",
    "from keras.optimizers import Adam\n",
    "tf.python.control_flow_ops = tf\n",
    "\n",
    "\n",
    "N_img_height = 66\n",
    "N_img_width = 220\n",
    "N_img_channels = 3\n",
    "def nvidia_model():\n",
    "    inputShape = (N_img_height, N_img_width, N_img_channels)\n",
    "\n",
    "    model = Sequential()\n",
    "    # normalization\n",
    "    model.add(Lambda(lambda x: x / 127.5 - 1, input_shape = (66, 220, 3)))\n",
    "    # cropping 70 off top 25 off bottom\n",
    "    # model.add(Cropping2D(cropping=((70,25), (0, 0)))) Probably going to do cropping in my process\n",
    "\n",
    "    # subsample is strides\n",
    "    model.add(Convolution2D(24, 5, 5, \n",
    "                            subsample=(2,2), \n",
    "                            border_mode = 'valid',\n",
    "                            init = 'he_normal',\n",
    "                            name = 'conv1'))\n",
    "    \n",
    "    model.add(ELU())    \n",
    "    model.add(Convolution2D(36, 5, 5, \n",
    "                            subsample=(2,2), \n",
    "                            border_mode = 'valid',\n",
    "                            init = 'he_normal',\n",
    "                            name = 'conv2'))\n",
    "    \n",
    "    model.add(ELU())    \n",
    "    model.add(Convolution2D(48, 5, 5, \n",
    "                            subsample=(2,2), \n",
    "                            border_mode = 'valid',\n",
    "                            init = 'he_normal',\n",
    "                            name = 'conv3'))\n",
    "    model.add(ELU())\n",
    "    model.add(Convolution2D(64, 3, 3, \n",
    "                            subsample = (1,1), \n",
    "                            border_mode = 'valid',\n",
    "                            init = 'he_normal', #gaussian init\n",
    "                            name = 'conv4'))\n",
    "    \n",
    "    model.add(ELU())              \n",
    "    model.add(Convolution2D(64, 3, 3, \n",
    "                            subsample= (1,1), \n",
    "                            border_mode = 'valid',\n",
    "                            init = 'he_normal',\n",
    "                            name = 'conv5'))\n",
    "              \n",
    "              \n",
    "    model.add(Flatten(name = 'flatten'))\n",
    "    model.add(ELU())\n",
    "    model.add(Dense(100, init = 'he_normal', name = 'fc1'))\n",
    "    model.add(ELU())\n",
    "    model.add(Dense(50, init = 'he_normal', name = 'fc2'))\n",
    "    model.add(ELU())\n",
    "    model.add(Dense(10, init = 'he_normal', name = 'fc3'))\n",
    "    model.add(ELU())\n",
    "    \n",
    "    # do not put activation at the end because we want to exact output, not a class identifier\n",
    "    model.add(Dense(1, name = 'output', init = 'he_normal'))\n",
    "    \n",
    "    adam = Adam(lr=1e-4, beta_1=0.9, beta_2=0.999, epsilon=1e-08, decay=0.0)\n",
    "    model.compile(optimizer = adam, loss = 'mse')\n",
    "\n",
    "    return model\n"
   ]
  },
  {
   "cell_type": "code",
   "execution_count": 52,
   "metadata": {
    "collapsed": false
   },
   "outputs": [],
   "source": [
    "val_size = len(X_valid)\n",
    "valid_generator = generate_validation_data(X_valid, y_valid)"
   ]
  },
  {
   "cell_type": "code",
   "execution_count": 53,
   "metadata": {
    "collapsed": false
   },
   "outputs": [
    {
     "name": "stdout",
     "output_type": "stream",
     "text": [
      "Epoch 1/6\n"
     ]
    },
    {
     "name": "stderr",
     "output_type": "stream",
     "text": [
      "/home/jj/anaconda2/envs/python3/lib/python3.5/site-packages/ipykernel/__main__.py:8: VisibleDeprecationWarning: using a non-integer number instead of an integer will result in an error in the future\n"
     ]
    },
    {
     "name": "stdout",
     "output_type": "stream",
     "text": [
      "32512/32553 [============================>.] - ETA: 0s - loss: 0.0282"
     ]
    },
    {
     "name": "stderr",
     "output_type": "stream",
     "text": [
      "/home/jj/anaconda2/envs/python3/lib/python3.5/site-packages/keras/engine/training.py:1462: UserWarning: Epoch comprised more than `samples_per_epoch` samples, which might affect learning results. Set `samples_per_epoch` correctly to avoid this warning.\n",
      "  warnings.warn('Epoch comprised more than '\n"
     ]
    },
    {
     "name": "stdout",
     "output_type": "stream",
     "text": [
      "32768/32553 [==============================] - 49s - loss: 0.0282 - val_loss: 0.0507\n",
      "Epoch 2/6\n",
      "32768/32553 [==============================] - 47s - loss: 0.0253 - val_loss: 0.0479\n",
      "Epoch 3/6\n",
      "32768/32553 [==============================] - 46s - loss: 0.0240 - val_loss: 0.0483\n",
      "Epoch 4/6\n",
      "32768/32553 [==============================] - 48s - loss: 0.0229 - val_loss: 0.0472\n",
      "Epoch 5/6\n",
      "32768/32553 [==============================] - 48s - loss: 0.0240 - val_loss: 0.0459\n",
      "Epoch 6/6\n",
      "32768/32553 [==============================] - 45s - loss: 0.0238 - val_loss: 0.0459\n",
      "<keras.callbacks.History object at 0x7febc053dcc0>\n",
      "Epoch 1/6\n",
      "32768/32553 [==============================] - 38s - loss: 0.0234 - val_loss: 0.0463\n",
      "Epoch 2/6\n",
      "32768/32553 [==============================] - 35s - loss: 0.0229 - val_loss: 0.0470\n",
      "Epoch 3/6\n",
      "32768/32553 [==============================] - 36s - loss: 0.0227 - val_loss: 0.0458\n",
      "Epoch 4/6\n",
      "32768/32553 [==============================] - 38s - loss: 0.0226 - val_loss: 0.0460\n",
      "Epoch 5/6\n",
      "32768/32553 [==============================] - 33s - loss: 0.0217 - val_loss: 0.0457\n",
      "Epoch 6/6\n",
      "32768/32553 [==============================] - 33s - loss: 0.0220 - val_loss: 0.0453\n",
      "<keras.callbacks.History object at 0x7fec6c70df98>\n",
      "Epoch 1/6\n",
      "32768/32553 [==============================] - 39s - loss: 0.0223 - val_loss: 0.0455\n",
      "Epoch 2/6\n",
      "32768/32553 [==============================] - 34s - loss: 0.0217 - val_loss: 0.0454\n",
      "Epoch 3/6\n",
      "32768/32553 [==============================] - 34s - loss: 0.0213 - val_loss: 0.0464\n",
      "Epoch 4/6\n",
      "32768/32553 [==============================] - 33s - loss: 0.0209 - val_loss: 0.0462\n",
      "Epoch 5/6\n",
      "32768/32553 [==============================] - 35s - loss: 0.0209 - val_loss: 0.0452\n",
      "Epoch 6/6\n",
      "32768/32553 [==============================] - 34s - loss: 0.0201 - val_loss: 0.0453\n",
      "<keras.callbacks.History object at 0x7febc02430b8>\n"
     ]
    }
   ],
   "source": [
    "model = nvidia_model()\n",
    "for i in range(3):\n",
    "    train_generator = generate_training_data(X_train, y_train, 128)\n",
    "    history = model.fit_generator(\n",
    "            train_generator, \n",
    "            samples_per_epoch = len(X_train), # try putting the whole thing in here in the future\n",
    "            nb_epoch = 6,\n",
    "            validation_data = valid_generator,\n",
    "            nb_val_samples = val_size)\n",
    "    print(history)\n",
    "    \n",
    "    model.save_weights('model-weightsA6.h5')\n",
    "    model.save('modelA6.h5')"
   ]
  },
  {
   "cell_type": "markdown",
   "metadata": {},
   "source": [
    "## Visualizing Loss"
   ]
  },
  {
   "cell_type": "code",
   "execution_count": 54,
   "metadata": {
    "collapsed": false
   },
   "outputs": [
    {
     "name": "stdout",
     "output_type": "stream",
     "text": [
      "dict_keys(['val_loss', 'loss'])\n"
     ]
    },
    {
     "data": {
      "image/png": "[encoded data removed]",
      "text/plain": [
       "<matplotlib.figure.Figure at 0x7febc0097b00>"
      ]
     },
     "metadata": {},
     "output_type": "display_data"
    }
   ],
   "source": [
    "print(history.history.keys())\n",
    "\n",
    "### plot the training and validation loss for each epoch\n",
    "plt.plot(history.history['loss'])\n",
    "plt.plot(history.history['val_loss'])\n",
    "plt.title('model mean squared error loss')\n",
    "plt.ylabel('mean squared error loss')\n",
    "plt.xlabel('epoch')\n",
    "plt.legend(['training set', 'validation set'], loc='upper right')\n",
    "plt.show()"
   ]
  },
  {
   "cell_type": "code",
   "execution_count": null,
   "metadata": {
    "collapsed": true
   },
   "outputs": [],
   "source": []
  }
 ],
 "metadata": {
  "anaconda-cloud": {},
  "kernelspec": {
   "display_name": "Python [conda env:python3]",
   "language": "python",
   "name": "conda-env-python3-py"
  },
  "language_info": {
   "codemirror_mode": {
    "name": "ipython",
    "version": 3
   },
   "file_extension": ".py",
   "mimetype": "text/x-python",
   "name": "python",
   "nbconvert_exporter": "python",
   "pygments_lexer": "ipython3",
   "version": "3.5.2"
  }
 },
 "nbformat": 4,
 "nbformat_minor": 1
}
