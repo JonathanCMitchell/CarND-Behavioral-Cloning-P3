{
 "cells": [
  {
   "cell_type": "code",
   "execution_count": 1,
   "metadata": {
    "collapsed": false
   },
   "outputs": [],
   "source": [
    "import matplotlib.pyplot as plt\n",
    "import tensorflow as tf\n",
    "import matplotlib.gridspec as gridspec\n",
    "import cv2\n",
    "import matplotlib.image as mpimg\n",
    "import os\n",
    "import pickle\n",
    "import pandas as pd\n",
    "from sklearn.utils import shuffle\n",
    "import numpy as np\n",
    "from sklearn.model_selection import train_test_split\n",
    "%matplotlib inline"
   ]
  },
  {
   "cell_type": "markdown",
   "metadata": {},
   "source": [
    "## Acquisition Functions"
   ]
  },
  {
   "cell_type": "code",
   "execution_count": 2,
   "metadata": {
    "collapsed": true
   },
   "outputs": [],
   "source": [
    "def createDataFrame(data_path):\n",
    "    \"\"\"\n",
    "    input: data_path: path to data\n",
    "    return: data frame\n",
    "    \"\"\"\n",
    "    data_frame = pd.read_csv(data_path)\n",
    "    data_frame.columns = ['center', 'left', 'right', 'steering', 'throttle', 'brake', 'speed']\n",
    "    return data_frame"
   ]
  },
  {
   "cell_type": "markdown",
   "metadata": {},
   "source": [
    "### Split data into left turns, right turns, center (no turns)"
   ]
  },
  {
   "cell_type": "code",
   "execution_count": 3,
   "metadata": {
    "collapsed": false
   },
   "outputs": [],
   "source": [
    "def createTrainingDataPathsCLR(df, prefix_path):\n",
    "    \"\"\"\n",
    "    creates training data and training labels/ measurements from a data frame\n",
    "    inputs:\n",
    "    df: pandas DataFrame object\n",
    "    start: starting row to grab data\n",
    "    end: ending row to grab data\n",
    "    correction_factor: factor to correct steering angles\n",
    "    \"\"\"    \n",
    "    # Turn types\n",
    "    center_turns = []\n",
    "    left_turns = []\n",
    "    right_turns = []\n",
    "    \n",
    "    \n",
    "    abs_path_to_IMG = os.path.abspath(prefix_path)\n",
    "    for idx, row in df.iterrows():\n",
    "        center_image_cam = os.path.join(abs_path_to_IMG, row['center'].strip())\n",
    "        left_image_cam = os.path.join(abs_path_to_IMG, row['left'].strip())\n",
    "        right_image_cam = os.path.join(abs_path_to_IMG, row['right'].strip())\n",
    "        steering_angle = row['steering']\n",
    "        \n",
    "        # Right image condition\n",
    "        if steering_angle > 0.125:\n",
    "            right_turns.append([center_image_cam, left_image_cam, right_image_cam, steering_angle])\n",
    "            \n",
    "        # This is a left image\n",
    "        elif steering_angle < -1 * 0.125:\n",
    "            left_turns.append([center_image_cam, left_image_cam, right_image_cam, steering_angle])\n",
    "            \n",
    "        # This is a center image\n",
    "        else:\n",
    "        # center images\n",
    "            center_turns.append([center_image_cam, left_image_cam, right_image_cam, steering_angle])\n",
    "        \n",
    "    return (center_turns, left_turns, right_turns)"
   ]
  },
  {
   "cell_type": "code",
   "execution_count": 4,
   "metadata": {
    "collapsed": true
   },
   "outputs": [],
   "source": [
    "def makeMore(dataArray, amount):\n",
    "    for i in range(len(dataArray)):\n",
    "        for j in range(amount):                                    \n",
    "            dataArray.append([dataArray[i][0], dataArray[i][1], dataArray[i][2], dataArray[i][3]])\n",
    "    return dataArray"
   ]
  },
  {
   "cell_type": "markdown",
   "metadata": {},
   "source": [
    "## Prepare training data"
   ]
  },
  {
   "cell_type": "markdown",
   "metadata": {},
   "source": [
    "### Create data from udacity"
   ]
  },
  {
   "cell_type": "markdown",
   "metadata": {},
   "source": [
    "#### Create Data Frame"
   ]
  },
  {
   "cell_type": "code",
   "execution_count": 5,
   "metadata": {
    "collapsed": false
   },
   "outputs": [],
   "source": [
    "data_pd_udacity = createDataFrame('data/driving_log.csv')\n",
    "columns = ['center', 'left', 'right', 'steering']"
   ]
  },
  {
   "cell_type": "markdown",
   "metadata": {},
   "source": [
    "#### Create centers_turns, left_turns, right_turns"
   ]
  },
  {
   "cell_type": "code",
   "execution_count": 6,
   "metadata": {
    "collapsed": false
   },
   "outputs": [],
   "source": [
    "(center_turns_udacity,\n",
    "left_turns_udacity,\n",
    "right_turns_udacity) = createTrainingDataPathsCLR(data_pd_udacity, 'data/')"
   ]
  },
  {
   "cell_type": "markdown",
   "metadata": {},
   "source": [
    "#### Make more copies"
   ]
  },
  {
   "cell_type": "code",
   "execution_count": 7,
   "metadata": {
    "collapsed": false
   },
   "outputs": [],
   "source": [
    "center_turns_udacity = makeMore(center_turns_udacity, 5)\n",
    "left_turns_udacity = makeMore(left_turns_udacity, 18)\n",
    "right_turns_udacity = makeMore(right_turns_udacity, 12)"
   ]
  },
  {
   "cell_type": "code",
   "execution_count": 8,
   "metadata": {
    "collapsed": false
   },
   "outputs": [
    {
     "name": "stdout",
     "output_type": "stream",
     "text": [
      "df_center_udacity.index:  36714\n",
      "df_left_udacity.index:  16131\n",
      "df_right_udacity.index:  13884\n"
     ]
    }
   ],
   "source": [
    "df_center_udacity = pd.DataFrame(center_turns_udacity, columns = columns)\n",
    "df_left_udacity = pd.DataFrame(left_turns_udacity, columns = columns)\n",
    "df_right_udacity = pd.DataFrame(right_turns_udacity, columns = columns)\n",
    "\n",
    "print('df_center_udacity.index: ', len(df_center_udacity.index))\n",
    "print('df_left_udacity.index: ', len(df_left_udacity.index))\n",
    "print('df_right_udacity.index: ', len(df_right_udacity.index))\n"
   ]
  },
  {
   "cell_type": "markdown",
   "metadata": {},
   "source": [
    "#### Histogram Visualization"
   ]
  },
  {
   "cell_type": "code",
   "execution_count": 9,
   "metadata": {
    "collapsed": false
   },
   "outputs": [],
   "source": [
    "# plt.hist(np.asarray(df_center_udacity['steering'], dtype=np.float32))\n",
    "# plt.hist(np.asarray(df_center_udacity['steering'], dtype=np.float32),bins=100,range=(-0.2,0.2),facecolor=\"r\", histtype = 'step')"
   ]
  },
  {
   "cell_type": "code",
   "execution_count": 10,
   "metadata": {
    "collapsed": false
   },
   "outputs": [],
   "source": [
    "# plt.hist(np.asarray(df_left_udacity['steering'], dtype=np.float32))\n",
    "# plt.hist(np.asarray(df_left_udacity['steering'], dtype=np.float32),bins=100,range=(-0.6,0.15),facecolor=\"r\", histtype = 'step')"
   ]
  },
  {
   "cell_type": "code",
   "execution_count": 11,
   "metadata": {
    "collapsed": false
   },
   "outputs": [],
   "source": [
    "# plt.hist(np.asarray(df_right_udacity['steering'], dtype=np.float32))\n",
    "# plt.hist(np.asarray(df_right_udacity['steering'], dtype=np.float32),bins=100,range=(0.15,0.6),facecolor=\"r\", histtype = 'step')"
   ]
  },
  {
   "cell_type": "markdown",
   "metadata": {},
   "source": [
    "#### Shuffle"
   ]
  },
  {
   "cell_type": "code",
   "execution_count": 12,
   "metadata": {
    "collapsed": true
   },
   "outputs": [],
   "source": [
    "df_center_udacity = shuffle(df_center_udacity)\n",
    "df_left_udacity = shuffle(df_left_udacity)\n",
    "df_right_udacity = shuffle(df_right_udacity)"
   ]
  },
  {
   "cell_type": "markdown",
   "metadata": {},
   "source": [
    "#### Concat"
   ]
  },
  {
   "cell_type": "code",
   "execution_count": 13,
   "metadata": {
    "collapsed": false
   },
   "outputs": [],
   "source": [
    "frames_to_concat_udacity = [df_center_udacity, df_left_udacity, df_right_udacity]\n",
    "df_udacity = pd.concat(frames_to_concat_udacity, axis = 0, join = 'outer', ignore_index=False)"
   ]
  },
  {
   "cell_type": "markdown",
   "metadata": {},
   "source": [
    "### Create data from recovery"
   ]
  },
  {
   "cell_type": "markdown",
   "metadata": {},
   "source": [
    "#### Create Data Frame"
   ]
  },
  {
   "cell_type": "code",
   "execution_count": 14,
   "metadata": {
    "collapsed": false
   },
   "outputs": [],
   "source": [
    "data_pd_recovery = createDataFrame('annie_recovery/driving_log_recovery.csv')\n",
    "columns = ['center', 'left', 'right', 'steering']"
   ]
  },
  {
   "cell_type": "markdown",
   "metadata": {},
   "source": [
    "#### Create centers_turns, left_turns, right_turns"
   ]
  },
  {
   "cell_type": "code",
   "execution_count": 15,
   "metadata": {
    "collapsed": false
   },
   "outputs": [],
   "source": [
    "(center_turns_recovery,\n",
    "left_turns_recovery,\n",
    "right_turns_recovery) = createTrainingDataPathsCLR(data_pd_recovery, 'annie_recovery/')"
   ]
  },
  {
   "cell_type": "markdown",
   "metadata": {},
   "source": [
    "#### Make more copies"
   ]
  },
  {
   "cell_type": "code",
   "execution_count": 16,
   "metadata": {
    "collapsed": true
   },
   "outputs": [],
   "source": [
    "center_turns_recovery = makeMore(center_turns_recovery, 5)\n",
    "left_turns_recovery = makeMore(left_turns_recovery, 18)\n",
    "right_turns_recovery = makeMore(right_turns_recovery, 12)"
   ]
  },
  {
   "cell_type": "code",
   "execution_count": 17,
   "metadata": {
    "collapsed": false
   },
   "outputs": [],
   "source": [
    "df_center_recovery = pd.DataFrame(center_turns_recovery, columns = columns)\n",
    "df_left_recovery = pd.DataFrame(left_turns_recovery, columns = columns)\n",
    "df_right_recovery= pd.DataFrame(right_turns_recovery, columns = columns)"
   ]
  },
  {
   "cell_type": "code",
   "execution_count": 18,
   "metadata": {
    "collapsed": false
   },
   "outputs": [
    {
     "name": "stdout",
     "output_type": "stream",
     "text": [
      "df_center_recovery.index:  4308\n",
      "df_center_recovery.index:  6213\n",
      "df_center_recovery.index:  3926\n"
     ]
    }
   ],
   "source": [
    "print('df_center_recovery.index: ', len(df_center_recovery.index))\n",
    "print('df_center_recovery.index: ', len(df_left_recovery.index))\n",
    "print('df_center_recovery.index: ', len(df_right_recovery.index))"
   ]
  },
  {
   "cell_type": "markdown",
   "metadata": {},
   "source": [
    "#### Histogram Visualization"
   ]
  },
  {
   "cell_type": "code",
   "execution_count": 19,
   "metadata": {
    "collapsed": false
   },
   "outputs": [],
   "source": [
    "# plt.hist(np.asarray(df_center_recovery['steering'], dtype=np.float32))\n",
    "# plt.hist(np.asarray(df_center_recovery['steering'], dtype=np.float32),bins=100,range=(-0.2,0.2),facecolor=\"r\", histtype = 'step')"
   ]
  },
  {
   "cell_type": "code",
   "execution_count": 20,
   "metadata": {
    "collapsed": false
   },
   "outputs": [],
   "source": [
    "# plt.hist(np.asarray(df_left_recovery['steering'], dtype=np.float32))\n",
    "# plt.hist(np.asarray(df_left_recovery['steering'], dtype=np.float32),bins=100,range=(-0.2,0.2),facecolor=\"r\", histtype = 'step')"
   ]
  },
  {
   "cell_type": "code",
   "execution_count": 21,
   "metadata": {
    "collapsed": false
   },
   "outputs": [],
   "source": [
    "# plt.hist(np.asarray(df_right_recovery['steering'], dtype=np.float32))\n",
    "# plt.hist(np.asarray(df_right_recovery['steering'], dtype=np.float32),bins=100,range=(-0.2,0.2),facecolor=\"r\", histtype = 'step')"
   ]
  },
  {
   "cell_type": "markdown",
   "metadata": {},
   "source": [
    "#### Shuffle"
   ]
  },
  {
   "cell_type": "code",
   "execution_count": 22,
   "metadata": {
    "collapsed": true
   },
   "outputs": [],
   "source": [
    "df_center_recovery = shuffle(df_center_recovery)\n",
    "df_left_recovery = shuffle(df_left_recovery)\n",
    "df_right_recovery = shuffle(df_right_recovery)"
   ]
  },
  {
   "cell_type": "markdown",
   "metadata": {},
   "source": [
    "#### Concat"
   ]
  },
  {
   "cell_type": "code",
   "execution_count": 23,
   "metadata": {
    "collapsed": true
   },
   "outputs": [],
   "source": [
    "frames_to_concat_recovery = [df_center_recovery, df_left_recovery, df_right_recovery]\n",
    "df_recovery = pd.concat(frames_to_concat_recovery, axis = 0, join = 'outer', ignore_index=False)"
   ]
  },
  {
   "cell_type": "markdown",
   "metadata": {},
   "source": [
    "### Concat both dataframes together (Udacity + Recovery)"
   ]
  },
  {
   "cell_type": "code",
   "execution_count": 24,
   "metadata": {
    "collapsed": false
   },
   "outputs": [],
   "source": [
    "frames = [df_udacity, df_recovery]\n",
    "train_data = pd.concat(frames, axis = 0, join = 'outer', ignore_index=False)"
   ]
  },
  {
   "cell_type": "code",
   "execution_count": 25,
   "metadata": {
    "collapsed": false
   },
   "outputs": [
    {
     "name": "stdout",
     "output_type": "stream",
     "text": [
      "train_data size:  81176\n"
     ]
    }
   ],
   "source": [
    "print('train_data size: ', len(train_data.index))"
   ]
  },
  {
   "cell_type": "markdown",
   "metadata": {},
   "source": [
    "### Shuffle again"
   ]
  },
  {
   "cell_type": "code",
   "execution_count": 26,
   "metadata": {
    "collapsed": true
   },
   "outputs": [],
   "source": [
    "train_data = shuffle(train_data)"
   ]
  },
  {
   "cell_type": "markdown",
   "metadata": {},
   "source": [
    "### Train Test Split"
   ]
  },
  {
   "cell_type": "code",
   "execution_count": 27,
   "metadata": {
    "collapsed": false
   },
   "outputs": [
    {
     "name": "stdout",
     "output_type": "stream",
     "text": [
      "train_data size:  64940\n",
      "valid_data size:  16236\n"
     ]
    }
   ],
   "source": [
    "train_data, valid_data = train_test_split(train_data, test_size = 0.2)\n",
    "print('train_data size: ', len(train_data.index))\n",
    "print('valid_data size: ', len(valid_data.index))"
   ]
  },
  {
   "cell_type": "markdown",
   "metadata": {},
   "source": [
    "#### Histogram of steering angles training data"
   ]
  },
  {
   "cell_type": "code",
   "execution_count": 28,
   "metadata": {
    "collapsed": false
   },
   "outputs": [
    {
     "data": {
      "text/plain": [
       "(array([  1630.,    760.,   1915.,   7226.,  10891.,  35491.,   4379.,\n",
       "          1053.,    407.,   1188.]),\n",
       " array([-1. , -0.8, -0.6, -0.4, -0.2,  0. ,  0.2,  0.4,  0.6,  0.8,  1. ]),\n",
       " <a list of 10 Patch objects>)"
      ]
     },
     "execution_count": 28,
     "metadata": {},
     "output_type": "execute_result"
    },
    {
     "data": {
      "image/png": "[encoded data removed]",
      "text/plain": [
       "<matplotlib.figure.Figure at 0x7faebcdacba8>"
      ]
     },
     "metadata": {},
     "output_type": "display_data"
    }
   ],
   "source": [
    "plt.hist(np.asarray(train_data['steering']))"
   ]
  },
  {
   "cell_type": "markdown",
   "metadata": {},
   "source": [
    "## Preprocess"
   ]
  },
  {
   "cell_type": "code",
   "execution_count": 29,
   "metadata": {
    "collapsed": true
   },
   "outputs": [],
   "source": [
    "def lateral_shift(image, ang):\n",
    "    pass"
   ]
  },
  {
   "cell_type": "code",
   "execution_count": 30,
   "metadata": {
    "collapsed": true
   },
   "outputs": [],
   "source": [
    "def flip_image(image, ang):\n",
    "    image = np.fliplr(image)\n",
    "    ang = -1 * ang\n",
    "    return (image, ang)"
   ]
  },
  {
   "cell_type": "code",
   "execution_count": 31,
   "metadata": {
    "collapsed": true
   },
   "outputs": [],
   "source": [
    "def change_brightness(image):\n",
    "    bright_factor = 0.25 + np.random.uniform()\n",
    "    \n",
    "    hsv_image = cv2.cvtColor(image, cv2.COLOR_RGB2HSV)\n",
    "    # perform brightness augmentation only on the second channel\n",
    "    hsv_image[:,:,2] = hsv_image[:,:,2] * bright_factor\n",
    "    \n",
    "    # change back to RGB\n",
    "    image_rgb = cv2.cvtColor(hsv_image, cv2.COLOR_HSV2RGB)\n",
    "    return image_rgb\n",
    "    \n",
    "    "
   ]
  },
  {
   "cell_type": "code",
   "execution_count": 32,
   "metadata": {
    "collapsed": true
   },
   "outputs": [],
   "source": [
    "def preprocess_image(image):\n",
    "    \"\"\"\n",
    "    Preprocess image, \n",
    "    input: image (original shape)\n",
    "    output: image (shape is (220, 66, 3) )\n",
    "    \"\"\"    \n",
    "    image = change_brightness(image)\n",
    "    # crop shape\n",
    "    image = image[image.shape[0] * 0.34:image.shape[0] * 0.875,:,:]\n",
    "    # resize to (66, 220)\n",
    "    img = cv2.resize(image, (220, 66), interpolation=cv2.INTER_AREA)\n",
    "    return img\n"
   ]
  },
  {
   "cell_type": "code",
   "execution_count": 33,
   "metadata": {
    "collapsed": true
   },
   "outputs": [],
   "source": [
    "def preprocess_image_valid_from_path(image_path, steering_angle):\n",
    "    img = cv2.imread(image_path)\n",
    "    img = cv2.cvtColor(img, cv2.COLOR_BGR2RGB)\n",
    "    img = preprocess_image(img)\n",
    "    return img, steering_angle"
   ]
  },
  {
   "cell_type": "code",
   "execution_count": 34,
   "metadata": {
    "collapsed": true
   },
   "outputs": [],
   "source": [
    "def preprocess_image_from_path(image_path, steering_angle):\n",
    "    img = cv2.imread(image_path)\n",
    "    img = cv2.cvtColor(img, cv2.COLOR_BGR2RGB)\n",
    "\n",
    "    # flip and reassign\n",
    "    random_flip_factor = np.random.randint(2)\n",
    "    if random_flip_factor == 0:\n",
    "        img, steering_angle = flip_image(img, steering_angle)\n",
    "    \n",
    "        \n",
    "    img = preprocess_image(img)\n",
    "    return img, steering_angle"
   ]
  },
  {
   "cell_type": "markdown",
   "metadata": {},
   "source": [
    "## Generators"
   ]
  },
  {
   "cell_type": "markdown",
   "metadata": {},
   "source": [
    "##### Training"
   ]
  },
  {
   "cell_type": "markdown",
   "metadata": {},
   "source": [
    "Here I created two generators, one for training data and one for validation data. In the training generator we create batches of 32 for each training sample. Therefore if I have `samples_per_epoch = 20480` that means for each of those samples (in 20480) I yield batch_size = 16 * 2 images from the training generator. I did this because it allows me to have control over what the batches turn out to be. In this case I give a 33% chance to switch the second center camera image with a left or right camera images and apply a correction factor to offset the angles of those camera images"
   ]
  },
  {
   "cell_type": "markdown",
   "metadata": {},
   "source": [
    "##### Validation"
   ]
  },
  {
   "cell_type": "markdown",
   "metadata": {},
   "source": [
    "In this generator I simply yield one image, angle tuple for each iteration. During training I used `samples_per_epoch = length of validation data` so it is running through all the validation data one by one"
   ]
  },
  {
   "cell_type": "code",
   "execution_count": 35,
   "metadata": {
    "collapsed": true
   },
   "outputs": [],
   "source": [
    "\n",
    "def generate_training_data(data, batch_size = 32):\n",
    "    \"\"\"\n",
    "    We create a loop through out data and \n",
    "    send out an individual row in the dataframe to preprocess_image_from_path, \n",
    "    which is then sent to preprocess_image\n",
    "    inputs: \n",
    "    data: pandas DataFrame\n",
    "    batch_size: batch sizes, size to make each batch\n",
    "    returns a yield a batch of (image_batch, label_batch)\n",
    "    \"\"\"    \n",
    "    image_batch = np.zeros((batch_size * 2, 66, 220, 3)) # nvidia input params\n",
    "    label_batch = np.zeros((batch_size * 2))\n",
    "    while True:\n",
    "        for i in range(batch_size):\n",
    "            idx = np.random.randint(len(data))\n",
    "            row = data.iloc[[idx]].reset_index()\n",
    "            x, y = preprocess_image_from_path(row['center'].values[0], row['steering'].values[0])\n",
    "            \n",
    "            # preprocess another center image\n",
    "            x2, y2 = preprocess_image_from_path(row['center'].values[0], row['steering'].values[0])\n",
    "            \n",
    "            if np.random.randint(3) == 1:\n",
    "                # 33% chance to overwrite center image (2) with left image + correction_factor\n",
    "                x2, y2 = preprocess_image_from_path(row['left'].values[0], row['steering'] + 0.125)\n",
    "                \n",
    "            if np.random.randint(3) == 2:\n",
    "                # 33% change to overwrite center image (2) give right image - correction_factor\n",
    "                x2, y2 = preprocess_image_from_path(row['right'].values[0], row['steering'] - 0.125)\n",
    "            \n",
    "            \n",
    "            image_batch[i] = x\n",
    "            label_batch[i] = y\n",
    "            \n",
    "            image_batch[i + 1] = x2\n",
    "            label_batch[i + 1] = y2\n",
    "            \n",
    "        yield shuffle(image_batch, label_batch)\n",
    "    \n",
    "def generate_validation_data(data):\n",
    "    \"\"\"\n",
    "    data: center camera images only, because thats what we observe (dataframe)\n",
    "    yields: one image, angle\n",
    "    \"\"\"\n",
    "    while True:\n",
    "        for idx in range(len(data)):\n",
    "            row = data.iloc[[idx]].reset_index()\n",
    "            img, angle = preprocess_image_valid_from_path(row['center'].values[0], row['steering'].values[0])\n",
    "            img = img.reshape(1, img.shape[0], img.shape[1], img.shape[2])\n",
    "            angle = np.array([[angle]])\n",
    "            yield img, angle\n",
    "            "
   ]
  },
  {
   "cell_type": "markdown",
   "metadata": {},
   "source": [
    "## Network"
   ]
  },
  {
   "cell_type": "markdown",
   "metadata": {},
   "source": [
    "#### I chose to use Nvidia's network architecture. Input (220 x 66 sized image) output (1 steering angle)"
   ]
  },
  {
   "cell_type": "markdown",
   "metadata": {},
   "source": [
    "I chose to use the Nvidia model architecture which can be found [here add link]\n",
    "I used ELu's because they push mean unit activation functions closer to zero [https://arxiv.org/pdf/1511.07289v1.pdf]"
   ]
  },
  {
   "cell_type": "code",
   "execution_count": 36,
   "metadata": {
    "collapsed": false
   },
   "outputs": [
    {
     "name": "stderr",
     "output_type": "stream",
     "text": [
      "Using TensorFlow backend.\n"
     ]
    }
   ],
   "source": [
    "from keras.models import Sequential\n",
    "from keras.layers.convolutional import Convolution2D\n",
    "from keras.layers.pooling import MaxPooling2D\n",
    "from keras.layers.core import Activation, Dropout, Flatten, Dense, Lambda\n",
    "from keras.layers import ELU\n",
    "from keras.optimizers import Adam\n",
    "tf.python.control_flow_ops = tf\n",
    "\n",
    "\n",
    "N_img_height = 66\n",
    "N_img_width = 220\n",
    "N_img_channels = 3\n",
    "def nvidia_model():\n",
    "    inputShape = (N_img_height, N_img_width, N_img_channels)\n",
    "\n",
    "    model = Sequential()\n",
    "    # normalization\n",
    "    \n",
    "    # normalize only the S in HSV\n",
    "    model.add(Lambda(lambda x: x/ 127.5 - 1, input_shape = inputShape))\n",
    "\n",
    "    model.add(Convolution2D(24, 5, 5, \n",
    "                            subsample=(2,2), \n",
    "                            border_mode = 'valid',\n",
    "                            init = 'he_normal',\n",
    "                            name = 'conv1'))\n",
    "    \n",
    "    model.add(ELU())    \n",
    "    model.add(Convolution2D(36, 5, 5, \n",
    "                            subsample=(2,2), \n",
    "                            border_mode = 'valid',\n",
    "                            init = 'he_normal',\n",
    "                            name = 'conv2'))\n",
    "    \n",
    "    model.add(ELU())    \n",
    "    model.add(Convolution2D(48, 5, 5, \n",
    "                            subsample=(2,2), \n",
    "                            border_mode = 'valid',\n",
    "                            init = 'he_normal',\n",
    "                            name = 'conv3'))\n",
    "    model.add(ELU())\n",
    "    model.add(Dropout(0.5))\n",
    "    model.add(Convolution2D(64, 3, 3, \n",
    "                            subsample = (1,1), \n",
    "                            border_mode = 'valid',\n",
    "                            init = 'he_normal', #gaussian init\n",
    "                            name = 'conv4'))\n",
    "    \n",
    "    model.add(ELU())              \n",
    "    model.add(Convolution2D(64, 3, 3, \n",
    "                            subsample= (1,1), \n",
    "                            border_mode = 'valid',\n",
    "                            init = 'he_normal',\n",
    "                            name = 'conv5'))\n",
    "              \n",
    "              \n",
    "    model.add(Flatten(name = 'flatten'))\n",
    "    model.add(ELU())\n",
    "    model.add(Dense(100, init = 'he_normal', name = 'fc1'))\n",
    "    model.add(ELU())\n",
    "    model.add(Dense(50, init = 'he_normal', name = 'fc2'))\n",
    "    model.add(ELU())\n",
    "    model.add(Dense(10, init = 'he_normal', name = 'fc3'))\n",
    "    model.add(ELU())\n",
    "    \n",
    "    # do not put activation at the end because we want to exact output, not a class identifier\n",
    "    model.add(Dense(1, name = 'output', init = 'he_normal'))\n",
    "    \n",
    "    adam = Adam(lr=1e-4, beta_1=0.9, beta_2=0.999, epsilon=1e-08, decay=0.0)\n",
    "    model.compile(optimizer = adam, loss = 'mse')\n",
    "\n",
    "    return model\n"
   ]
  },
  {
   "cell_type": "markdown",
   "metadata": {},
   "source": [
    "### Saving"
   ]
  },
  {
   "cell_type": "code",
   "execution_count": 37,
   "metadata": {
    "collapsed": true
   },
   "outputs": [],
   "source": [
    "from pathlib import Path\n",
    "import json\n",
    "\n",
    "def save_model(modelJSON, weights):\n",
    "\n",
    "    print('saving model to disk: ', modelJSON, weights)\n",
    "    \n",
    "    if Path(modelJSON).is_file():\n",
    "        os.remove(modelJSON)\n",
    "    json_string = model.to_json()\n",
    "    \n",
    "    with open(modelJSON,'w' ) as f:\n",
    "        json.dump(json_string, f)\n",
    "    if Path(weights).is_file():\n",
    "        os.remove(weights)\n",
    "    model.save_weights(weights)"
   ]
  },
  {
   "cell_type": "code",
   "execution_count": 38,
   "metadata": {
    "collapsed": false
   },
   "outputs": [],
   "source": [
    "val_size = len(valid_data.index)\n",
    "valid_generator = generate_validation_data(valid_data)\n",
    "BATCH = 16"
   ]
  },
  {
   "cell_type": "code",
   "execution_count": 39,
   "metadata": {
    "collapsed": false
   },
   "outputs": [
    {
     "name": "stdout",
     "output_type": "stream",
     "text": [
      "Epoch 1/6\n"
     ]
    },
    {
     "name": "stderr",
     "output_type": "stream",
     "text": [
      "/home/jj/anaconda2/envs/python3/lib/python3.5/site-packages/ipykernel/__main__.py:9: VisibleDeprecationWarning: using a non-integer number instead of an integer will result in an error in the future\n"
     ]
    },
    {
     "name": "stdout",
     "output_type": "stream",
     "text": [
      "20480/20480 [==============================] - 121s - loss: 0.0308 - val_loss: 0.0464\n",
      "Epoch 2/6\n",
      "20480/20480 [==============================] - 118s - loss: 0.0265 - val_loss: 0.0426\n",
      "Epoch 3/6\n",
      "20480/20480 [==============================] - 117s - loss: 0.0229 - val_loss: 0.0417\n",
      "Epoch 4/6\n",
      "20480/20480 [==============================] - 119s - loss: 0.0205 - val_loss: 0.0362\n",
      "Epoch 5/6\n",
      "20480/20480 [==============================] - 117s - loss: 0.0201 - val_loss: 0.0348\n",
      "Epoch 6/6\n",
      "20480/20480 [==============================] - 118s - loss: 0.0192 - val_loss: 0.0336\n",
      "saving model to disk:  model_0.json model_0.h5\n"
     ]
    },
    {
     "ename": "NameError",
     "evalue": "name 'val_best' is not defined",
     "output_type": "error",
     "traceback": [
      "\u001b[0;31m---------------------------------------------------------------------------\u001b[0m",
      "\u001b[0;31mNameError\u001b[0m                                 Traceback (most recent call last)",
      "\u001b[0;32m<ipython-input-39-22784a0caa6b>\u001b[0m in \u001b[0;36m<module>\u001b[0;34m()\u001b[0m\n\u001b[1;32m     18\u001b[0m \u001b[0;34m\u001b[0m\u001b[0m\n\u001b[1;32m     19\u001b[0m     \u001b[0;31m# check which model has lowerst validation loss and set that to the model to be saves\u001b[0m\u001b[0;34m\u001b[0m\u001b[0;34m\u001b[0m\u001b[0m\n\u001b[0;32m---> 20\u001b[0;31m     \u001b[0;32mif\u001b[0m \u001b[0mval_loss\u001b[0m \u001b[0;34m<\u001b[0m \u001b[0mval_best\u001b[0m\u001b[0;34m:\u001b[0m\u001b[0;34m\u001b[0m\u001b[0m\n\u001b[0m\u001b[1;32m     21\u001b[0m         \u001b[0mval_best\u001b[0m \u001b[0;34m=\u001b[0m \u001b[0mval_loss\u001b[0m\u001b[0;34m\u001b[0m\u001b[0m\n\u001b[1;32m     22\u001b[0m         \u001b[0mi_best\u001b[0m \u001b[0;34m=\u001b[0m \u001b[0mi\u001b[0m\u001b[0;34m\u001b[0m\u001b[0m\n",
      "\u001b[0;31mNameError\u001b[0m: name 'val_best' is not defined"
     ]
    }
   ],
   "source": [
    "model = nvidia_model()\n",
    "train_size = len(train_data.index)\n",
    "\n",
    "i_best = 0\n",
    "val_best = 100000000\n",
    "for i in range(3):\n",
    "    train_generator = generate_training_data(train_data, BATCH)\n",
    "    history = model.fit_generator(\n",
    "            train_generator, \n",
    "            samples_per_epoch = 20480, # try putting the whole thing in here in the future\n",
    "            nb_epoch = 6,\n",
    "            validation_data = valid_generator,\n",
    "            nb_val_samples = val_size)\n",
    "\n",
    "    modelJSON = 'model_' + str(i) + '.json'\n",
    "    weights = 'model_' + str(i) + '.h5'\n",
    "    \n",
    "    save_model(modelJSON, weights)\n",
    "    \n",
    "    val_loss = history.history['val_loss'][0]\n",
    "    \n",
    "    # check which model has lowerst validation loss and set that to the model to be saves\n",
    "    if val_loss < val_best:\n",
    "        val_best = val_loss\n",
    "        i_best = i\n",
    "        \n",
    "print('best model at : ', i_best)\n",
    "print('lowest val loss at : ', val_best)"
   ]
  },
  {
   "cell_type": "markdown",
   "metadata": {},
   "source": [
    "## Visualizing Loss"
   ]
  },
  {
   "cell_type": "code",
   "execution_count": null,
   "metadata": {
    "collapsed": false
   },
   "outputs": [],
   "source": [
    "print(history.history.keys())\n",
    "\n",
    "### plot the training and validation loss for each epoch\n",
    "plt.plot(history.history['loss'])\n",
    "plt.plot(history.history['val_loss'])\n",
    "plt.title('model mean squared error loss')\n",
    "plt.ylabel('mean squared error loss')\n",
    "plt.xlabel('epoch')\n",
    "plt.legend(['training set', 'validation set'], loc='upper right')\n",
    "plt.show()"
   ]
  },
  {
   "cell_type": "markdown",
   "metadata": {},
   "source": [
    "### RANDOM TEST"
   ]
  },
  {
   "cell_type": "markdown",
   "metadata": {},
   "source": [
    "### Visualize preprocessing"
   ]
  },
  {
   "cell_type": "markdown",
   "metadata": {},
   "source": [
    "Randomly select some data points and show how our preprocessing affects the images"
   ]
  },
  {
   "cell_type": "code",
   "execution_count": null,
   "metadata": {
    "collapsed": false
   },
   "outputs": [],
   "source": [
    "# random selection\n",
    "data = train_data\n",
    "random_images = []\n",
    "for i in range(20):\n",
    "    idx = np.random.randint(len(data))\n",
    "    row = data.iloc[[idx]].reset_index()\n",
    "    x, y = preprocess_image_from_path(row['center'].values[0], row['steering'].values[0])\n",
    "    random_images.append((x, y))\n",
    "    \n",
    "plt.figure(figsize=(16, 10))\n",
    "gs1 = gridspec.GridSpec(4, 5)\n",
    "gs1.update(wspace = 0.01, hspace = 0.01)\n",
    "for idx, image in enumerate(random_images):\n",
    "    angle = 'ang: ' + str(image[1]) \n",
    "    ax1 = plt.subplot(gs1[idx])\n",
    "    ax1.axis('off')\n",
    "    plt.title(angle)\n",
    "    plt.imshow(image[0])\n",
    "plt.show()"
   ]
  },
  {
   "cell_type": "markdown",
   "metadata": {},
   "source": [
    "At one point I tried to gaussian fit my data via angle distributions. Attempting this was a brutal task and I spent many many hours on it"
   ]
  },
  {
   "cell_type": "markdown",
   "metadata": {},
   "source": [
    "## Explanation"
   ]
  },
  {
   "cell_type": "markdown",
   "metadata": {},
   "source": [
    "### Data Acquisition"
   ]
  },
  {
   "cell_type": "markdown",
   "metadata": {},
   "source": [
    "### Gathering data"
   ]
  },
  {
   "cell_type": "markdown",
   "metadata": {},
   "source": [
    "I primarily used udacity's data and a recovery dataset. The recovery data was hard to gather because I do not have a controller. Udacity's provided data "
   ]
  },
  {
   "cell_type": "markdown",
   "metadata": {},
   "source": [
    "##### Data Harnessing\n",
    "At first I created a separate data acquisition file where I would acquire all my data, modify it, and then save it to a pickle file, and then import that data using the file where I would train my network. This eventually became too difficult to work with as the complexity of the project increased I found myself going between two files, and just hoping that I was passing the correct data through a pickle file. Eventually I decided to write everything in this jupyter notebook."
   ]
  },
  {
   "cell_type": "markdown",
   "metadata": {},
   "source": [
    "#### Data sorting\n",
    "I used pandas dataframes to sort through my data and aggregate it. This was extremely helpful because it allowed me to distinguish between turn types and camera types (center_cam, left_cam, right_cam). I took this approach after trying many times to use numpy arrays. With the numpy array implementation I was passing two arrays into my generators, with the dataframe implementation I only have to pass through the dataframe. This made life simpler"
   ]
  },
  {
   "cell_type": "markdown",
   "metadata": {},
   "source": [
    "#### Arrays vs Dataframes"
   ]
  },
  {
   "cell_type": "markdown",
   "metadata": {},
   "source": [
    "I had multiple implementations of this program. One was using numpy arrays, and the other is using dataframes. When I was using numpy arrays I had no way to nicely sort the center_turns, left_turns, and right_turns from each other because I simply concatenated them together into one large training array. I soon realized needed to separate each turn type in order to add more of some turns to balance out the histogram of steering angles. I had so many angles ~0 degrees (which is just the car going straight). Pandas dataframes were a great options for this. \n",
    "\n",
    "Originally I was just pushing all the images into an array, adding a correction factor to the left_cam images and subtracting a correction factor from the right images. However this was extremely inefficient. After choosing the pandas DataFrame method I was able to add the correction factor to left_camera and right_camera images on the fly and send them through the preprocessing pipeline"
   ]
  },
  {
   "cell_type": "markdown",
   "metadata": {},
   "source": [
    "#### Data Creation"
   ]
  },
  {
   "cell_type": "markdown",
   "metadata": {},
   "source": [
    "I added additional data from the existing data in this dataset to attempt to get a more uniform distribution of turn types. I added `18 X left_turns` and `12 x right_turns`. This was because my first goal was to get it working on track 1. In order to generalize to track two I should probably use `15 X left_turns` and `15 X right_turns`"
   ]
  },
  {
   "cell_type": "markdown",
   "metadata": {},
   "source": [
    "#### Histogram of steering angles"
   ]
  },
  {
   "cell_type": "markdown",
   "metadata": {},
   "source": [
    "When we are acquiring data on the track, we are primarily driving straight. So as you can see most of our steering angle values are 0 or very close to it. In order to train my model to turn as needed I had to try to get as close to a gaussian distribution of center_turns, left_turns, and right_turns. I chose gaussian as a goal because that would work on a track that is primarily straight (66% straight), and not primarily turn-based (33% turns) which is what I estimate the second track to be. Here we can observe the difference"
   ]
  },
  {
   "cell_type": "code",
   "execution_count": 49,
   "metadata": {
    "collapsed": false
   },
   "outputs": [
    {
     "data": {
      "text/plain": [
       "<matplotlib.image.AxesImage at 0x7fae4c07a438>"
      ]
     },
     "execution_count": 49,
     "metadata": {},
     "output_type": "execute_result"
    },
    {
     "data": {
      "image/png": "[encoded data removed]",
      "text/plain": [
       "<matplotlib.figure.Figure at 0x7fae439bba90>"
      ]
     },
     "metadata": {},
     "output_type": "display_data"
    }
   ],
   "source": [
    "hist_with_creation = mpimg.imread('train_data_steering.png')\n",
    "plt.title('steering angle histogram without data creation')\n",
    "plt.axis('off')\n",
    "plt.imshow(hist_with_creation)"
   ]
  },
  {
   "cell_type": "code",
   "execution_count": 50,
   "metadata": {
    "collapsed": false
   },
   "outputs": [
    {
     "data": {
      "text/plain": [
       "<matplotlib.image.AxesImage at 0x7fae68bef550>"
      ]
     },
     "execution_count": 50,
     "metadata": {},
     "output_type": "execute_result"
    },
    {
     "data": {
      "image/png": "[encoded data removed]",
      "text/plain": [
       "<matplotlib.figure.Figure at 0x7fae439c7ba8>"
      ]
     },
     "metadata": {},
     "output_type": "display_data"
    }
   ],
   "source": [
    "hist_no_creation = mpimg.imread('y_train_cwr2.png')\n",
    "plt.title('steering angle histogram with data creation')\n",
    "plt.axis('off')\n",
    "plt.imshow(hist_no_creation)"
   ]
  },
  {
   "cell_type": "markdown",
   "metadata": {},
   "source": [
    "### Preprocessing"
   ]
  },
  {
   "cell_type": "markdown",
   "metadata": {},
   "source": [
    "#### Brightness\n",
    "* I augmented the brightness by a random uniform value, this is because track 2 has shadows and images may appear darker than on track 1"
   ]
  },
  {
   "cell_type": "markdown",
   "metadata": {},
   "source": [
    "#### Flip\n",
    "* I flip each image with 50% chance. This is because I only used training data on a counter-clockwise track and I would like it to be able to work on a clockwise track. After flipping the images I inverted the steering angle"
   ]
  },
  {
   "cell_type": "markdown",
   "metadata": {},
   "source": [
    "#### Crop\n",
    "* I cropped each image to subtract the sky and the steering wheel from the height"
   ]
  },
  {
   "cell_type": "markdown",
   "metadata": {},
   "source": [
    "#### Resize\n",
    "* I resized each image from (160,320,3) to (66, 220, 3) to accompany The Nvidia Model Architecture"
   ]
  },
  {
   "cell_type": "markdown",
   "metadata": {},
   "source": [
    "### Generating Batches\n",
    "I chose to generate batches of my training data instead of yielding a single image each time so I have more control on the distribution of what gets yielded. If I was yielding an image each time, I would increase my `samples_per_epoch` in my `train_generator` to be equal to the number of sample images in my dataset. This way I simply make that a lower number and yield batches. Yielding batches also helps to avoid possible errors if I attempted to control the distribution of center_cam, left_cam, and right_cam images via probability"
   ]
  },
  {
   "cell_type": "markdown",
   "metadata": {},
   "source": [
    "##### Method 1:\n",
    "I already created additional data for each center_turn, left_turn, and right_turn respectively. What I attempted to do in my generator was double my batch size. From 16 to 32. \n",
    "* Immediately push in a center_cam processed image\n",
    "* 66% chance to push in another center_cam image\n",
    "* 33% chance to push in a left_cam image\n",
    "* 33% chance to push in a right_cam image\n",
    "This will allow me to introduce random left and right cam images into the dataset, creating additional data.\n",
    "* <strong>This worked! successful track 1</strong> <font color = 'red'>(submitted)</font>"
   ]
  },
  {
   "cell_type": "markdown",
   "metadata": {},
   "source": [
    "#### Method 2:\n",
    "The second method was to maintain the batch size at 32 images per batch and to create a 33% chance to push a center_cam, left_cam, or right_cam\n",
    "* 33% chance for center_cam\n",
    "* 33% chance for left_cam\n",
    "* 33% chance for right_cam"
   ]
  },
  {
   "cell_type": "markdown",
   "metadata": {},
   "source": [
    "#### Method 3:\n",
    "The third method was to maintain a batch size at 32 and only push in center images"
   ]
  },
  {
   "cell_type": "markdown",
   "metadata": {},
   "source": [
    "#### Method 4:\n",
    "Increase batch size to 256 and only use center images <strong>This worked also </strong>"
   ]
  },
  {
   "cell_type": "markdown",
   "metadata": {},
   "source": [
    "### Network Architecture"
   ]
  },
  {
   "cell_type": "markdown",
   "metadata": {},
   "source": [
    "I chose to use the Nvidia model [https://arxiv.org/pdf/1604.07316v1.pdf]. In the preprocessing stages I converted my image from 160,320,3 to 60, 220, 3 (RGB)\n",
    "* attempt 1: I attempted to convert the image to HSV and only normalize the S channel. This turned out to [add effect]\n",
    "* attempt 2: I kept the image as RGB and fed that into the network and performed normalization on all three channels [red, green, blue]"
   ]
  },
  {
   "cell_type": "markdown",
   "metadata": {},
   "source": [
    "I used ELu's because they push mean unit activation functions closer to zero [https://arxiv.org/pdf/1511.07289v1.pdf]"
   ]
  },
  {
   "cell_type": "markdown",
   "metadata": {},
   "source": [
    "#### Choice 1: Dropout"
   ]
  },
  {
   "cell_type": "markdown",
   "metadata": {},
   "source": [
    "I used dropout to increase normalization. I used a dropout `p = 0.5` between the 2nd and 3rd convolutional layers, before applying 64 filters. This basically dropped half the values right in the middle.\n",
    "* After adding the dropout layer I had to decrease my batch size significantly because I was running out of memory very fast\n",
    "* I moved my batch size from 128 to 16"
   ]
  },
  {
   "cell_type": "markdown",
   "metadata": {},
   "source": [
    "#### Choice 2: No Dropout"
   ]
  },
  {
   "cell_type": "markdown",
   "metadata": {},
   "source": [
    "#### ReLu's vs ELu's"
   ]
  },
  {
   "cell_type": "markdown",
   "metadata": {},
   "source": [
    "### Training"
   ]
  },
  {
   "cell_type": "markdown",
   "metadata": {},
   "source": [
    "* I used adam optimization and MSE\n",
    "* I used 20k samples per epoch because I have about 80k images and I do not want to sample the entire set each time"
   ]
  },
  {
   "cell_type": "markdown",
   "metadata": {},
   "source": [
    "I chose to train three models sequentialls, each picking up after the next one. This is kind of like transfer learning on the same network, I am just retraining it each time with the same weights intact"
   ]
  },
  {
   "cell_type": "markdown",
   "metadata": {},
   "source": [
    "## Getting it to work"
   ]
  },
  {
   "cell_type": "markdown",
   "metadata": {},
   "source": [
    "Most of this project was experimental. I would get the car to drive, and then run into some sort of wall or something. Then I would start tinkering with the preprocessing stages. I did not modify the network architecture that much other than including a dropout layer so I did not overfit my training data. The dropout layer will help me normalize and generalize to track 2"
   ]
  },
  {
   "cell_type": "markdown",
   "metadata": {
    "collapsed": true
   },
   "source": [
    "### Realizations:\n",
    "The worst part of this project was myself and my own habits. I wrote so much code that I ended up erasing. I tried to fit my dataset to a gaussian-like multimodal distribution using different steering angles and creating data based on a random gaussian percentage. I spent ~6 hours on this and I ended up scraping it because it didn't work because the mean was 0.004 and the stddev was 0.016 except for the fast that the steering angles are in completely different ranges. "
   ]
  },
  {
   "cell_type": "markdown",
   "metadata": {},
   "source": [
    "* My workflow was pretty neat. I trained the models on one computer (with a GPU) and then tested them on a laptop so I could perform a test at the same time I was training the next model with a new modification"
   ]
  },
  {
   "cell_type": "code",
   "execution_count": null,
   "metadata": {
    "collapsed": true
   },
   "outputs": [],
   "source": []
  }
 ],
 "metadata": {
  "anaconda-cloud": {},
  "kernelspec": {
   "display_name": "Python [conda env:python3]",
   "language": "python",
   "name": "conda-env-python3-py"
  },
  "language_info": {
   "codemirror_mode": {
    "name": "ipython",
    "version": 3
   },
   "file_extension": ".py",
   "mimetype": "text/x-python",
   "name": "python",
   "nbconvert_exporter": "python",
   "pygments_lexer": "ipython3",
   "version": "3.5.2"
  }
 },
 "nbformat": 4,
 "nbformat_minor": 1
}
